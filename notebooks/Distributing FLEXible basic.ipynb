{
 "cells": [
  {
   "cell_type": "markdown",
   "metadata": {},
   "source": [
    "# Distributed flexible\n",
    "\n",
    "In this notebook we are showing the prototype of using flexible as a solution for training in distributed environments. Note that the public API may change a lot and right now it is limited. At the moment we can spawn a server which is able to:\n",
    "- Send weights to their clients\n",
    "- Collect weights from their clients\n",
    "- Ask their clients to run training and or evaluation and get a metrics report"
   ]
  },
  {
   "cell_type": "markdown",
   "metadata": {},
   "source": [
    "## Building the client\n",
    "\n",
    "First we are going to show how to build a client in Flexible, in a file called `client.py` we will write the following code:"
   ]
  },
  {
   "cell_type": "code",
   "execution_count": null,
   "metadata": {},
   "outputs": [],
   "source": [
    "from flex.distributed.client import Client\n",
    "from flex.model import FlexModel\n",
    "from flex.data import Dataset\n",
    "import numpy as np\n",
    "from typing import List\n",
    "\n",
    "\n",
    "# We create a Client class which tell us how to eval, train, set and collect weights from a FlexModel\n",
    "class BasicClient(Client):\n",
    "    def set_weights(self, model: FlexModel, weights: List[np.ndarray]):\n",
    "        # Implement here your logic for setting weights\n",
    "        # Every weight we get is set to float32 for compatibility reasons\n",
    "        model[\"model\"] = weights\n",
    "\n",
    "    def get_weights(self, model: FlexModel) -> List[np.ndarray]:\n",
    "        # Implement here your logic for extracting weights\n",
    "        # Every weight will be converted to float32 for compatibility reasons\n",
    "        return model.get(\"model\", [])\n",
    "\n",
    "    def train(self, model: FlexModel, data: Dataset):\n",
    "        # Implement here your training logic\n",
    "        # We must return a dictionary with str as keys and float as values with the metrics\n",
    "        return {\"accuracy\": 1.0}\n",
    "\n",
    "    def eval(self, model: FlexModel, data: Dataset):\n",
    "        # Implement here your training logic\n",
    "        # We must return a dictionary with str as keys and float as values with the metrics\n",
    "        return {\"accuracy\": 1.0}\n",
    "\n",
    "\n",
    "if __name__ == \"__main__\":\n",
    "    # Please note that we must initialize the model before creating the client\n",
    "    model = FlexModel()\n",
    "    dataset = Dataset.from_array([1, 2, 3], [1, 2, 3])\n",
    "    # Finally run the model in order to connect to the server\n",
    "    BasicClient(dataset, model, dataset).run(address=\"localhost:50051\")"
   ]
  },
  {
   "cell_type": "markdown",
   "metadata": {},
   "source": [
    "## Run the server\n",
    "Now we are going to create a server and show how it works, in a file called `server.py` we will write the following code:"
   ]
  },
  {
   "cell_type": "code",
   "execution_count": null,
   "metadata": {},
   "outputs": [],
   "source": [
    "from flex.distributed.server import Server\n",
    "\n",
    "if __name__ == \"__main__\":\n",
    "    from time import sleep\n",
    "\n",
    "    server = Server()\n",
    "    # Start listening\n",
    "    server.run(address=\"localhost\", port=50051)  # Listeng to port 50051\n",
    "    # We can know how many clients are connected by the length of the server\n",
    "    while len(server) == 0:\n",
    "        print(\"Waiting for clients...\")\n",
    "        sleep(1)\n",
    "\n",
    "    # We can also know their ids\n",
    "    ids = server.get_ids()\n",
    "    print(f\"Ids={ids}\")\n",
    "    # Now we will send weights to our client!\n",
    "    # We specify the ids so we only ask for those clients\n",
    "    server.send_weights(np.ones((1, 1)), node_ids=ids)\n",
    "    # We ask then to train\n",
    "    train_metrics = server.train(node_ids=ids)\n",
    "    # And inspect their metrics\n",
    "    print(f\"Train metrics = {train_metrics}\")\n",
    "    # Now we will extract their weights\n",
    "    client_weights = server.collect_weights(node_ids=ids)\n",
    "    # And inspect them\n",
    "    print(f\"Weights collected = {client_weights}\")\n",
    "    # Finally we stop the server\n",
    "    server.stop()"
   ]
  },
  {
   "cell_type": "markdown",
   "metadata": {},
   "source": [
    "And that is! It is very simple, note that we will need more boilerplate for aggregation or evaluating the model on the server but we are working on it!"
   ]
  }
 ],
 "metadata": {
  "kernelspec": {
   "display_name": "base",
   "language": "python",
   "name": "python3"
  },
  "language_info": {
   "name": "python",
   "version": "3.10.11"
  }
 },
 "nbformat": 4,
 "nbformat_minor": 2
}
