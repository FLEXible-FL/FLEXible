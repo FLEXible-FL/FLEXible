{
 "cells": [
  {
   "attachments": {},
   "cell_type": "markdown",
   "metadata": {},
   "source": [
    "# Create custom federated architectures using FLEXible\n",
    "\n",
    "In this notebook we show how to create customs architetures when working FLEXible. We hope that this notebook will help users to learn how to use the `FlexPool` class in case they want to create different architectures from the two available in the `FlexPool` class. Those methods are, `client_server_architecture` and `p2p_architecture`, and are the most probable type of architectures that might be found during a federated learning experiment, but it might be interesting to create another architecture."
   ]
  },
  {
   "cell_type": "code",
   "execution_count": null,
   "metadata": {},
   "outputs": [],
   "source": [
    "from flex.pool import FlexPool\n",
    "from flex.actors import FlexActors, FlexRole\n",
    "from flex.data import FedDataDistribution, Dataset\n",
    "\n",
    "from sklearn.datasets import load_iris\n",
    "from sklearn.model_selection import train_test_split"
   ]
  },
  {
   "attachments": {},
   "cell_type": "markdown",
   "metadata": {},
   "source": [
    "In this example we are going to use a simple dataset. This dataset is the Iris dataset, available in the sklearn library. Then, we are going to federate it as we need to have a Federated Dataset to create customs architectures using `FlexPool`."
   ]
  },
  {
   "cell_type": "code",
   "execution_count": null,
   "metadata": {},
   "outputs": [],
   "source": [
    "iris = load_iris()\n",
    "# Generate train-test splits\n",
    "X_train, X_test, y_train, y_test = train_test_split(iris.data, iris.target, test_size=0.33, random_state=42)\n",
    "\n",
    "train_iris = Dataset.from_numpy(X_train, y_train)\n",
    "test_iris = Dataset.from_numpy(X_test, y_test)\n",
    "\n",
    "federated_iris = FedDataDistribution.iid_distribution(train_iris, n_clients=5)"
   ]
  },
  {
   "attachments": {},
   "cell_type": "markdown",
   "metadata": {},
   "source": [
    "For each custom architecture, we're going to use the client's ids. As we didn't specify any custom client's ids, our ids are going to be numerical from 1 to N_clients.\n",
    "\n",
    "Now it's time to create some functions to create custom architectures."
   ]
  },
  {
   "cell_type": "code",
   "execution_count": null,
   "metadata": {},
   "outputs": [],
   "source": [
    "def custom_architecture_clients_as_aggregators(node_ids: list) -> FlexActors :\n",
    "    if \"server\" in node_ids:\n",
    "        raise ValueError(\n",
    "            \"The name 'server' is reserved only for the server in a client-server architecture.\"\n",
    "        )\n",
    "\n",
    "    actors = FlexActors()\n",
    "\n",
    "    for clitent_id in node_ids:\n",
    "        actors[clitent_id] = FlexRole.aggregator_client\n",
    "\n",
    "    actors['server'] = FlexRole.server\n",
    "\n",
    "    return actors"
   ]
  },
  {
   "cell_type": "code",
   "execution_count": null,
   "metadata": {},
   "outputs": [],
   "source": [
    "clients_aggregators_actors = custom_architecture_clients_as_aggregators(list(federated_iris.keys()))\n",
    "\n",
    "clients_aggregators_pool = FlexPool(federated_iris, clients_aggregators_actors)\n",
    "\n",
    "clients = clients_aggregators_pool.clients\n",
    "aggregators = clients_aggregators_pool.aggregators\n",
    "servers = clients_aggregators_pool.servers\n",
    "\n",
    "print(f\"Clients ids: {clients.actor_ids}\")\n",
    "print(f\"Aggregators ids: {aggregators.actor_ids}\")\n",
    "print(f\"Servers ids: {servers.actor_ids}\")\n",
    "\n",
    "print(f\"Clients and aggregators are the same actors: {sorted(clients.actor_ids) == sorted(aggregators.actor_ids)}\")"
   ]
  },
  {
   "attachments": {},
   "cell_type": "markdown",
   "metadata": {},
   "source": [
    "Now lets create an architecture where a number of clients will act as aggregators too."
   ]
  },
  {
   "cell_type": "code",
   "execution_count": null,
   "metadata": {},
   "outputs": [],
   "source": [
    "def custom_architecture_n_clients_as_aggregators(node_ids: list, n_clients_as_aggregators) -> FlexActors :\n",
    "    if \"server\" in node_ids:\n",
    "        raise ValueError(\n",
    "            \"The name 'server' is reserved only for the server in a client-server architecture.\"\n",
    "        )\n",
    "\n",
    "    n_clients_as_aggregators = min(n_clients_as_aggregators, len(node_ids))\n",
    "\n",
    "    actors = FlexActors()\n",
    "\n",
    "    for client_id in range(n_clients_as_aggregators):\n",
    "        actors[client_id] = FlexRole.aggregator_client\n",
    "\n",
    "    for client_id in range(n_clients_as_aggregators, len(node_ids)):\n",
    "        actors[client_id] = FlexRole.client\n",
    "\n",
    "    actors['server'] = FlexRole.server\n",
    "\n",
    "    return actors"
   ]
  },
  {
   "cell_type": "code",
   "execution_count": null,
   "metadata": {},
   "outputs": [],
   "source": [
    "n_clients_as_aggregators_actors = custom_architecture_n_clients_as_aggregators(list(federated_iris.keys()), n_clients_as_aggregators=5)\n",
    "\n",
    "n_clients_as_aggregators_pool = FlexPool(federated_iris, n_clients_as_aggregators_actors)\n",
    "\n",
    "clients = n_clients_as_aggregators_pool.clients\n",
    "aggregators = n_clients_as_aggregators_pool.aggregators\n",
    "servers = n_clients_as_aggregators_pool.servers\n",
    "\n",
    "print(f\"Clients ids: {clients.actor_ids}\")\n",
    "print(f\"Aggregators ids: {aggregators.actor_ids}\")\n",
    "print(f\"Servers ids: {servers.actor_ids}\")"
   ]
  },
  {
   "attachments": {},
   "cell_type": "markdown",
   "metadata": {},
   "source": [
    "Now lets create a \"random\" custom architecture, that will be moreover manually created."
   ]
  },
  {
   "cell_type": "code",
   "execution_count": null,
   "metadata": {},
   "outputs": [],
   "source": [
    "def custom_architecture(node_ids: list) -> FlexActors :\n",
    "    if \"server\" in node_ids:\n",
    "        raise ValueError(\n",
    "            \"The name 'server' is reserved only for the server in a client-server architecture.\"\n",
    "        )\n",
    "\n",
    "    import numpy as np\n",
    "\n",
    "    n_nodes = len(node_ids)\n",
    "    print(f\"Total number of available clients: {n_nodes}\")\n",
    "    n_clients_aggregators = np.random.randint(low=0, high=n_nodes//2)\n",
    "    print(f\"Clients as aggregators: {n_clients_aggregators}\")\n",
    "    n_clients_servers = np.random.randint(low=0, high=n_nodes-n_clients_aggregators)\n",
    "    print(f\"Clients as servers: {n_clients_servers}\")\n",
    "    rest_clients = n_nodes - (n_clients_aggregators + n_clients_servers)\n",
    "    print(f\"Only clients: {rest_clients}\")\n",
    "    actors = FlexActors(\n",
    "        {node_ids[client_id]: FlexRole.aggregator_client for client_id in range(n_clients_aggregators)}\n",
    "    )\n",
    "\n",
    "    actors.update(\n",
    "        FlexActors({node_ids[client_id]: FlexRole.server_client for client_id in range(n_clients_aggregators, n_nodes-rest_clients)})\n",
    "    )\n",
    "\n",
    "    actors.update(\n",
    "        FlexActors({node_ids[client_id]: FlexRole.client for client_id in range(n_clients_aggregators+n_clients_servers, n_nodes)})\n",
    "    )\n",
    "\n",
    "    if n_clients_servers == 0:\n",
    "        actors['server'] = FlexRole.server\n",
    "\n",
    "    return actors"
   ]
  },
  {
   "cell_type": "code",
   "execution_count": null,
   "metadata": {},
   "outputs": [],
   "source": [
    "custom_actors = custom_architecture(list(federated_iris.keys()))\n",
    "\n",
    "custom_pool = FlexPool(federated_iris, custom_actors)\n",
    "\n",
    "clients = custom_pool.clients\n",
    "aggregators = custom_pool.aggregators\n",
    "servers = custom_pool.servers\n",
    "\n",
    "print(f\"Clients ids: {clients.actor_ids}\")\n",
    "print(f\"Aggregators ids: {aggregators.actor_ids}\")\n",
    "print(f\"Servers ids: {servers.actor_ids}\")"
   ]
  },
  {
   "attachments": {},
   "cell_type": "markdown",
   "metadata": {},
   "source": [
    "Another custom architecture that might be present in a real scenario, is one where we have N clients, M aggregators and a server. In this architecture, we try to simulate that the N clients are distributed by locations, and those aggregators that are near those clients, will communicate each other in order to reduce the connection time during training."
   ]
  },
  {
   "cell_type": "code",
   "execution_count": null,
   "metadata": {},
   "outputs": [],
   "source": [
    "def real_scenario(node_ids: list, n_aggregators: int) -> FlexActors:\n",
    "    if \"server\" in node_ids:\n",
    "        raise ValueError(\n",
    "            \"The name 'server' is reserved only for the server in a client-server architecture.\"\n",
    "        )\n",
    "\n",
    "    actors = FlexActors(\n",
    "        {node_ids[client_id]: FlexRole.client for client_id in node_ids}\n",
    "    )\n",
    "\n",
    "    actors.update(\n",
    "        FlexActors({f\"aggregator_{agg_id}\": FlexRole.aggregator for agg_id in range(n_aggregators)})\n",
    "    )\n",
    "\n",
    "    actors['server'] = FlexRole.server\n",
    "\n",
    "    return actors"
   ]
  },
  {
   "cell_type": "code",
   "execution_count": null,
   "metadata": {},
   "outputs": [],
   "source": [
    "real_scenario_actors = real_scenario(list(federated_iris.keys()), n_aggregators=2)\n",
    "\n",
    "real_scenario_pool = FlexPool(federated_iris, real_scenario_actors)\n",
    "\n",
    "clients = real_scenario_pool.clients\n",
    "aggregators = real_scenario_pool.aggregators\n",
    "servers = real_scenario_pool.servers\n",
    "\n",
    "print(f\"Clients ids: {clients.actor_ids}\")\n",
    "print(f\"Aggregators ids: {aggregators.actor_ids}\")\n",
    "print(f\"Servers ids: {servers.actor_ids}\")"
   ]
  },
  {
   "attachments": {},
   "cell_type": "markdown",
   "metadata": {},
   "source": [
    "After creating the pool, we can initilize the server model using the `map` function available in the `FlexPool`class, that act as a communication function between the different actors from the same pool. \n",
    "\n",
    "In this example, we are going to use the `init_server_model` decorator. To learn more about the `map` function and how to use it with the primitives or the decorators, please, refer to the notebooks that show how to train a model using the different frameworks."
   ]
  },
  {
   "cell_type": "code",
   "execution_count": null,
   "metadata": {},
   "outputs": [],
   "source": [
    "from flex.pool.decorators import init_server_model\n",
    "\n",
    "import tensorflow as tf\n",
    "\n",
    "@init_server_model\n",
    "def define_model(**kwargs):\n",
    "    from copy import deepcopy\n",
    "    input_shape = kwargs['input_shape']\n",
    "    n_classes = kwargs['n_classes']\n",
    "    model = tf.keras.Sequential()\n",
    "    model.add(tf.keras.layers.Input(shape=input_shape))\n",
    "    model.add(tf.keras.layers.Dense(units=64))\n",
    "    model.add(tf.keras.layers.Dense(n_classes))\n",
    "    model.compile(\n",
    "        optimizer='adam',\n",
    "        loss=tf.losses.BinaryCrossentropy(from_logits=True),\n",
    "        metrics=[tf.metrics.Accuracy(name='accuracy')],\n",
    "    )\n",
    "    from flex.model import FlexModel\n",
    "    server_flex_model = FlexModel()\n",
    "    server_flex_model[\"model\"] = model\n",
    "    server_flex_model[\"loss\"] = deepcopy(model.loss)\n",
    "    server_flex_model[\"metrics\"] = deepcopy(model.compiled_metrics._metrics)\n",
    "    server_flex_model[\"optimizer\"] = deepcopy(model.optimizer)\n",
    "    return server_flex_model"
   ]
  },
  {
   "cell_type": "code",
   "execution_count": null,
   "metadata": {},
   "outputs": [],
   "source": [
    "real_scenario_pool.servers.map(define_model, input_shape=iris.data.shape[1], n_classes=len(set(iris.target)))\n",
    "\n",
    "print(\"Let's show the models available in the pool:\")\n",
    "print(real_scenario_pool._models)"
   ]
  },
  {
   "attachments": {},
   "cell_type": "markdown",
   "metadata": {},
   "source": [
    "We can see that the server model is initilized, and that this model must be deployed to the clients to start training the model."
   ]
  },
  {
   "attachments": {},
   "cell_type": "markdown",
   "metadata": {},
   "source": [
    "Usually, we are going to work with the client-server architecture, as is the most common arquitecture in Federated Learning, so we can just simply use the classmethod available in `FlexPool`. Using the `client_server_architecture`or the `p2p_architecture`functions, we have to pass as argument the function that initilize the server model. "
   ]
  },
  {
   "cell_type": "code",
   "execution_count": null,
   "metadata": {},
   "outputs": [],
   "source": [
    "pool = FlexPool.client_server_architecture(fed_dataset=federated_iris, init_func=define_model, input_shape=iris.data.shape[1], n_classes=len(set(iris.target)))\n",
    "\n",
    "clients = pool.clients\n",
    "aggregators = pool.aggregators\n",
    "servers = pool.servers\n",
    "\n",
    "print(f\"Clients ids: {clients.actor_ids}\")\n",
    "print(f\"Aggregators ids: {aggregators.actor_ids}\")\n",
    "print(f\"Servers ids: {servers.actor_ids}\")\n",
    "\n",
    "print(f\"Server model initialized: {pool.servers._models}\")"
   ]
  },
  {
   "attachments": {},
   "cell_type": "markdown",
   "metadata": {},
   "source": [
    "# END\n",
    "\n",
    "We have shown how to create custom architetures using the FlexPool initializer instead of using the `class_methods` that are already implemented in the `FlexPool`class."
   ]
  }
 ],
 "metadata": {
  "kernelspec": {
   "display_name": "flexible",
   "language": "python",
   "name": "python3"
  },
  "language_info": {
   "codemirror_mode": {
    "name": "ipython",
    "version": 3
   },
   "file_extension": ".py",
   "mimetype": "text/x-python",
   "name": "python",
   "nbconvert_exporter": "python",
   "pygments_lexer": "ipython3",
   "version": "3.9.16"
  },
  "orig_nbformat": 4
 },
 "nbformat": 4,
 "nbformat_minor": 2
}
