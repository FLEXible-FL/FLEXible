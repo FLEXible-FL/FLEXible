{
 "cells": [
  {
   "attachments": {},
   "cell_type": "markdown",
   "metadata": {},
   "source": [
    "# Create custom federated architectures using FLEXible\n",
    "\n",
    "In this notebook we show how to create customs architetures when working FLEXible. We hope that this notebook will help users to learn how to use the `FlexPool` class in case they want to create different architectures from the two available in the `FlexPool` class. Those methods are, `client_server_architecture` and `p2p_architecture`, and are the most probable type of architectures that might be found during a federated learning experiment, but it might be interesting to create another architecture."
   ]
  },
  {
   "cell_type": "code",
   "execution_count": null,
   "metadata": {},
   "outputs": [],
   "source": [
    "from flex.pool import FlexPool\n",
    "from flex.actors import FlexActors, FlexRole\n",
    "from flex.data import FedDataDistribution, Dataset\n",
    "\n",
    "from sklearn.datasets import load_iris\n",
    "from sklearn.model_selection import train_test_split"
   ]
  },
  {
   "attachments": {},
   "cell_type": "markdown",
   "metadata": {},
   "source": [
    "In this example we are going to use a simple dataset. This dataset is the Iris dataset, available in the sklearn library. Then, we are going to federate it as we need to have a Federated Dataset to create customs architectures using `FlexPool`."
   ]
  },
  {
   "cell_type": "code",
   "execution_count": null,
   "metadata": {},
   "outputs": [],
   "source": [
    "iris = load_iris()\n",
    "# Generate train-test splits\n",
    "X_train, X_test, y_train, y_test = train_test_split(iris.data, iris.target, test_size=0.33, random_state=42)\n",
    "\n",
    "train_iris = Dataset(X_train, y_train)\n",
    "test_iris = Dataset(X_test, y_test)\n",
    "\n",
    "federated_iris = FedDataDistribution.iid_distribution(train_iris, n_clients=5)"
   ]
  },
  {
   "attachments": {},
   "cell_type": "markdown",
   "metadata": {},
   "source": [
    "Now it's time to create some functions to create custom architectures."
   ]
  },
  {
   "cell_type": "code",
   "execution_count": null,
   "metadata": {},
   "outputs": [],
   "source": [
    "def custom_architecture_clients_as_aggregators(clients_ids: list) -> FlexActors :\n",
    "    if \"server\" in clients_ids:\n",
    "        raise ValueError(\n",
    "            \"The name 'server' is reserved only for the server in a client-server architecture.\"\n",
    "        )\n",
    "\n",
    "    actors = FlexActors(\n",
    "        {client_id: FlexRole.aggregator_client for client_id in clients_ids}\n",
    "    )\n",
    "\n",
    "    actors['server'] = FlexRole.server\n",
    "\n",
    "    return actors"
   ]
  },
  {
   "cell_type": "code",
   "execution_count": null,
   "metadata": {},
   "outputs": [],
   "source": [
    "clients_aggregators_actors = custom_architecture_clients_as_aggregators(list(federated_iris.keys()))\n",
    "\n",
    "clients_aggregators_pool = FlexPool(federated_iris, clients_aggregators_actors)\n",
    "\n",
    "clients = clients_aggregators_pool.clients\n",
    "aggregators = clients_aggregators_pool.aggregators\n",
    "servers = clients_aggregators_pool.servers\n",
    "\n",
    "print(f\"Clients ids: {clients.actor_ids}\")\n",
    "print(f\"Aggregators ids: {aggregators.actor_ids}\")\n",
    "print(f\"Servers ids: {servers.actor_ids}\")\n",
    "\n",
    "print(f\"Clients and aggregators are the same actors: {sorted(clients.actor_ids) == sorted(aggregators.actor_ids)}\")"
   ]
  },
  {
   "attachments": {},
   "cell_type": "markdown",
   "metadata": {},
   "source": [
    "Now lets create an architecture where a number of clients will act as aggregators too."
   ]
  },
  {
   "cell_type": "code",
   "execution_count": null,
   "metadata": {},
   "outputs": [],
   "source": [
    "def custom_architecture_n_clients_as_aggregators(clients_ids: list, n_clients_as_aggregators) -> FlexActors :\n",
    "    if \"server\" in clients_ids:\n",
    "        raise ValueError(\n",
    "            \"The name 'server' is reserved only for the server in a client-server architecture.\"\n",
    "        )\n",
    "\n",
    "    n_clients_as_aggregators = min(n_clients_as_aggregators, len(clients_ids))\n",
    "\n",
    "    actors = FlexActors(\n",
    "        {clients_ids[client_id]: FlexRole.aggregator_client for client_id in range(n_clients_as_aggregators)}\n",
    "    )\n",
    "\n",
    "    actors.update(\n",
    "        FlexActors({clients_ids[client_id]: FlexRole.client for client_id in range(n_clients_as_aggregators, len(clients_ids))})\n",
    "    )\n",
    "\n",
    "    actors['server'] = FlexRole.server\n",
    "\n",
    "    return actors"
   ]
  },
  {
   "cell_type": "code",
   "execution_count": null,
   "metadata": {},
   "outputs": [],
   "source": [
    "n_clients_as_aggregators_actors = custom_architecture_n_clients_as_aggregators(list(federated_iris.keys()), n_clients_as_aggregators=5)\n",
    "\n",
    "n_clients_as_aggregators_pool = FlexPool(federated_iris, n_clients_as_aggregators_actors)\n",
    "\n",
    "clients = n_clients_as_aggregators_pool.clients\n",
    "aggregators = n_clients_as_aggregators_pool.aggregators\n",
    "servers = n_clients_as_aggregators_pool.servers\n",
    "\n",
    "print(f\"Clients ids: {clients.actor_ids}\")\n",
    "print(f\"Aggregators ids: {aggregators.actor_ids}\")\n",
    "print(f\"Servers ids: {servers.actor_ids}\")"
   ]
  },
  {
   "attachments": {},
   "cell_type": "markdown",
   "metadata": {},
   "source": [
    "Now lets create a \"random\" custom architecture, that will be moreover manually created."
   ]
  },
  {
   "cell_type": "code",
   "execution_count": null,
   "metadata": {},
   "outputs": [],
   "source": [
    "def custom_architecture(clients_ids: list) -> FlexActors :\n",
    "    if \"server\" in clients_ids:\n",
    "        raise ValueError(\n",
    "            \"The name 'server' is reserved only for the server in a client-server architecture.\"\n",
    "        )\n",
    "\n",
    "    import numpy as np\n",
    "\n",
    "    n_clients = len(clients_ids)\n",
    "    print(f\"Total number of clients: {n_clients}\")\n",
    "    n_clients_aggregators = np.random.randint(low=0, high=n_clients//2)\n",
    "    print(f\"Clients as aggregators: {n_clients_aggregators}\")\n",
    "    n_clients_servers = np.random.randint(low=0, high=n_clients-n_clients_aggregators)\n",
    "    print(f\"Clients as servers: {n_clients_servers}\")\n",
    "    rest_clients = n_clients - (n_clients_aggregators + n_clients_servers)\n",
    "    print(f\"Only clients: {rest_clients}\")\n",
    "    actors = FlexActors(\n",
    "        {clients_ids[client_id]: FlexRole.aggregator_client for client_id in range(n_clients_aggregators)}\n",
    "    )\n",
    "\n",
    "    actors.update(\n",
    "        FlexActors({clients_ids[client_id]: FlexRole.server_client for client_id in range(n_clients_aggregators, n_clients-rest_clients)})\n",
    "    )\n",
    "\n",
    "    actors.update(\n",
    "        FlexActors({clients_ids[client_id]: FlexRole.client for client_id in range(n_clients_aggregators+n_clients_servers, n_clients)})\n",
    "    )\n",
    "\n",
    "    if n_clients_servers == 0:\n",
    "        actors['server'] = FlexRole.server\n",
    "\n",
    "    return actors"
   ]
  },
  {
   "cell_type": "code",
   "execution_count": null,
   "metadata": {},
   "outputs": [],
   "source": [
    "custom_actors = custom_architecture(list(federated_iris.keys()))\n",
    "\n",
    "custom_pool = FlexPool(federated_iris, custom_actors)\n",
    "\n",
    "clients = custom_pool.clients\n",
    "aggregators = custom_pool.aggregators\n",
    "servers = custom_pool.servers\n",
    "\n",
    "print(f\"Clients ids: {clients.actor_ids}\")\n",
    "print(f\"Aggregators ids: {aggregators.actor_ids}\")\n",
    "print(f\"Servers ids: {servers.actor_ids}\")"
   ]
  },
  {
   "attachments": {},
   "cell_type": "markdown",
   "metadata": {},
   "source": [
    "# END\n",
    "\n",
    "We have shown how to create custom architetures using the FlexPool initializer instead of using the `class_methods` that are already implemented in the `FlexPool`class."
   ]
  }
 ],
 "metadata": {
  "kernelspec": {
   "display_name": "flexible",
   "language": "python",
   "name": "python3"
  },
  "language_info": {
   "codemirror_mode": {
    "name": "ipython",
    "version": 3
   },
   "file_extension": ".py",
   "mimetype": "text/x-python",
   "name": "python",
   "nbconvert_exporter": "python",
   "pygments_lexer": "ipython3",
   "version": "3.11.4"
  },
  "orig_nbformat": 4
 },
 "nbformat": 4,
 "nbformat_minor": 2
}
