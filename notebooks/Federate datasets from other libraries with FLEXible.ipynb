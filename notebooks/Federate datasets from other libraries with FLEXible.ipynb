{
 "cells": [
  {
   "cell_type": "markdown",
   "metadata": {},
   "source": [
    "# Federate a dataset from torchtext, torchvision, tensorflow or huggingface\n",
    "\n",
    "There are a lot of datasets available on the main deep learning frameworks that make it easy to use their own framework. It's important to let the user to use this datasets, and we do so the user can use her favorites datasets and federate them.\n",
    "\n",
    "We show multiple examples on how to load and federate the datasets.\n",
    "\n",
    "For every framework we support, there are two possible ways to load a dataset:"
   ]
  },
  {
   "cell_type": "code",
   "execution_count": null,
   "metadata": {},
   "outputs": [],
   "source": [
    "from flex.data import FlexDataObject\n",
    "from flex.data import FlexDataDistribution\n",
    "from flex.data import FlexDatasetConfig"
   ]
  },
  {
   "cell_type": "markdown",
   "metadata": {},
   "source": [
    "## HugginFace"
   ]
  },
  {
   "cell_type": "code",
   "execution_count": null,
   "metadata": {},
   "outputs": [],
   "source": [
    "# HuggingFace\n",
    "from datasets import load_dataset\n",
    "\n",
    "# Load a dataset into a FlexDataObject\n",
    "dataset_hf = load_dataset('ag_news', split='train')"
   ]
  },
  {
   "cell_type": "markdown",
   "metadata": {},
   "source": [
    "One way:"
   ]
  },
  {
   "cell_type": "code",
   "execution_count": null,
   "metadata": {},
   "outputs": [],
   "source": [
    "fcd_hf = FlexDataObject.from_huggingface_dataset(\n",
    "    dataset_hf, X_columns=\"text\", label_column=\"label\"\n",
    ")\n",
    "\n",
    "# Create a config and federate the dataset\n",
    "config_hf = FlexDatasetConfig(\n",
    "    seed=0,\n",
    "    n_clients=2,\n",
    "    replacement=False\n",
    ")\n",
    "\n",
    "\n",
    "flex_dataset_two_step_hf = FlexDataDistribution.from_config(\n",
    "    cdata=fcd_hf, config=config_hf\n",
    ")\n",
    "print(f\"Flex dataset two steps a data sample from client_0: {flex_dataset_two_step_hf['client_0'].X_data[0]}\")"
   ]
  },
  {
   "cell_type": "markdown",
   "metadata": {},
   "source": [
    "Or another (shortcut):"
   ]
  },
  {
   "cell_type": "code",
   "execution_count": null,
   "metadata": {},
   "outputs": [],
   "source": [
    "# Federate the dataset directly, only using a config.\n",
    "flex_dataset_hf = FlexDataDistribution.from_config_with_huggingface_dataset(\n",
    "    dataset_hf, config_hf, \"text\", \"label\"\n",
    ")\n",
    "\n",
    "print(f\"Flex dataset a data sample from client_0: {flex_dataset_hf['client_0'].X_data[0]}\")"
   ]
  },
  {
   "cell_type": "markdown",
   "metadata": {},
   "source": [
    "## Tensorflow dataset"
   ]
  },
  {
   "cell_type": "code",
   "execution_count": null,
   "metadata": {},
   "outputs": [],
   "source": [
    "import tensorflow_datasets as tfds\n",
    "\n",
    "mnist = tfds.load(\n",
    "    'mnist',\n",
    "    split=['train'],\n",
    "    shuffle_files=True,\n",
    "    as_supervised=True,\n",
    "    batch_size=-1, # this is required\n",
    ")"
   ]
  },
  {
   "cell_type": "markdown",
   "metadata": {},
   "source": [
    "One way:"
   ]
  },
  {
   "cell_type": "code",
   "execution_count": null,
   "metadata": {},
   "outputs": [],
   "source": [
    "fcd_tf = FlexDataObject.from_tfds_dataset(mnist)\n",
    "\n",
    "config_tf = FlexDatasetConfig(\n",
    "    seed=0,\n",
    "    n_clients=2,\n",
    "    replacement=False\n",
    ")\n",
    "\n",
    "\n",
    "# Federate the FlexDataObject we just created\n",
    "flex_dataset_two_step_tf = FlexDataDistribution.from_config(\n",
    "    cdata=fcd_tf,\n",
    "    config=config_tf\n",
    ")\n",
    "\n",
    "sample = flex_dataset_two_step_tf['client_0'].X_data[0]\n",
    "import matplotlib.pyplot as plt\n",
    "plt.imshow(sample, cmap=plt.get_cmap('gray'))"
   ]
  },
  {
   "cell_type": "markdown",
   "metadata": {},
   "source": [
    "Or another:"
   ]
  },
  {
   "cell_type": "code",
   "execution_count": null,
   "metadata": {
    "scrolled": true
   },
   "outputs": [],
   "source": [
    "# Federate the dataset directly\n",
    "flex_dataset_tf = FlexDataDistribution.from_config_with_tfds_dataset(\n",
    "    mnist,\n",
    "    config_tf\n",
    ")\n",
    "\n",
    "sample = flex_dataset_tf['client_0'].X_data[0]\n",
    "import matplotlib.pyplot as plt\n",
    "plt.imshow(sample, cmap=plt.get_cmap('gray'))"
   ]
  },
  {
   "cell_type": "markdown",
   "metadata": {},
   "source": [
    "## Pytorch torchvision dataset"
   ]
  },
  {
   "cell_type": "code",
   "execution_count": null,
   "metadata": {},
   "outputs": [],
   "source": [
    "from torchvision import datasets, transforms\n",
    "\n",
    "cifar10 = datasets.CIFAR10(\n",
    "        root=\".\",\n",
    "        train=True,\n",
    "        download=True,\n",
    "        transform=transforms.ToTensor()\n",
    ")"
   ]
  },
  {
   "cell_type": "markdown",
   "metadata": {},
   "source": [
    "One way:"
   ]
  },
  {
   "cell_type": "code",
   "execution_count": null,
   "metadata": {},
   "outputs": [],
   "source": [
    "fcd_torch = FlexDataObject.from_torchvision_dataset(cifar10)\n",
    "\n",
    "config_torch = FlexDatasetConfig(\n",
    "    seed=0,\n",
    "    n_clients=2,\n",
    "    replacement=False\n",
    ")\n",
    "\n",
    "# Federate the FlexDataObject we just created\n",
    "flex_dataset_two_step_torch = FlexDataDistribution.from_config(\n",
    "    cdata=fcd_torch,\n",
    "    config=config_torch\n",
    ")\n",
    "\n",
    "sample = flex_dataset_two_step_torch['client_0'].X_data[0]\n",
    "import matplotlib.pyplot as plt\n",
    "sample = sample.swapaxes(0,1)\n",
    "sample = sample.swapaxes(1,2)\n",
    "plt.imshow(sample, cmap=plt.get_cmap('gray'))"
   ]
  },
  {
   "cell_type": "markdown",
   "metadata": {},
   "source": [
    "Or another (shortcut):"
   ]
  },
  {
   "cell_type": "code",
   "execution_count": null,
   "metadata": {},
   "outputs": [],
   "source": [
    "# Federate the dataset directly\n",
    "flex_dataset_torch = FlexDataDistribution.from_config_with_torchvision_dataset(\n",
    "    cifar10,\n",
    "    config_tf\n",
    ")\n",
    "\n",
    "sample = flex_dataset_torch['client_0'].X_data[0]\n",
    "import matplotlib.pyplot as plt\n",
    "sample = sample.swapaxes(0,1)\n",
    "sample = sample.swapaxes(1,2)\n",
    "plt.imshow(sample, cmap=plt.get_cmap('gray'))"
   ]
  },
  {
   "cell_type": "markdown",
   "metadata": {},
   "source": [
    "## Pytorch torchtext dataset"
   ]
  },
  {
   "cell_type": "code",
   "execution_count": null,
   "metadata": {},
   "outputs": [],
   "source": [
    "from torchtext.datasets import AG_NEWS\n",
    "\n",
    "torch_dataset = AG_NEWS(split='train')"
   ]
  },
  {
   "cell_type": "markdown",
   "metadata": {},
   "source": [
    "One way:"
   ]
  },
  {
   "cell_type": "code",
   "execution_count": null,
   "metadata": {},
   "outputs": [],
   "source": [
    "fcd_torch = FlexDataObject.from_torchtext_dataset(torch_dataset)\n",
    "\n",
    "# We will use the same configuration than in the HuggingFace example\n",
    "config_torch = FlexDatasetConfig(\n",
    "    seed=0,\n",
    "    n_clients=2,\n",
    "    replacement=False\n",
    ")\n",
    "\n",
    "# Federate the FlexDataObject we just created\n",
    "flex_dataset_two_step_torch = FlexDataDistribution.from_config(\n",
    "    cdata=fcd_torch,\n",
    "    config=config_torch\n",
    ")\n",
    "\n",
    "print(f\"Flex dataset two steps: {flex_dataset_two_step_torch['client_0'].X_data[0]}\")"
   ]
  },
  {
   "cell_type": "markdown",
   "metadata": {},
   "source": [
    "Or another (shortcut):"
   ]
  },
  {
   "cell_type": "code",
   "execution_count": null,
   "metadata": {},
   "outputs": [],
   "source": [
    "# Federate the dataset directly\n",
    "flex_dataset_torch = FlexDataDistribution.from_config_with_torchtext_dataset(\n",
    "    torch_dataset,\n",
    "    config_torch\n",
    ")\n",
    "print(f\"Flex dataset direct: {flex_dataset_torch['client_0'].X_data[0]}\")"
   ]
  },
  {
   "cell_type": "markdown",
   "metadata": {},
   "source": [
    "### END\n",
    "Congratulations, now you know how to federate a dataset using the *FlexDataDistribution* and the *FlexDatasetConfig* classes, so you can setup multiple experimental settings that fit most your hipothesis."
   ]
  }
 ],
 "metadata": {
  "kernelspec": {
   "display_name": "Python 3 (ipykernel)",
   "language": "python",
   "name": "python3"
  },
  "language_info": {
   "codemirror_mode": {
    "name": "ipython",
    "version": 3
   },
   "file_extension": ".py",
   "mimetype": "text/x-python",
   "name": "python",
   "nbconvert_exporter": "python",
   "pygments_lexer": "ipython3",
   "version": "3.9.12"
  },
  "vscode": {
   "interpreter": {
    "hash": "4f7d2a9c5c2a9c2b510c9da0e3374aeab36a589c02bbbebadbda47bfb5610ebb"
   }
  }
 },
 "nbformat": 4,
 "nbformat_minor": 2
}
