{
 "cells": [
  {
   "attachments": {},
   "cell_type": "markdown",
   "metadata": {},
   "source": [
    "# Federate a dataset from torchtext, torchvision, tensorflow or huggingface\n",
    "\n",
    "There are a lot of datasets available on the main deep learning frameworks that make it easy to use their own framework. It's important to let the user to use this datasets, and we do so the user can use her favorites datasets and federate them.\n",
    "\n",
    "We show multiple examples on how to load and federate the datasets.\n",
    "\n",
    "For every framework we support, there are two possible ways to load a dataset:"
   ]
  },
  {
   "cell_type": "code",
   "execution_count": null,
   "metadata": {},
   "outputs": [],
   "source": [
    "from flex.data import Dataset\n",
    "from flex.data import FedDataDistribution\n",
    "from flex.data import FedDatasetConfig"
   ]
  },
  {
   "attachments": {},
   "cell_type": "markdown",
   "metadata": {},
   "source": [
    "## HugginFace"
   ]
  },
  {
   "cell_type": "code",
   "execution_count": null,
   "metadata": {},
   "outputs": [],
   "source": [
    "# HuggingFace\n",
    "from datasets import load_dataset\n",
    "\n",
    "# Load a dataset into a Dataset\n",
    "dataset_hf = load_dataset('ag_news', split='train')"
   ]
  },
  {
   "attachments": {},
   "cell_type": "markdown",
   "metadata": {},
   "source": [
    "One way:"
   ]
  },
  {
   "cell_type": "code",
   "execution_count": null,
   "metadata": {},
   "outputs": [],
   "source": [
    "fcd_hf = Dataset.from_huggingface_dataset(\n",
    "    dataset_hf, X_columns=\"text\", label_columns=\"label\"\n",
    ")\n",
    "\n",
    "# Create a config and federate the dataset\n",
    "config_hf = FedDatasetConfig(\n",
    "    seed=0,\n",
    "    n_clients=2,\n",
    "    replacement=False\n",
    ")\n",
    "\n",
    "\n",
    "flex_dataset_two_step_hf = FedDataDistribution.from_config(\n",
    "    centralized_data=fcd_hf, config=config_hf\n",
    ")\n",
    "print(f\"Flex dataset two steps a data sample from client_0: {flex_dataset_two_step_hf['client_0'].X_data[0]}\")"
   ]
  },
  {
   "attachments": {},
   "cell_type": "markdown",
   "metadata": {},
   "source": [
    "Or another (shortcut):"
   ]
  },
  {
   "cell_type": "code",
   "execution_count": null,
   "metadata": {},
   "outputs": [],
   "source": [
    "# Federate the dataset directly, only using a config.\n",
    "flex_dataset_hf = FedDataDistribution.from_config_with_huggingface_dataset(\n",
    "    dataset_hf, config_hf, \"text\", \"label\"\n",
    ")\n",
    "\n",
    "print(f\"Flex dataset a data sample from client_0: {flex_dataset_hf['client_0'].X_data[0]}\")"
   ]
  },
  {
   "attachments": {},
   "cell_type": "markdown",
   "metadata": {},
   "source": [
    "## Tensorflow dataset"
   ]
  },
  {
   "cell_type": "code",
   "execution_count": null,
   "metadata": {},
   "outputs": [],
   "source": [
    "import tensorflow_datasets as tfds\n",
    "\n",
    "mnist = tfds.load(\n",
    "    'mnist',\n",
    "    split=['train'],\n",
    "    shuffle_files=True,\n",
    "    as_supervised=True,\n",
    "    batch_size=-1, # this is required\n",
    ")"
   ]
  },
  {
   "attachments": {},
   "cell_type": "markdown",
   "metadata": {},
   "source": [
    "One way:"
   ]
  },
  {
   "cell_type": "code",
   "execution_count": null,
   "metadata": {},
   "outputs": [],
   "source": [
    "fcd_tf = Dataset.from_tfds_dataset(mnist)\n",
    "\n",
    "config_tf = FedDatasetConfig(\n",
    "    seed=0,\n",
    "    n_clients=2,\n",
    "    replacement=False\n",
    ")\n",
    "\n",
    "\n",
    "# Federate the Dataset we just created\n",
    "flex_dataset_two_step_tf = FedDataDistribution.from_config(\n",
    "    centralized_data=fcd_tf,\n",
    "    config=config_tf\n",
    ")\n",
    "\n",
    "sample = flex_dataset_two_step_tf['client_0'].X_data[0]\n",
    "import matplotlib.pyplot as plt\n",
    "plt.imshow(sample, cmap=plt.get_cmap('gray'))"
   ]
  },
  {
   "attachments": {},
   "cell_type": "markdown",
   "metadata": {},
   "source": [
    "Or another:"
   ]
  },
  {
   "cell_type": "code",
   "execution_count": null,
   "metadata": {
    "scrolled": true
   },
   "outputs": [],
   "source": [
    "# Federate the dataset directly\n",
    "flex_dataset_tf = FedDataDistribution.from_config_with_tfds_dataset(\n",
    "    mnist,\n",
    "    config_tf\n",
    ")\n",
    "\n",
    "sample = flex_dataset_tf['client_0'].X_data[0]\n",
    "import matplotlib.pyplot as plt\n",
    "plt.imshow(sample, cmap=plt.get_cmap('gray'))"
   ]
  },
  {
   "attachments": {},
   "cell_type": "markdown",
   "metadata": {},
   "source": [
    "## Pytorch torchvision dataset"
   ]
  },
  {
   "cell_type": "code",
   "execution_count": null,
   "metadata": {},
   "outputs": [],
   "source": [
    "from torchvision import datasets, transforms\n",
    "\n",
    "cifar10 = datasets.CIFAR10(\n",
    "        root=\".\",\n",
    "        train=True,\n",
    "        download=True,\n",
    "        transform=transforms.ToTensor()\n",
    ")"
   ]
  },
  {
   "attachments": {},
   "cell_type": "markdown",
   "metadata": {},
   "source": [
    "One way:"
   ]
  },
  {
   "cell_type": "code",
   "execution_count": null,
   "metadata": {},
   "outputs": [],
   "source": [
    "fcd_torch = Dataset.from_torchvision_dataset(cifar10)\n",
    "\n",
    "config_torch = FedDatasetConfig(\n",
    "    seed=0,\n",
    "    n_clients=2,\n",
    "    replacement=False\n",
    ")\n",
    "\n",
    "# Federate the Dataset we just created\n",
    "flex_dataset_two_step_torch = FedDataDistribution.from_config(\n",
    "    centralized_data=fcd_torch,\n",
    "    config=config_torch\n",
    ")\n",
    "\n",
    "sample = flex_dataset_two_step_torch['client_0'].X_data[0]\n",
    "import matplotlib.pyplot as plt\n",
    "sample = sample.swapaxes(0,1)\n",
    "sample = sample.swapaxes(1,2)\n",
    "plt.imshow(sample, cmap=plt.get_cmap('gray'))"
   ]
  },
  {
   "attachments": {},
   "cell_type": "markdown",
   "metadata": {},
   "source": [
    "Or another (shortcut):"
   ]
  },
  {
   "cell_type": "code",
   "execution_count": null,
   "metadata": {},
   "outputs": [],
   "source": [
    "# Federate the dataset directly\n",
    "flex_dataset_torch = FedDataDistribution.from_config_with_torchvision_dataset(\n",
    "    cifar10,\n",
    "    config_tf\n",
    ")\n",
    "\n",
    "sample = flex_dataset_torch['client_0'].X_data[0]\n",
    "import matplotlib.pyplot as plt\n",
    "sample = sample.swapaxes(0,1)\n",
    "sample = sample.swapaxes(1,2)\n",
    "plt.imshow(sample, cmap=plt.get_cmap('gray'))"
   ]
  },
  {
   "attachments": {},
   "cell_type": "markdown",
   "metadata": {},
   "source": [
    "## Pytorch torchtext dataset"
   ]
  },
  {
   "cell_type": "code",
   "execution_count": null,
   "metadata": {},
   "outputs": [],
   "source": [
    "from torchtext.datasets import AG_NEWS\n",
    "\n",
    "torch_dataset = AG_NEWS(split='train')"
   ]
  },
  {
   "attachments": {},
   "cell_type": "markdown",
   "metadata": {},
   "source": [
    "One way:"
   ]
  },
  {
   "cell_type": "code",
   "execution_count": null,
   "metadata": {},
   "outputs": [],
   "source": [
    "fcd_torch = Dataset.from_torchtext_dataset(torch_dataset)\n",
    "\n",
    "# We will use the same configuration than in the HuggingFace example\n",
    "config_torch = FedDatasetConfig(\n",
    "    seed=0,\n",
    "    n_clients=2,\n",
    "    replacement=False\n",
    ")\n",
    "\n",
    "# Federate the Dataset we just created\n",
    "flex_dataset_two_step_torch = FedDataDistribution.from_config(\n",
    "    centralized_data=fcd_torch,\n",
    "    config=config_torch\n",
    ")\n",
    "\n",
    "print(f\"Flex dataset two steps: {flex_dataset_two_step_torch['client_0'].X_data[0]}\")"
   ]
  },
  {
   "attachments": {},
   "cell_type": "markdown",
   "metadata": {},
   "source": [
    "Or another (shortcut):"
   ]
  },
  {
   "cell_type": "code",
   "execution_count": null,
   "metadata": {},
   "outputs": [],
   "source": [
    "# Federate the dataset directly\n",
    "flex_dataset_torch = FedDataDistribution.from_config_with_torchtext_dataset(\n",
    "    torch_dataset,\n",
    "    config_torch\n",
    ")\n",
    "print(f\"Flex dataset direct: {flex_dataset_torch['client_0'].X_data[0]}\")"
   ]
  },
  {
   "attachments": {},
   "cell_type": "markdown",
   "metadata": {},
   "source": [
    "### END\n",
    "Congratulations, now you know how to federate a dataset using the *FedDataDistribution* and the *FedDatasetConfig* classes, so you can setup multiple experimental settings that fit most your hipothesis."
   ]
  }
 ],
 "metadata": {
  "kernelspec": {
   "display_name": "Python 3 (ipykernel)",
   "language": "python",
   "name": "python3"
  },
  "language_info": {
   "codemirror_mode": {
    "name": "ipython",
    "version": 3
   },
   "file_extension": ".py",
   "mimetype": "text/x-python",
   "name": "python",
   "nbconvert_exporter": "python",
   "pygments_lexer": "ipython3",
   "version": "3.9.12"
  },
  "vscode": {
   "interpreter": {
    "hash": "4f7d2a9c5c2a9c2b510c9da0e3374aeab36a589c02bbbebadbda47bfb5610ebb"
   }
  }
 },
 "nbformat": 4,
 "nbformat_minor": 2
}
