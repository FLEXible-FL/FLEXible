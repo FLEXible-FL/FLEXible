{
 "cells": [
  {
   "attachments": {},
   "cell_type": "markdown",
   "metadata": {},
   "source": [
    "# Federating a linear regression model\n",
    "\n",
    "In this notebook we show how to use FLEXible to federate a linear regression model. We federate the linear regression algorithm provided in the [sklearn library](https://scikit-learn.org/stable/modules/clustering.html#k-means). This example is an adaption of the one provided [here](https://scikit-learn.org/stable/auto_examples/linear_model/plot_ols.html)."
   ]
  },
  {
   "attachments": {},
   "cell_type": "markdown",
   "metadata": {},
   "source": [
    "As usual, we first download and split the dataset we are going to use in this notebook, for simplicity we will ony use the one feature from the sklearn diabetes dataset."
   ]
  },
  {
   "cell_type": "code",
   "execution_count": null,
   "metadata": {},
   "outputs": [],
   "source": [
    "from sklearn.datasets import load_diabetes\n",
    "from sklearn.model_selection import train_test_split\n",
    "import numpy as np\n",
    "\n",
    "# Load the diabetes dataset\n",
    "diabetes = load_diabetes()\n",
    "\n",
    "# Generate train-test splits\n",
    "X_train, X_test, y_train, y_test = train_test_split(diabetes.data[:, np.newaxis, 2], diabetes.target, test_size=0.33, random_state=42)"
   ]
  },
  {
   "attachments": {},
   "cell_type": "markdown",
   "metadata": {},
   "source": [
    "Next, we federate it using FLEXible, we generate a iid distribution as follows:"
   ]
  },
  {
   "cell_type": "code",
   "execution_count": null,
   "metadata": {},
   "outputs": [],
   "source": [
    "from flex.data import FedDataDistribution, Dataset\n",
    "\n",
    "train_diabetes = Dataset.from_numpy(X_train, y_train)\n",
    "test_diabetes = Dataset.from_numpy(X_test, y_test)\n",
    "\n",
    "federated_diabetes = FedDataDistribution.iid_distribution(train_diabetes, n_clients=5)"
   ]
  },
  {
   "attachments": {},
   "cell_type": "markdown",
   "metadata": {},
   "source": [
    "Now, we present a centralized linear regression model and evaluate it, the main objective of this notebook is showing how to federate such model using FLEXible."
   ]
  },
  {
   "cell_type": "code",
   "execution_count": null,
   "metadata": {},
   "outputs": [],
   "source": [
    "from sklearn.linear_model import LinearRegression\n",
    "import matplotlib.pyplot as plt\n",
    "\n",
    "def plot_lm(lm, test_data, title):\n",
    "    preds = lm.predict(test_data.X_data)\n",
    "    # Plot outputs\n",
    "    plt.title(title)\n",
    "    plt.scatter(test_data.X_data, test_data.y_data, color=\"black\")\n",
    "    plt.plot(test_data.X_data, preds, color=\"blue\", linewidth=3)\n",
    "\n",
    "    \n",
    "centralized_model = LinearRegression()\n",
    "centralized_model = centralized_model.fit(train_diabetes.X_data, train_diabetes.y_data)\n",
    "plot_lm(centralized_model, test_diabetes, \"Centralized model\")"
   ]
  },
  {
   "cell_type": "code",
   "execution_count": null,
   "metadata": {},
   "outputs": [],
   "source": [
    "from sklearn import metrics\n",
    "from math import sqrt\n",
    "\n",
    "def score_model(labels, preds):\n",
    "    \n",
    "    rmse = sqrt(metrics.mean_squared_error(labels, preds))\n",
    "    r2_score = metrics.r2_score(labels, preds)\n",
    "\n",
    "    results = rmse, r2_score\n",
    "    \n",
    "    print(\"-----------------\")\n",
    "    print(\"RMSE: {},\\nr2: {}\".format(*results))\n",
    "    print(\"-----------------\")\n",
    "    \n",
    "print(\"Centralized model scores\")\n",
    "preds = centralized_model.predict(test_diabetes.X_data)\n",
    "score_model(test_diabetes.y_data, preds)"
   ]
  },
  {
   "attachments": {},
   "cell_type": "markdown",
   "metadata": {},
   "source": [
    "## The federation process begins!\n",
    "\n",
    "### Implementation in FLEXible\n",
    "\n",
    "The implementation of a federated algorithm in FLEXible always begins with the same steps: \n",
    "1. Defining a function to initialize the model in the server node. Note that function `build_server_model` is decorated with decorator `init_server_model`, in this way, we only need to care about loading a model in a FlexModel object.\n",
    "1. Creating an architecture, in this case, a client server architecture by means of `client_server_pool`. Note that, the number of clients is provided in `federated_diabetes` and it can be retrieved using `len(federated_diabetes)`. \n",
    "\n",
    "The `FlexPool` generated contains 20 clients an 1 server, which is also an aggregator node. Remember that nodes in a `FlexPool` communicate with each other using the `map` function."
   ]
  },
  {
   "cell_type": "code",
   "execution_count": null,
   "metadata": {},
   "outputs": [],
   "source": [
    "from flex.pool import init_server_model\n",
    "from flex.pool import FlexPool\n",
    "from flex.model import FlexModel\n",
    "\n",
    "\n",
    "@init_server_model\n",
    "def build_server_model():\n",
    "    flex_model = FlexModel()\n",
    "    flex_model[\"model\"] = LinearRegression()\n",
    "    return flex_model\n",
    "\n",
    "\n",
    "p = FlexPool.client_server_pool(federated_diabetes, init_func=build_server_model)\n",
    "\n",
    "clients = p.clients\n",
    "servers = p.servers\n",
    "aggregators = p.aggregators\n",
    "\n",
    "print(f\"Number of nodes in the pool {len(p)}: {len(servers)} servers plus {len(clients)} clients. The server is also an aggregator\")"
   ]
  },
  {
   "attachments": {},
   "cell_type": "markdown",
   "metadata": {},
   "source": [
    "Now, we provide a way to deploy the FlexModel in the server node to the clients node. Again, note that we decorate the function with `deploy_server_model`, so that we can focus on implementing a way of copying the server model. Thanks to the decorator, the job of copying the model in each client is done by FLEXible automagically."
   ]
  },
  {
   "cell_type": "code",
   "execution_count": null,
   "metadata": {},
   "outputs": [],
   "source": [
    "import copy\n",
    "\n",
    "from flex.pool import deploy_server_model\n",
    "\n",
    "@deploy_server_model\n",
    "def copy_server_model_to_clients(server_flex_model: FlexModel):\n",
    "    return copy.deepcopy(server_flex_model)\n",
    "\n",
    "servers.map(copy_server_model_to_clients, clients)"
   ]
  },
  {
   "attachments": {},
   "cell_type": "markdown",
   "metadata": {},
   "source": [
    "Once the models are loaded into the clients, we can proceed to train them:"
   ]
  },
  {
   "cell_type": "code",
   "execution_count": null,
   "metadata": {},
   "outputs": [],
   "source": [
    "def train(client_flex_model: FlexModel, client_data: Dataset):\n",
    "    client_flex_model[\"model\"].fit(client_data.X_data, client_data.y_data)\n",
    "\n",
    "clients.map(train)"
   ]
  },
  {
   "attachments": {},
   "cell_type": "markdown",
   "metadata": {},
   "source": [
    "Thanks to the decorator `collect_client_weights`, we only need to provide a way to get the trained weights of one client and FLEXible will do it for each client. Note that, in this architecture servers are the same as aggregators, therefore we can replace the last line below with: `servers.map(get_client_weights, clients)`."
   ]
  },
  {
   "cell_type": "code",
   "execution_count": null,
   "metadata": {},
   "outputs": [],
   "source": [
    "from flex.pool import collect_clients_weights\n",
    "\n",
    "@collect_clients_weights\n",
    "def get_clients_weights(client_flex_model: FlexModel):\n",
    "    return [client_flex_model[\"model\"].intercept_, client_flex_model[\"model\"].coef_]\n",
    "\n",
    "aggregators.map(get_clients_weights, clients)\n",
    "# The same as:\n",
    "# servers.map(get_client_weights, clients)"
   ]
  },
  {
   "attachments": {},
   "cell_type": "markdown",
   "metadata": {},
   "source": [
    "With the `aggregate_weights` decorator, we only need to implement our aggregator and FLEXible will apply it and store the result inside the FlexModel of the aggregator using internally the key \"aggregated_weights\". As stated before in this architecture servers are the same as aggregators, therefore we can replace the last line below with: `servers.map(aggregate)`."
   ]
  },
  {
   "cell_type": "code",
   "execution_count": null,
   "metadata": {
    "scrolled": true
   },
   "outputs": [],
   "source": [
    "from flex.pool import aggregate_weights\n",
    "import numpy as np\n",
    "\n",
    "@aggregate_weights\n",
    "def aggregate(list_of_weights: list):\n",
    "    return np.mean(np.asarray(list_of_weights, dtype=object), axis=0)\n",
    "\n",
    "# Aggregate weights\n",
    "aggregators.map(aggregate)\n",
    "# The same as:\n",
    "# servers.map(aggregate)"
   ]
  },
  {
   "attachments": {},
   "cell_type": "markdown",
   "metadata": {},
   "source": [
    "Once we have aggregated the weights, it is required to provide a way to set them in the server. The decorator `set_aggregated_weights` allow us to focus only in implementing a way to set the weights, the rest is done by FLEXible automagically."
   ]
  },
  {
   "cell_type": "code",
   "execution_count": null,
   "metadata": {},
   "outputs": [],
   "source": [
    "from flex.pool import set_aggregated_weights\n",
    "\n",
    "@set_aggregated_weights\n",
    "def set_agreggated_weights_to_server(server_flex_model: FlexModel, aggregated_weights):\n",
    "    server_flex_model[\"model\"].intercept_ = aggregated_weights[0]\n",
    "    server_flex_model[\"model\"].coef_ = aggregated_weights[1]\n",
    "\n",
    "# Set aggregated weights in the server model\n",
    "aggregators.map(set_agreggated_weights_to_server, servers)\n",
    "# The same as:\n",
    "# servers.map(set_agreggated_weights_to_server, servers)"
   ]
  },
  {
   "attachments": {},
   "cell_type": "markdown",
   "metadata": {},
   "source": [
    "Alright, we have have completed an entire federated round so it is time to see the results. Thanks to the decorator  `evaluate_server_model` we can focus on evaluating the results of the FlexModel stored in the server node."
   ]
  },
  {
   "cell_type": "code",
   "execution_count": null,
   "metadata": {},
   "outputs": [],
   "source": [
    "from flex.pool import evaluate_server_model\n",
    "\n",
    "@evaluate_server_model\n",
    "def evaluate_global_model(server_flex_model: FlexModel, test_data=None):\n",
    "    preds = server_flex_model[\"model\"].predict(test_data.X_data)\n",
    "    plot_lm(server_flex_model[\"model\"], test_data, title=\"K-means using federated data\")\n",
    "    score_model(test_data.y_data, preds)\n",
    "\n",
    "servers.map(evaluate_global_model, test_data=test_diabetes)"
   ]
  },
  {
   "attachments": {},
   "cell_type": "markdown",
   "metadata": {},
   "source": [
    "### Run the federated learning experiment for a few rounds\n",
    "\n",
    "Now, we can summarize the steps provided above and run the federated experiment for multiple rounds, note that in this case, we set the number of rounds to 1 since no iterations are needed in the case of linear regression. "
   ]
  },
  {
   "cell_type": "code",
   "execution_count": null,
   "metadata": {},
   "outputs": [],
   "source": [
    "n_rounds = 1\n",
    "p = FlexPool.client_server_pool(federated_diabetes, init_func=build_server_model)\n",
    "servers = p.servers\n",
    "clients = p.clients\n",
    "aggregators = p.aggregators\n",
    "\n",
    "for i in range(n_rounds):\n",
    "    servers.map(copy_server_model_to_clients, clients)\n",
    "    clients.map(train)\n",
    "    aggregators.map(get_clients_weights, clients)\n",
    "    aggregators.map(aggregate)\n",
    "    aggregators.map(set_agreggated_weights_to_server, servers)\n",
    "\n",
    "print(\"Federated model scores\")\n",
    "servers.map(evaluate_global_model, test_data=test_diabetes)"
   ]
  },
  {
   "cell_type": "code",
   "execution_count": null,
   "metadata": {
    "scrolled": false
   },
   "outputs": [],
   "source": [
    "print(\"Centralized model scores\")\n",
    "preds = centralized_model.predict(test_diabetes.X_data)\n",
    "score_model(test_diabetes.y_data, preds)\n",
    "plot_lm(centralized_model, test_diabetes, title=\"K-means using centralized data\")"
   ]
  }
 ],
 "metadata": {
  "kernelspec": {
   "display_name": "Python 3 (ipykernel)",
   "language": "python",
   "name": "python3"
  },
  "language_info": {
   "codemirror_mode": {
    "name": "ipython",
    "version": 3
   },
   "file_extension": ".py",
   "mimetype": "text/x-python",
   "name": "python",
   "nbconvert_exporter": "python",
   "pygments_lexer": "ipython3",
   "version": "3.11.4"
  },
  "vscode": {
   "interpreter": {
    "hash": "4f7d2a9c5c2a9c2b510c9da0e3374aeab36a589c02bbbebadbda47bfb5610ebb"
   }
  }
 },
 "nbformat": 4,
 "nbformat_minor": 4
}
