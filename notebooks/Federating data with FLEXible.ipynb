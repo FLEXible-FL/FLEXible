{
 "cells": [
  {
   "cell_type": "markdown",
   "metadata": {},
   "source": [
    "# How to federate datasets using FLEXible\n",
    "\n",
    "In this notebooks, we show a few of the many ways in which FLEXible can federate a centralized dataset. We will use MNIST and CIFAR10 datasets in this notebooks\n",
    "\n",
    "First, we download it and split it in train and test:"
   ]
  },
  {
   "cell_type": "code",
   "execution_count": null,
   "metadata": {},
   "outputs": [],
   "source": [
    "import tensorflow_datasets as tfds\n",
    "\n",
    "ds_train, ds_test = tfds.load(\n",
    "    'mnist',\n",
    "    split=['train', 'test'],\n",
    "    shuffle_files=True,\n",
    "    as_supervised=True,\n",
    "    batch_size=-1,\n",
    ")"
   ]
  },
  {
   "cell_type": "markdown",
   "metadata": {},
   "source": [
    "In order to use our tools, we need to encapsulate the dataset in a `Dataset`. \n",
    "\n",
    "Note that train_X and train_y are assumed to be NumPy arrays and train_y must be a one dimensional NumPy array."
   ]
  },
  {
   "cell_type": "code",
   "execution_count": null,
   "metadata": {},
   "outputs": [],
   "source": [
    "from flex.data import Dataset\n",
    "\n",
    "train_dataset = Dataset.from_tfds_image_dataset(ds_train)\n",
    "test_dataset = Dataset.from_tfds_image_dataset(ds_test)"
   ]
  },
  {
   "cell_type": "markdown",
   "metadata": {},
   "source": [
    "To federate a centralized dataset, it is required to describe the federation process in a `FedDatasetConfig` object.\n",
    "\n",
    "A `FedDatasetConfig` object has the following fields:\n",
    "\n",
    "\n",
    "- **seed**: Optional[int]\n",
    "    Seed used to make the federated dataset generated reproducible with this configuration. Default None.\n",
    "- **n_clients**: Optional[int]\n",
    "    Number of clients among which to split the centralized dataset. If client_names is also given, we consider the number of clients to be the minimun between n_clients and the length of client_names. Default None.\n",
    "- **client_names**: Optional[List[Hashable]]\n",
    "    Names to identifty each client, if not provided clients will be indexed using integers. If n_clients is also given, we consider the number of clients to be the minimun of n_clients and the length of client_names. Default None.\n",
    "- **weights**: Optional[npt.NDArray], A numpy.array which provides the proportion of data to give to each client. Default None.\n",
    "- **replacement**: bool, whether the samping procedure used to split a centralized dataset is with replacement or not. Default True\n",
    "- **classes_per_client**: Optional[Union[int, npt.NDArray, Tuple[int]]], classes to assign to each client, if provided as an int, it is the number classes per client, if provided as a tuple of ints, it establishes a mininum and a maximum of number of classes per client, a random number sampled in such interval decides the number of classes of each client. If provided as a list, it establishes the classes assigned to each client. Default None.\n",
    "- **features_per_client**: Optional[Union[int, npt.NDArray, Tuple[int]]], Features to assign to each client, it share the same interface as classes_per_client.\n",
    "- **indexes_per_client**: Optional[npt.NDArray]\n",
    "    Data indexes to assign to each client, note that this option is incompatible with **classes_per_client**, **features_per_client** options. If replacement and weights are speficied, they are ignored.\n",
    "\n",
    "    The following table shows the compatiblity of each option:\n",
    "\n",
    "    | Options compatibility   | **n_clients** | **client_names** | **weights** | **weights_per_class** | **replacement** | **classes_per_client** | **features_per_client** | **indexes_per_client** |\n",
    "    |-------------------------|---------------|------------------|-------------|-----------------------|-----------------|------------------------|-------------------------|------------------------|\n",
    "    | **n_clients**           | -             | Y                | Y           | Y                     | Y               | Y                      | Y                       | Y                      |\n",
    "    | **client_names**        | Y             | -                | Y           | Y                     | Y               | Y                      | Y                       | Y                      |\n",
    "    | **weights**             | Y             | Y                | -           | N                     | Y               | Y                      | Y                       | N                      |\n",
    "    | **weights_per_class**   | Y             | Y                | N           | -                     | Y               | Y                      | N                       | N                      |\n",
    "    | **replacement**         | Y             | Y                | Y           | Y                     | -               | Y                      | Y                       | N                      |\n",
    "    | **classes_per_client**  | Y             | Y                | Y           | Y                     | Y               | -                      | N                       | N                      |\n",
    "    | **features_per_client** | Y             | Y                | Y           | N                     | Y               | N                      | -                       | N                      |\n",
    "    | **indexes_per_client**  | Y             | Y                | N           | N                     | N               | N                      | N                       | -                      |\n",
    "\n"
   ]
  },
  {
   "cell_type": "markdown",
   "metadata": {},
   "source": [
    "Let's implement the following description:\n",
    "\n",
    "We have 10 federated clients, that do not share any instances, each client with data from a single class and with a 20% of the total data available for each class."
   ]
  },
  {
   "cell_type": "code",
   "execution_count": null,
   "metadata": {},
   "outputs": [],
   "source": [
    "from flex.data import FedDatasetConfig\n",
    "import numpy as np\n",
    "\n",
    "config = FedDatasetConfig(seed = 0) # We fix a seed to make our federation reproducible\n",
    "config.n_clients = 10 # 10 clients\n",
    "config.replacement = False # ensure that clients do not share any data\n",
    "config.classes_per_client = np.unique(train_dataset.y_data) # assign each client one class\n",
    "config.weights = [0.2] * config.n_clients # each client has only 20% of its assigned class"
   ]
  },
  {
   "cell_type": "markdown",
   "metadata": {},
   "source": [
    "We apply the generated `FedDatasetConfig` to a `Dataset`, which encapsulates the centralized dataset."
   ]
  },
  {
   "cell_type": "code",
   "execution_count": null,
   "metadata": {},
   "outputs": [],
   "source": [
    "from flex.data import FedDataDistribution\n",
    "\n",
    "federated_dataset = FedDataDistribution.from_config(centralized_data=train_dataset, config=config)"
   ]
  },
  {
   "cell_type": "markdown",
   "metadata": {},
   "source": [
    "Show the federated data, to confirm that the federated split is correct:"
   ]
  },
  {
   "cell_type": "code",
   "execution_count": null,
   "metadata": {},
   "outputs": [],
   "source": [
    "import matplotlib.pyplot as plt\n",
    "\n",
    "for client in federated_dataset:\n",
    "    print(f\"Node {client} has class {np.unique(federated_dataset[client].y_data)} and {len(federated_dataset[client])} elements, a sample of them is:\")\n",
    "    #pyplot.figure(figsize = (1,10))\n",
    "    fig, ax = plt.subplots(1, 10) # rows, cols\n",
    "    for i ,(x, y) in enumerate(federated_dataset[client]):\n",
    "        ax[i].axis('off')\n",
    "        ax[i].imshow(x, cmap=plt.get_cmap('gray'))\n",
    "        if i >= 9:\n",
    "            break\n",
    "    plt.show()"
   ]
  },
  {
   "cell_type": "markdown",
   "metadata": {},
   "source": [
    "# Federate a dataset using weights to distribute data following a certain distribution\n",
    "\n",
    "We try a more special configuration, we want to federate the dataset such that the number of data per client follows a gaussian distribution, consequently, we need to specify weights from a normal distribution:"
   ]
  },
  {
   "cell_type": "code",
   "execution_count": null,
   "metadata": {},
   "outputs": [],
   "source": [
    "n_clients = 500\n",
    "mu, sigma = 100, 1  # mean and standard deviation\n",
    "normal_weights = np.random.default_rng(seed=0).normal(mu, sigma, n_clients)  # sample random numbers\n",
    "normal_weights = np.clip(normal_weights, a_min=0, a_max=np.inf)  # remove negative values\n",
    "normal_weights = normal_weights / sum(normal_weights) # normalize to sum 1\n",
    "\n",
    "plt.hist(normal_weights, bins=15)\n",
    "plt.title('Histogram of normal weights')\n",
    "plt.show()"
   ]
  },
  {
   "cell_type": "code",
   "execution_count": null,
   "metadata": {},
   "outputs": [],
   "source": [
    "config = FedDatasetConfig(seed=0, \n",
    "                            n_clients=n_clients,\n",
    "                            replacement=False,\n",
    "                            weights=normal_weights\n",
    "                        )\n",
    "\n",
    "normal_federated_dataset = FedDataDistribution.from_config(centralized_data=train_dataset, config=config)"
   ]
  },
  {
   "cell_type": "markdown",
   "metadata": {},
   "source": [
    "Plot histogram of data per client:"
   ]
  },
  {
   "cell_type": "code",
   "execution_count": null,
   "metadata": {},
   "outputs": [],
   "source": [
    "datasizes_per_client = [len(normal_federated_dataset[client]) for client in normal_federated_dataset]\n",
    "n, bins, patches = plt.hist(datasizes_per_client)\n",
    "plt.ylabel('Data sizes')\n",
    "plt.title('Histogram of data sizes per client')\n",
    "plt.show()"
   ]
  },
  {
   "cell_type": "markdown",
   "metadata": {},
   "source": [
    "# A more complex dataset federation\n",
    "\n",
    "Now, lets federate CIFAR10 that fits the following description from [Personalized Federated Learning using Hypernetworks](https://paperswithcode.com/paper/personalized-federated-learning-using)."
   ]
  },
  {
   "cell_type": "markdown",
   "metadata": {},
   "source": [
    "First, we sample two/ten classes for each client for CIFAR10/CIFAR100; Next, for each client i and selected class c, we sample $ \\alpha_{i,c} \\sim U(.4, .6)$, and assign it with $\\frac{\\alpha_{i,c}}{\\sum_j \\alpha_{j,c}}$ of the samples for this class. We repeat the above using 10, 50 and 100 clients. This procedure produces clients with different number of samples and classes."
   ]
  },
  {
   "cell_type": "markdown",
   "metadata": {},
   "source": [
    "1) We download the cifar10 dataset using torchivision and create a Dataset with it using ``from_torchvision_dataset``. Note that, it is mandatory to at least provide the ``ToTensor`` transform."
   ]
  },
  {
   "cell_type": "code",
   "execution_count": null,
   "metadata": {},
   "outputs": [],
   "source": [
    "from torchvision import datasets, transforms\n",
    "from flex.data import Dataset\n",
    "\n",
    "cifar10 = datasets.CIFAR10(\n",
    "        root=\".\",\n",
    "        train=True,\n",
    "        download=True,\n",
    "        transform=transforms.ToTensor()\n",
    ")\n",
    "cifar10_dataset = Dataset.from_torchvision_dataset(cifar10)"
   ]
  },
  {
   "cell_type": "markdown",
   "metadata": {},
   "source": [
    "2) Create a ``FedDatasetConfig`` that fits the description given above."
   ]
  },
  {
   "cell_type": "code",
   "execution_count": null,
   "metadata": {},
   "outputs": [],
   "source": [
    "from flex.data import FedDatasetConfig\n",
    "import numpy as np\n",
    "\n",
    "# Sample two/ten classes for each client\n",
    "config = FedDatasetConfig(seed=0)\n",
    "# config.classes_per_client = (2, 10)\n",
    "config.replacement = True # it is not clear whether clients share their data or not\n",
    "config.n_clients = 10\n",
    "num_classes = 10\n",
    "\n",
    "# Assign a sample proportion for each client-class pair\n",
    "alphas = np.random.uniform(0.4, 0.6, [config.n_clients, num_classes])\n",
    "alphas = alphas / np.sum(alphas, axis=0)\n",
    "config.weights_per_class = alphas"
   ]
  },
  {
   "cell_type": "markdown",
   "metadata": {},
   "source": [
    "3) Create the federated dataset by applying the created ``FedDatasetConfig`` to a ``Dataset`` using ``FedDataDistribution.from_config``"
   ]
  },
  {
   "cell_type": "code",
   "execution_count": null,
   "metadata": {},
   "outputs": [],
   "source": [
    "from flex.data import FedDataDistribution\n",
    "\n",
    "personalized_cifar_dataset = FedDataDistribution.from_config(centralized_data=cifar10_dataset, config=config)"
   ]
  },
  {
   "cell_type": "markdown",
   "metadata": {},
   "source": [
    "4) (Optional) Check that the data is federated as expected\n",
    "\n",
    "In the following, we show that the proportion of each client data and label are roughtly the same:"
   ]
  },
  {
   "cell_type": "code",
   "execution_count": null,
   "metadata": {},
   "outputs": [],
   "source": [
    "unique_classes = np.sort(np.unique(cifar10_dataset.y_data))\n",
    "\n",
    "for i in range(config.n_clients):\n",
    "    # client_key = f\"client_{i}\" # client names where autogenerated DEPRECATED\n",
    "    client_key = i # Autogenerated keys are created as numbers 0...n_clients\n",
    "    for j, cifar_class in enumerate(unique_classes):\n",
    "        indexes = personalized_cifar_dataset[client_key].y_data == cifar_class\n",
    "        number_of_elements_per_class = len(personalized_cifar_dataset[client_key].X_data[indexes])\n",
    "        if number_of_elements_per_class != 0:\n",
    "            total_elements_per_class = np.sum(cifar10_dataset.y_data == cifar_class)\n",
    "            print(client_key, f\"class {cifar_class}: actual proportion\", number_of_elements_per_class/total_elements_per_class, \"vs. expected proportion:\", config.weights_per_class[i][j])"
   ]
  },
  {
   "cell_type": "markdown",
   "source": [
    "If we want, we can normalize the dataset of each client easily, using the `map` function from `FedDataset`, for example we force each client to keep only pair labels:"
   ],
   "metadata": {
    "collapsed": false
   }
  },
  {
   "cell_type": "code",
   "execution_count": null,
   "metadata": {},
   "outputs": [],
   "source": [
    "import numpy as np\n",
    "\n",
    "rng = np.random.default_rng(seed=0)\n",
    "def keep_given_labels(client_dataset: Dataset, selected_labels=None):\n",
    "    if not selected_labels:\n",
    "        selected_labels = []\n",
    "    X_data = client_dataset.X_data[np.isin(client_dataset.y_data, selected_labels)]\n",
    "    y_data = client_dataset.y_data[np.isin(client_dataset.y_data, selected_labels)]\n",
    "    return Dataset(X_data=X_data, y_data=y_data)\n",
    "\n",
    "randomly_transformed_federated_dataset = personalized_cifar_dataset.map(func=keep_given_labels,  # function to apply\n",
    "                                                num_proc=1,\n",
    "                                                selected_labels=[0, 2, 4, 6, 8] # argument for function\n",
    "                                                )\n",
    "\n",
    "for i, client in enumerate(randomly_transformed_federated_dataset):\n",
    "    print(f\"Client {client} has classes {np.unique(randomly_transformed_federated_dataset[client].y_data)} and {len(randomly_transformed_federated_dataset[client])} elements, a sample of them is:\")\n",
    "    fig, ax = plt.subplots(1, 10) # rows, cols\n",
    "    for j ,(x, y) in enumerate(randomly_transformed_federated_dataset[client]):\n",
    "        ax[j].axis('off')\n",
    "        ax[j].imshow(x, cmap=plt.get_cmap('gray'))\n",
    "        if j >= 9:\n",
    "            break\n",
    "    if i >= 10:\n",
    "        break\n",
    "    plt.show()"
   ]
  },
  {
   "cell_type": "markdown",
   "metadata": {},
   "source": [
    "# Federate a dataset from torchtext, torchvision, tensorflow or huggingface\n",
    "\n",
    "There are a lot of datasets available on the main deep learning frameworks that make it easy to use their own framework. It's important to let the user to use this datasets, and we do so the user can use her favorites datasets and federate them.\n",
    "\n",
    "We show multiple examples on how to load and federate the datasets.\n",
    "\n",
    "For every framework we support, there are two possible ways to load a dataset:"
   ]
  },
  {
   "cell_type": "code",
   "execution_count": null,
   "metadata": {},
   "outputs": [],
   "source": [
    "from flex.data import Dataset\n",
    "from flex.data import FedDataDistribution\n",
    "from flex.data import FedDatasetConfig"
   ]
  },
  {
   "cell_type": "markdown",
   "metadata": {},
   "source": [
    "## HugginFace"
   ]
  },
  {
   "cell_type": "code",
   "execution_count": null,
   "metadata": {},
   "outputs": [],
   "source": [
    "# HuggingFace\n",
    "from datasets import load_dataset\n",
    "\n",
    "# Load a dataset into a Dataset\n",
    "dataset_hf = load_dataset('ag_news', split='train')"
   ]
  },
  {
   "cell_type": "markdown",
   "metadata": {},
   "source": [
    "One way:"
   ]
  },
  {
   "cell_type": "code",
   "execution_count": null,
   "metadata": {},
   "outputs": [],
   "source": [
    "fcd_hf = Dataset.from_huggingface_dataset(\n",
    "    dataset_hf, X_columns=\"text\", label_columns=\"label\"\n",
    ")\n",
    "\n",
    "# Create a config and federate the dataset\n",
    "config_hf = FedDatasetConfig(\n",
    "    seed=0,\n",
    "    n_clients=2,\n",
    "    replacement=False\n",
    ")\n",
    "\n",
    "\n",
    "flex_dataset_two_step_hf = FedDataDistribution.from_config(\n",
    "    centralized_data=fcd_hf, config=config_hf\n",
    ")\n",
    "# print(f\"Flex dataset two steps a data sample from client_0: {flex_dataset_two_step_hf['client_0'].X_data[0]}\") # DEPRETATED\n",
    "print(f\"Flex dataset two steps a data sample from client_0: {flex_dataset_two_step_hf[0].X_data[0]}\")"
   ]
  },
  {
   "cell_type": "markdown",
   "metadata": {},
   "source": [
    "Or another (shortcut):"
   ]
  },
  {
   "cell_type": "code",
   "execution_count": null,
   "metadata": {},
   "outputs": [],
   "source": [
    "# Federate the dataset directly, only using a config.\n",
    "flex_dataset_hf = FedDataDistribution.from_config_with_huggingface_dataset(\n",
    "    dataset_hf, config_hf, \"text\", \"label\"\n",
    ")\n",
    "\n",
    "# print(f\"Flex dataset a data sample from client_0: {flex_dataset_hf['client_0'].X_data[0]}\") # DEPRECATED\n",
    "print(f\"Flex dataset a data sample from client_0: {flex_dataset_hf[0].X_data[0]}\")"
   ]
  },
  {
   "cell_type": "markdown",
   "metadata": {},
   "source": [
    "## Tensorflow dataset"
   ]
  },
  {
   "cell_type": "code",
   "execution_count": null,
   "metadata": {},
   "outputs": [],
   "source": [
    "import tensorflow_datasets as tfds\n",
    "\n",
    "mnist = tfds.load(\n",
    "    'mnist',\n",
    "    split=['train'],\n",
    "    shuffle_files=True,\n",
    "    as_supervised=True,\n",
    "    batch_size=-1, # this is required\n",
    ")"
   ]
  },
  {
   "cell_type": "markdown",
   "metadata": {},
   "source": [
    "One way:"
   ]
  },
  {
   "cell_type": "code",
   "execution_count": null,
   "metadata": {},
   "outputs": [],
   "source": [
    "fcd_tf = Dataset.from_tfds_image_dataset(mnist)\n",
    "\n",
    "config_tf = FedDatasetConfig(\n",
    "    seed=0,\n",
    "    n_clients=2,\n",
    "    replacement=False\n",
    ")\n",
    "\n",
    "\n",
    "# Federate the Dataset we just created\n",
    "flex_dataset_two_step_tf = FedDataDistribution.from_config(\n",
    "    centralized_data=fcd_tf,\n",
    "    config=config_tf\n",
    ")\n",
    "\n",
    "# sample = flex_dataset_two_step_tf['client_0'].X_data[0] # DEPRECATED\n",
    "sample = flex_dataset_two_step_tf[0].X_data[0]\n",
    "import matplotlib.pyplot as plt\n",
    "plt.imshow(sample, cmap=plt.get_cmap('gray'))"
   ]
  },
  {
   "cell_type": "markdown",
   "metadata": {},
   "source": [
    "Or another:"
   ]
  },
  {
   "cell_type": "code",
   "execution_count": null,
   "metadata": {
    "scrolled": true
   },
   "outputs": [],
   "source": [
    "# Federate the dataset directly\n",
    "flex_dataset_tf = FedDataDistribution.from_config_with_tfds_image_dataset(\n",
    "    mnist,\n",
    "    config_tf\n",
    ")\n",
    "\n",
    "sample = flex_dataset_tf['client_0'].X_data[0]\n",
    "import matplotlib.pyplot as plt\n",
    "plt.imshow(sample, cmap=plt.get_cmap('gray'))"
   ]
  },
  {
   "cell_type": "markdown",
   "metadata": {},
   "source": [
    "## Pytorch torchvision dataset"
   ]
  },
  {
   "cell_type": "code",
   "execution_count": null,
   "metadata": {},
   "outputs": [],
   "source": [
    "from torchvision import datasets, transforms\n",
    "\n",
    "cifar10 = datasets.CIFAR10(\n",
    "        root=\".\",\n",
    "        train=True,\n",
    "        download=True,\n",
    "        transform=transforms.ToTensor()\n",
    ")"
   ]
  },
  {
   "cell_type": "markdown",
   "metadata": {},
   "source": [
    "One way:"
   ]
  },
  {
   "cell_type": "code",
   "execution_count": null,
   "metadata": {},
   "outputs": [],
   "source": [
    "fcd_torch = Dataset.from_torchvision_dataset(cifar10)\n",
    "\n",
    "config_torch = FedDatasetConfig(\n",
    "    seed=0,\n",
    "    n_clients=2,\n",
    "    replacement=False\n",
    ")\n",
    "\n",
    "# Federate the Dataset we just created\n",
    "flex_dataset_two_step_torch = FedDataDistribution.from_config(\n",
    "    centralized_data=fcd_torch,\n",
    "    config=config_torch\n",
    ")\n",
    "\n",
    "# sample = flex_dataset_two_step_torch['client_0'].X_data[0] # DEPRECATED\n",
    "sample = flex_dataset_two_step_torch[0].X_data[0]\n",
    "import matplotlib.pyplot as plt\n",
    "plt.imshow(sample, cmap=plt.get_cmap('gray'))"
   ]
  },
  {
   "cell_type": "markdown",
   "metadata": {},
   "source": [
    "Or another (shortcut):"
   ]
  },
  {
   "cell_type": "code",
   "execution_count": null,
   "metadata": {},
   "outputs": [],
   "source": [
    "# Federate the dataset directly\n",
    "flex_dataset_torch = FedDataDistribution.from_config_with_torchvision_dataset(\n",
    "    cifar10,\n",
    "    config_tf\n",
    ")\n",
    "\n",
    "# sample = flex_dataset_torch['client_0'].X_data[0] # DEPRECATED\n",
    "sample = flex_dataset_torch[0].X_data[0]\n",
    "import matplotlib.pyplot as plt\n",
    "plt.imshow(sample, cmap=plt.get_cmap('gray'))"
   ]
  },
  {
   "cell_type": "markdown",
   "metadata": {},
   "source": [
    "## Pytorch torchtext dataset"
   ]
  },
  {
   "cell_type": "code",
   "execution_count": null,
   "metadata": {},
   "outputs": [],
   "source": [
    "from torchtext.datasets import AG_NEWS\n",
    "\n",
    "torch_dataset = AG_NEWS(split='train')"
   ]
  },
  {
   "cell_type": "markdown",
   "metadata": {},
   "source": [
    "One way:"
   ]
  },
  {
   "cell_type": "code",
   "execution_count": null,
   "metadata": {},
   "outputs": [],
   "source": [
    "fcd_torch = Dataset.from_torchtext_dataset(torch_dataset)\n",
    "\n",
    "# We will use the same configuration than in the HuggingFace example\n",
    "config_torch = FedDatasetConfig(\n",
    "    seed=0,\n",
    "    n_clients=2,\n",
    "    replacement=False\n",
    ")\n",
    "\n",
    "# Federate the Dataset we just created\n",
    "flex_dataset_two_step_torch = FedDataDistribution.from_config(\n",
    "    centralized_data=fcd_torch,\n",
    "    config=config_torch\n",
    ")\n",
    "\n",
    "# print(f\"Flex dataset two steps: {flex_dataset_two_step_torch['client_0'].X_data[0]}\") # DEPRECATED\n",
    "print(f\"Flex dataset two steps: {flex_dataset_two_step_torch[0].X_data[0]}\")"
   ]
  },
  {
   "cell_type": "markdown",
   "metadata": {},
   "source": [
    "Or another (shortcut):"
   ]
  },
  {
   "cell_type": "code",
   "execution_count": null,
   "metadata": {},
   "outputs": [],
   "source": [
    "# Federate the dataset directly\n",
    "flex_dataset_torch = FedDataDistribution.from_config_with_torchtext_dataset(\n",
    "    torch_dataset,\n",
    "    config_torch\n",
    ")\n",
    "# print(f\"Flex dataset direct: {flex_dataset_torch['client_0'].X_data[0]}\") # DEPRECATED\n",
    "print(f\"Flex dataset direct: {flex_dataset_torch[0].X_data[0]}\")"
   ]
  },
  {
   "cell_type": "markdown",
   "metadata": {},
   "source": [
    "### END\n",
    "Congratulations, now you know how to federate a dataset using the *FedDataDistribution* and the *FedDatasetConfig* classes, so you can setup multiple experimental settings that fit most your hipothesis."
   ]
  }
 ],
 "metadata": {
  "kernelspec": {
   "display_name": "Python 3 (ipykernel)",
   "language": "python",
   "name": "python3"
  },
  "language_info": {
   "codemirror_mode": {
    "name": "ipython",
    "version": 3
   },
   "file_extension": ".py",
   "mimetype": "text/x-python",
   "name": "python",
   "nbconvert_exporter": "python",
   "pygments_lexer": "ipython3",
   "version": "3.9.12"
  },
  "vscode": {
   "interpreter": {
    "hash": "4f7d2a9c5c2a9c2b510c9da0e3374aeab36a589c02bbbebadbda47bfb5610ebb"
   }
  }
 },
 "nbformat": 4,
 "nbformat_minor": 2
}
