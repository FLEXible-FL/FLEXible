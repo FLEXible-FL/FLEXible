{
 "cells": [
  {
   "cell_type": "markdown",
   "metadata": {},
   "source": [
    "# FLEXible tutorial: MNIST classification using Tensorflow\n",
    "\n",
    "FLEXible is a library to federate models. We offer the tools to load and federate data or to load federated data, and the tools to create a federated environment. The user can define the model and the *communication primitives* to train the model in a federated environment, but we already offer some simple functions that let the user to build an fast and easy experiment. This primitives can be expressed in the following steps:\n",
    "- initialization: Initialize the model in the server.\n",
    "- deploy model: Deploy the model to the clients.\n",
    "- training: Define the train function.\n",
    "- collect the weights: Collect the weights of the clients params to aggregate them later.\n",
    "- aggregate the weights: Use an aggregation method to aggregte the collected weights.\n",
    "- deploy model: Deploy the model with the updated weights to the clients.\n",
    "- evaluate: Define the evaluate function.\n",
    "\n",
    "In this notebook, we show how to use the defined primitive functions, letting the user the implementation of some key functions:\n",
    "- Define the model to train: It's necessary to tell server and clients which model will be trained.\n",
    "- Aggregator method: In this notebook we will implement FedAvg as the aggregation function.\n",
    "\n",
    "Note that the primitive functions that we offer are basics functions, as we assume how the federated learning training will be. If you want to do a more customizable training loop, please check the notebook flex_text_classifiication_tensorflow_demo, as we show there how to implement the primitive functions from scrach. We will follow this [tutorial](https://www.tensorflow.org/tutorials/quickstart/beginner?hl=es-419) from Tensorfllow 2.0 Guide for begginers. "
   ]
  },
  {
   "cell_type": "code",
   "execution_count": 23,
   "metadata": {},
   "outputs": [
    {
     "name": "stdout",
     "output_type": "stream",
     "text": [
      "Version:  2.10.0\n",
      "Eager mode:  True\n",
      "GPU is NOT AVAILABLE\n"
     ]
    }
   ],
   "source": [
    "import tensorflow as tf\n",
    "\n",
    "print(\"Version: \", tf.__version__)\n",
    "print(\"Eager mode: \", tf.executing_eagerly())\n",
    "print(\"GPU is\", \"available\" if tf.config.list_physical_devices('GPU') else \"NOT AVAILABLE\")"
   ]
  },
  {
   "cell_type": "code",
   "execution_count": 24,
   "metadata": {},
   "outputs": [],
   "source": [
    "from flex.data import FlexDataDistribution\n",
    "\n",
    "flex_dataset =  FlexDataDistribution.load_femnist()\n"
   ]
  },
  {
   "cell_type": "markdown",
   "metadata": {},
   "source": [
    "# Primitive Functions"
   ]
  },
  {
   "cell_type": "code",
   "execution_count": 25,
   "metadata": {},
   "outputs": [],
   "source": [
    "from flex.pool.flex_primitives import init_server_model_tf\n",
    "from flex.pool.flex_primitives import deploy_server_model_tf\n",
    "from flex.pool.flex_primitives import collect_clients_weights_tf\n",
    "from flex.pool.flex_primitives import train_tf\n",
    "from flex.pool.flex_primitives import set_aggregated_weights_tf\n",
    "from flex.pool.flex_primitives import evaluate_server_model_tf\n",
    "from flex.pool.flex_aggregators import fed_avg"
   ]
  },
  {
   "cell_type": "code",
   "execution_count": 26,
   "metadata": {},
   "outputs": [],
   "source": [
    "# Defining the model\n",
    "\n",
    "def define_model(**kargs):\n",
    "    model = tf.keras.models.Sequential([\n",
    "    tf.keras.layers.Flatten(input_shape=(28, 28)),\n",
    "    tf.keras.layers.Dense(128, activation='relu'),\n",
    "    tf.keras.layers.Dropout(0.2),\n",
    "    tf.keras.layers.Dense(10, activation='softmax')\n",
    "    ])\n",
    "\n",
    "    model.compile(optimizer='adam',\n",
    "                loss='sparse_categorical_crossentropy',\n",
    "                metrics=['accuracy'])\n",
    "\n",
    "    return model"
   ]
  },
  {
   "cell_type": "code",
   "execution_count": 27,
   "metadata": {},
   "outputs": [],
   "source": [
    "model = define_model()"
   ]
  },
  {
   "cell_type": "code",
   "execution_count": 28,
   "metadata": {},
   "outputs": [
    {
     "ename": "KeyError",
     "evalue": "'603'",
     "output_type": "error",
     "traceback": [
      "\u001b[0;31m---------------------------------------------------------------------------\u001b[0m",
      "\u001b[0;31mKeyError\u001b[0m                                  Traceback (most recent call last)",
      "Cell \u001b[0;32mIn [28], line 3\u001b[0m\n\u001b[1;32m      1\u001b[0m \u001b[39mfrom\u001b[39;00m \u001b[39mflex\u001b[39;00m\u001b[39m.\u001b[39;00m\u001b[39mpool\u001b[39;00m \u001b[39mimport\u001b[39;00m FlexPool\n\u001b[0;32m----> 3\u001b[0m flex_pool \u001b[39m=\u001b[39m FlexPool\u001b[39m.\u001b[39;49mclient_server_architecture(fed_dataset\u001b[39m=\u001b[39;49mflex_dataset, init_func\u001b[39m=\u001b[39;49minit_server_model_tf, model\u001b[39m=\u001b[39;49mdefine_model())\n",
      "File \u001b[0;32m~/Documents/FLEX-framework/flex/pool/flex_pool.py:260\u001b[0m, in \u001b[0;36mFlexPool.client_server_architecture\u001b[0;34m(cls, fed_dataset, init_func, **kwargs)\u001b[0m\n\u001b[1;32m    254\u001b[0m actors[\u001b[39m\"\u001b[39m\u001b[39mserver\u001b[39m\u001b[39m\"\u001b[39m] \u001b[39m=\u001b[39m FlexRole\u001b[39m.\u001b[39mserver_aggregator\n\u001b[1;32m    255\u001b[0m new_arch \u001b[39m=\u001b[39m \u001b[39mcls\u001b[39m(\n\u001b[1;32m    256\u001b[0m     flex_data\u001b[39m=\u001b[39mfed_dataset,\n\u001b[1;32m    257\u001b[0m     flex_actors\u001b[39m=\u001b[39mactors,\n\u001b[1;32m    258\u001b[0m     flex_models\u001b[39m=\u001b[39m\u001b[39mNone\u001b[39;00m,\n\u001b[1;32m    259\u001b[0m )\n\u001b[0;32m--> 260\u001b[0m new_arch\u001b[39m.\u001b[39;49mservers\u001b[39m.\u001b[39mmap(init_func, \u001b[39m*\u001b[39m\u001b[39m*\u001b[39mkwargs)\n\u001b[1;32m    261\u001b[0m \u001b[39mreturn\u001b[39;00m new_arch\n",
      "File \u001b[0;32m/usr/lib/python3.9/functools.py:969\u001b[0m, in \u001b[0;36mcached_property.__get__\u001b[0;34m(self, instance, owner)\u001b[0m\n\u001b[1;32m    967\u001b[0m val \u001b[39m=\u001b[39m cache\u001b[39m.\u001b[39mget(\u001b[39mself\u001b[39m\u001b[39m.\u001b[39mattrname, _NOT_FOUND)\n\u001b[1;32m    968\u001b[0m \u001b[39mif\u001b[39;00m val \u001b[39mis\u001b[39;00m _NOT_FOUND:\n\u001b[0;32m--> 969\u001b[0m     val \u001b[39m=\u001b[39m \u001b[39mself\u001b[39;49m\u001b[39m.\u001b[39;49mfunc(instance)\n\u001b[1;32m    970\u001b[0m     \u001b[39mtry\u001b[39;00m:\n\u001b[1;32m    971\u001b[0m         cache[\u001b[39mself\u001b[39m\u001b[39m.\u001b[39mattrname] \u001b[39m=\u001b[39m val\n",
      "File \u001b[0;32m~/Documents/FLEX-framework/flex/pool/flex_pool.py:206\u001b[0m, in \u001b[0;36mFlexPool.servers\u001b[0;34m(self)\u001b[0m\n\u001b[1;32m    199\u001b[0m \u001b[39m@functools\u001b[39m\u001b[39m.\u001b[39mcached_property\n\u001b[1;32m    200\u001b[0m \u001b[39mdef\u001b[39;00m \u001b[39mservers\u001b[39m(\u001b[39mself\u001b[39m):\n\u001b[1;32m    201\u001b[0m     \u001b[39m\"\"\"Property to get all the servers available in a pool.\u001b[39;00m\n\u001b[1;32m    202\u001b[0m \n\u001b[1;32m    203\u001b[0m \u001b[39m    Returns:\u001b[39;00m\n\u001b[1;32m    204\u001b[0m \u001b[39m        FlexPool: Pool containing all the servers from a pool\u001b[39;00m\n\u001b[1;32m    205\u001b[0m \u001b[39m    \"\"\"\u001b[39;00m\n\u001b[0;32m--> 206\u001b[0m     \u001b[39mreturn\u001b[39;00m \u001b[39mself\u001b[39;49m\u001b[39m.\u001b[39;49mfilter(\u001b[39mlambda\u001b[39;49;00m a, b: FlexRoleManager\u001b[39m.\u001b[39;49mis_server(b))\n",
      "File \u001b[0;32m~/Documents/FLEX-framework/flex/pool/flex_pool.py:163\u001b[0m, in \u001b[0;36mFlexPool.filter\u001b[0;34m(self, func, clients_dropout, **kwargs)\u001b[0m\n\u001b[1;32m    161\u001b[0m new_models \u001b[39m=\u001b[39m {}\n\u001b[1;32m    162\u001b[0m \u001b[39mfor\u001b[39;00m actor_id \u001b[39min\u001b[39;00m training_clients:\n\u001b[0;32m--> 163\u001b[0m     \u001b[39mif\u001b[39;00m func(actor_id, \u001b[39mself\u001b[39;49m\u001b[39m.\u001b[39;49m_actors[actor_id], \u001b[39m*\u001b[39m\u001b[39m*\u001b[39mkwargs):\n\u001b[1;32m    164\u001b[0m         new_actors[actor_id] \u001b[39m=\u001b[39m \u001b[39mself\u001b[39m\u001b[39m.\u001b[39m_actors[actor_id]\n\u001b[1;32m    165\u001b[0m         new_models[actor_id] \u001b[39m=\u001b[39m \u001b[39mself\u001b[39m\u001b[39m.\u001b[39m_models[actor_id]\n",
      "File \u001b[0;32m/usr/lib/python3.9/collections/__init__.py:1058\u001b[0m, in \u001b[0;36mUserDict.__getitem__\u001b[0;34m(self, key)\u001b[0m\n\u001b[1;32m   1056\u001b[0m \u001b[39mif\u001b[39;00m \u001b[39mhasattr\u001b[39m(\u001b[39mself\u001b[39m\u001b[39m.\u001b[39m\u001b[39m__class__\u001b[39m, \u001b[39m\"\u001b[39m\u001b[39m__missing__\u001b[39m\u001b[39m\"\u001b[39m):\n\u001b[1;32m   1057\u001b[0m     \u001b[39mreturn\u001b[39;00m \u001b[39mself\u001b[39m\u001b[39m.\u001b[39m\u001b[39m__class__\u001b[39m\u001b[39m.\u001b[39m\u001b[39m__missing__\u001b[39m(\u001b[39mself\u001b[39m, key)\n\u001b[0;32m-> 1058\u001b[0m \u001b[39mraise\u001b[39;00m \u001b[39mKeyError\u001b[39;00m(key)\n",
      "\u001b[0;31mKeyError\u001b[0m: '603'"
     ]
    }
   ],
   "source": [
    "from flex.pool import FlexPool\n",
    "\n",
    "flex_pool = FlexPool.client_server_architecture(fed_dataset=flex_dataset, init_func=init_server_model_tf, model=define_model())"
   ]
  },
  {
   "cell_type": "code",
   "execution_count": null,
   "metadata": {},
   "outputs": [
    {
     "ename": "NameError",
     "evalue": "name 'flex_pool' is not defined",
     "output_type": "error",
     "traceback": [
      "\u001b[0;31m---------------------------------------------------------------------------\u001b[0m",
      "\u001b[0;31mNameError\u001b[0m                                 Traceback (most recent call last)",
      "Cell \u001b[0;32mIn [22], line 1\u001b[0m\n\u001b[0;32m----> 1\u001b[0m clients \u001b[39m=\u001b[39m flex_pool\u001b[39m.\u001b[39mclients\n\u001b[1;32m      2\u001b[0m server \u001b[39m=\u001b[39m flex_pool\u001b[39m.\u001b[39mservers\n\u001b[1;32m      3\u001b[0m \u001b[39mprint\u001b[39m(\u001b[39mf\u001b[39m\u001b[39m\"\u001b[39m\u001b[39mServer node is indentified by \u001b[39m\u001b[39m{\u001b[39;00mserver\u001b[39m.\u001b[39mactor_ids\u001b[39m}\u001b[39;00m\u001b[39m\"\u001b[39m)\n",
      "\u001b[0;31mNameError\u001b[0m: name 'flex_pool' is not defined"
     ]
    }
   ],
   "source": [
    "clients = flex_pool.clients\n",
    "server = flex_pool.servers\n",
    "print(f\"Server node is indentified by {server.actor_ids}\")\n",
    "print(f\"Client nodes are identified by {clients.actor_ids}\")"
   ]
  },
  {
   "cell_type": "markdown",
   "metadata": {},
   "source": []
  }
 ],
 "metadata": {
  "kernelspec": {
   "display_name": "Python 3.9.5 64-bit",
   "language": "python",
   "name": "python3"
  },
  "language_info": {
   "codemirror_mode": {
    "name": "ipython",
    "version": 3
   },
   "file_extension": ".py",
   "mimetype": "text/x-python",
   "name": "python",
   "nbconvert_exporter": "python",
   "pygments_lexer": "ipython3",
   "version": "3.9.5"
  },
  "orig_nbformat": 4,
  "vscode": {
   "interpreter": {
    "hash": "f9f85f796d01129d0dd105a088854619f454435301f6ffec2fea96ecbd9be4ac"
   }
  }
 },
 "nbformat": 4,
 "nbformat_minor": 2
}
