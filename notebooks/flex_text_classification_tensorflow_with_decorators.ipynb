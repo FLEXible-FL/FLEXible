{
 "cells": [
  {
   "cell_type": "code",
   "execution_count": 1,
   "metadata": {},
   "outputs": [
    {
     "name": "stdout",
     "output_type": "stream",
     "text": [
      "Version:  2.9.2\n",
      "Eager mode:  True\n",
      "Hub version:  0.12.0\n",
      "GPU is available\n"
     ]
    }
   ],
   "source": [
    "from copy import deepcopy\n",
    "import numpy as np\n",
    "\n",
    "import tensorflow as tf\n",
    "import tensorflow_hub as hub\n",
    "import tensorflow_datasets as tfds\n",
    "\n",
    "import matplotlib.pyplot as plt\n",
    "\n",
    "print(\"Version: \", tf.__version__)\n",
    "print(\"Eager mode: \", tf.executing_eagerly())\n",
    "print(\"Hub version: \", hub.__version__)\n",
    "print(\"GPU is\", \"available\" if tf.config.list_physical_devices('GPU') else \"NOT AVAILABLE\")"
   ]
  },
  {
   "cell_type": "code",
   "execution_count": 2,
   "metadata": {},
   "outputs": [
    {
     "name": "stdout",
     "output_type": "stream",
     "text": [
      "Metal device set to: Apple M1 Pro\n",
      "\n",
      "systemMemory: 32.00 GB\n",
      "maxCacheSize: 10.67 GB\n",
      "\n"
     ]
    },
    {
     "name": "stderr",
     "output_type": "stream",
     "text": [
      "2022-10-14 09:15:07.607455: W tensorflow/core/platform/profile_utils/cpu_utils.cc:128] Failed to get CPU frequency: 0 Hz\n"
     ]
    }
   ],
   "source": [
    "train_data, test_data = tfds.load(name=\"imdb_reviews\", split=[\"train\", \"test\"], \n",
    "                                    batch_size=-1, as_supervised=True)"
   ]
  },
  {
   "cell_type": "code",
   "execution_count": 3,
   "metadata": {},
   "outputs": [],
   "source": [
    "from flex.data import FlexDataObject\n",
    "\n",
    "flex_data = FlexDataObject.from_tfds_dataset(train_data)"
   ]
  },
  {
   "cell_type": "code",
   "execution_count": 4,
   "metadata": {},
   "outputs": [],
   "source": [
    "from flex.data import FlexDatasetConfig, FlexDataDistribution\n",
    "\n",
    "config = FlexDatasetConfig(seed=0)\n",
    "config.n_clients = 2\n",
    "config.replacement = False # ensure that clients do not share any data\n",
    "config.client_names = ['client1', 'client2'] # Optional\n",
    "flex_dataset = FlexDataDistribution.from_config(cdata=flex_data, config=config)"
   ]
  },
  {
   "cell_type": "code",
   "execution_count": 5,
   "metadata": {},
   "outputs": [],
   "source": [
    "from flex.data import FlexDataDistribution\n",
    "\n",
    "flex_dataset = FlexDataDistribution.iid_distribution(flex_data, n_clients=2)"
   ]
  },
  {
   "cell_type": "code",
   "execution_count": 6,
   "metadata": {},
   "outputs": [],
   "source": [
    "from flex.pool.flex_primitives import deploy_model_to_clients\n",
    "from flex.pool.flex_primitives import evaluate_model\n",
    "\n",
    "from flex.pool.flex_decorators import init_server_model_decorator\n",
    "from flex.pool.flex_decorators import collector_decorator\n",
    "from flex.pool.flex_decorators import aggregator_decorator_tf\n",
    "from flex.pool.flex_decorators import train_decorator\n",
    "from flex.pool.flex_decorators import deploy_decorator"
   ]
  },
  {
   "cell_type": "code",
   "execution_count": 7,
   "metadata": {},
   "outputs": [],
   "source": [
    "# Defining the model\n",
    "@init_server_model_decorator\n",
    "def define_model(*args):\n",
    "    model = \"https://tfhub.dev/google/nnlm-en-dim50-with-normalization/2\"\n",
    "    hub_layer = hub.KerasLayer(model, input_shape=[], dtype=tf.string, trainable=True)\n",
    "    model = tf.keras.Sequential()\n",
    "    model.add(hub_layer)\n",
    "    model.add(tf.keras.layers.Dense(16, activation='relu'))\n",
    "    model.add(tf.keras.layers.Dense(1))\n",
    "    model.compile(optimizer='adam',\n",
    "                    loss=tf.losses.BinaryCrossentropy(from_logits=True),\n",
    "                    metrics=[tf.metrics.BinaryAccuracy(threshold=0.0, name='accuracy')])\n",
    "    return model"
   ]
  },
  {
   "cell_type": "code",
   "execution_count": 8,
   "metadata": {},
   "outputs": [
    {
     "name": "stdout",
     "output_type": "stream",
     "text": [
      "Initializing server model.\n"
     ]
    }
   ],
   "source": [
    "from flex.pool import FlexPool\n",
    "\n",
    "flex_pool = FlexPool.client_server_architecture(fed_dataset=flex_dataset, init_func=define_model, verbose=1, model_params=[])"
   ]
  },
  {
   "cell_type": "code",
   "execution_count": 9,
   "metadata": {},
   "outputs": [
    {
     "name": "stdout",
     "output_type": "stream",
     "text": [
      "Server node is indentified by ['server']\n",
      "Client nodes are identified by ['client_0', 'client_1']\n"
     ]
    }
   ],
   "source": [
    "clients = flex_pool.clients\n",
    "server = flex_pool.servers\n",
    "print(f\"Server node is indentified by {server.actor_ids}\")\n",
    "print(f\"Client nodes are identified by {clients.actor_ids}\")"
   ]
  },
  {
   "cell_type": "code",
   "execution_count": 10,
   "metadata": {},
   "outputs": [
    {
     "name": "stdout",
     "output_type": "stream",
     "text": [
      "Initializing model at a client\n",
      "INFO:tensorflow:Assets written to: ram://2c966620-921b-4da1-9dee-9298821abbfd/assets\n"
     ]
    },
    {
     "name": "stderr",
     "output_type": "stream",
     "text": [
      "INFO:tensorflow:Assets written to: ram://2c966620-921b-4da1-9dee-9298821abbfd/assets\n"
     ]
    },
    {
     "name": "stdout",
     "output_type": "stream",
     "text": [
      "INFO:tensorflow:Assets written to: ram://cde47a77-d89f-4a4e-8ab4-a176f4d9496e/assets\n"
     ]
    },
    {
     "name": "stderr",
     "output_type": "stream",
     "text": [
      "INFO:tensorflow:Assets written to: ram://cde47a77-d89f-4a4e-8ab4-a176f4d9496e/assets\n"
     ]
    },
    {
     "data": {
      "text/plain": [
       "[None]"
      ]
     },
     "execution_count": 10,
     "metadata": {},
     "output_type": "execute_result"
    }
   ],
   "source": [
    "server.map(deploy_model_to_clients, clients, verbose=1)"
   ]
  },
  {
   "cell_type": "code",
   "execution_count": 11,
   "metadata": {},
   "outputs": [],
   "source": [
    "@train_decorator\n",
    "def fit_tf(model, X_data, y_data, *args, **kwargs):\n",
    "    model.fit(X_data, y_data, *args, **kwargs)"
   ]
  },
  {
   "cell_type": "code",
   "execution_count": 12,
   "metadata": {},
   "outputs": [
    {
     "name": "stdout",
     "output_type": "stream",
     "text": [
      "Epoch 1/2\n",
      "25/25 [==============================] - 2s 77ms/step - loss: 0.6487 - accuracy: 0.6361\n",
      "Epoch 2/2\n",
      "25/25 [==============================] - 2s 74ms/step - loss: 0.5254 - accuracy: 0.7847\n",
      "Epoch 1/2\n",
      "25/25 [==============================] - 2s 76ms/step - loss: 0.6485 - accuracy: 0.6409\n",
      "Epoch 2/2\n",
      "25/25 [==============================] - 2s 74ms/step - loss: 0.5259 - accuracy: 0.7845\n"
     ]
    },
    {
     "data": {
      "text/plain": [
       "[None, None]"
      ]
     },
     "execution_count": 12,
     "metadata": {},
     "output_type": "execute_result"
    }
   ],
   "source": [
    "clients.map(fit_tf, batch_size=512, epochs=2)"
   ]
  },
  {
   "cell_type": "code",
   "execution_count": 13,
   "metadata": {},
   "outputs": [
    {
     "data": {
      "text/plain": [
       "['server']"
      ]
     },
     "execution_count": 13,
     "metadata": {},
     "output_type": "execute_result"
    }
   ],
   "source": [
    "aggregator = flex_pool.aggregators\n",
    "aggregator.actor_ids"
   ]
  },
  {
   "cell_type": "code",
   "execution_count": 14,
   "metadata": {},
   "outputs": [],
   "source": [
    "@collector_decorator\n",
    "def tensorflow_weights_collector(client_model):\n",
    "    return client_model.get_weights()"
   ]
  },
  {
   "cell_type": "code",
   "execution_count": 15,
   "metadata": {},
   "outputs": [
    {
     "data": {
      "text/plain": [
       "[None, None]"
      ]
     },
     "execution_count": 15,
     "metadata": {},
     "output_type": "execute_result"
    }
   ],
   "source": [
    "clients.map(tensorflow_weights_collector, aggregator)"
   ]
  },
  {
   "cell_type": "code",
   "execution_count": 16,
   "metadata": {},
   "outputs": [],
   "source": [
    "@aggregator_decorator_tf\n",
    "def fed_avg(agg_model):\n",
    "    return np.mean(np.array(agg_model), axis=0)"
   ]
  },
  {
   "cell_type": "code",
   "execution_count": 17,
   "metadata": {},
   "outputs": [
    {
     "name": "stdout",
     "output_type": "stream",
     "text": [
      "Aggregating weights\n"
     ]
    },
    {
     "name": "stderr",
     "output_type": "stream",
     "text": [
      "/var/folders/9d/8sk2j5nd30v6mvx2vx61hp980000gn/T/ipykernel_89200/3754503321.py:3: VisibleDeprecationWarning: Creating an ndarray from ragged nested sequences (which is a list-or-tuple of lists-or-tuples-or ndarrays with different lengths or shapes) is deprecated. If you meant to do this, you must specify 'dtype=object' when creating the ndarray.\n",
      "  return np.mean(np.array(agg_model), axis=0)\n"
     ]
    },
    {
     "data": {
      "text/plain": [
       "[None]"
      ]
     },
     "execution_count": 17,
     "metadata": {},
     "output_type": "execute_result"
    }
   ],
   "source": [
    "aggregator.map(fed_avg, verbose=1)"
   ]
  },
  {
   "cell_type": "code",
   "execution_count": 18,
   "metadata": {},
   "outputs": [],
   "source": [
    "@deploy_decorator\n",
    "def deploy_global_model(server_model, clients_models):\n",
    "    aggregated_weights = server_model.get_weights()\n",
    "    for client_model in clients_models:\n",
    "        clients_models[client_model][\"model\"].set_weights(aggregated_weights)"
   ]
  },
  {
   "cell_type": "code",
   "execution_count": 19,
   "metadata": {},
   "outputs": [
    {
     "name": "stdout",
     "output_type": "stream",
     "text": [
      "Args: [{'model': <keras.engine.sequential.Sequential object at 0x17b581550>, 'weights': []}, {'client_0': {'model': <keras.engine.sequential.Sequential object at 0x299bcb640>}, 'client_1': {'model': <keras.engine.sequential.Sequential object at 0x298de5310>}}]\n"
     ]
    },
    {
     "data": {
      "text/plain": [
       "[None]"
      ]
     },
     "execution_count": 19,
     "metadata": {},
     "output_type": "execute_result"
    }
   ],
   "source": [
    "server.map(deploy_global_model, clients)"
   ]
  },
  {
   "cell_type": "code",
   "execution_count": 20,
   "metadata": {},
   "outputs": [],
   "source": [
    "test_examples, test_labels = test_data"
   ]
  },
  {
   "cell_type": "code",
   "execution_count": 21,
   "metadata": {},
   "outputs": [
    {
     "name": "stdout",
     "output_type": "stream",
     "text": [
      "Evaluating model at server\n",
      "782/782 [==============================] - 6s 8ms/step - loss: 0.4984 - accuracy: 0.7852\n",
      "Results on test data: [0.4984446167945862, 0.7852000594139099]\n"
     ]
    },
    {
     "data": {
      "text/plain": [
       "[None]"
      ]
     },
     "execution_count": 21,
     "metadata": {},
     "output_type": "execute_result"
    }
   ],
   "source": [
    "server.map(evaluate_model, test_examples=test_examples, test_labels=test_labels)"
   ]
  },
  {
   "cell_type": "code",
   "execution_count": 22,
   "metadata": {},
   "outputs": [
    {
     "name": "stdout",
     "output_type": "stream",
     "text": [
      "Evaluating model at client.\n",
      "391/391 [==============================] - 3s 8ms/step - loss: 0.4595 - accuracy: 0.8281\n",
      "Results at client on client's data: [0.4594801962375641, 0.8280800580978394]\n",
      "782/782 [==============================] - 6s 8ms/step - loss: 0.4984 - accuracy: 0.7852\n",
      "Results on test data: [0.4984446167945862, 0.7852000594139099]\n",
      "Evaluating model at client.\n",
      "391/391 [==============================] - 3s 8ms/step - loss: 0.4588 - accuracy: 0.8246\n",
      "Results at client on client's data: [0.45879843831062317, 0.8245600461959839]\n",
      "782/782 [==============================] - 6s 8ms/step - loss: 0.4984 - accuracy: 0.7852\n",
      "Results on test data: [0.4984446167945862, 0.7852000594139099]\n"
     ]
    },
    {
     "data": {
      "text/plain": [
       "[None, None]"
      ]
     },
     "execution_count": 22,
     "metadata": {},
     "output_type": "execute_result"
    }
   ],
   "source": [
    "clients.map(evaluate_model, test_examples=test_examples, test_labels=test_labels)"
   ]
  },
  {
   "cell_type": "markdown",
   "metadata": {},
   "source": [
    "# Putting it all together"
   ]
  },
  {
   "cell_type": "code",
   "execution_count": 23,
   "metadata": {},
   "outputs": [],
   "source": [
    "def train_n_rounds(n_rounds, batch_size, epochs):\n",
    "    pool = FlexPool.client_server_architecture(fed_dataset=flex_dataset, init_func=define_model, verbose=1, model_params=[])\n",
    "    pool.servers.map(deploy_model_to_clients, pool.clients, verbose=1)\n",
    "    for i in range(n_rounds):\n",
    "        print(f\"\\nRunning round: {i}\\n\")\n",
    "        pool.clients.map(fit_tf, batch_size=batch_size, epochs=epochs, verbose=1)\n",
    "        pool.clients.map(evaluate_model, test_examples=test_examples, test_labels=test_labels)\n",
    "        pool.clients.map(tensorflow_weights_collector, pool.aggregators, verbose=1)\n",
    "        pool.aggregators.map(fed_avg, verbose=1)\n",
    "        pool.servers.map(deploy_global_model, pool.clients)\n",
    "        pool.servers.map(evaluate_model, test_examples=test_examples, test_labels=test_labels)"
   ]
  },
  {
   "cell_type": "code",
   "execution_count": 24,
   "metadata": {},
   "outputs": [
    {
     "name": "stdout",
     "output_type": "stream",
     "text": [
      "Initializing server model.\n",
      "Initializing model at a client\n",
      "INFO:tensorflow:Assets written to: ram://88c1fecd-ab25-475e-a4e6-2d8f330efcb8/assets\n"
     ]
    },
    {
     "name": "stderr",
     "output_type": "stream",
     "text": [
      "INFO:tensorflow:Assets written to: ram://88c1fecd-ab25-475e-a4e6-2d8f330efcb8/assets\n"
     ]
    },
    {
     "name": "stdout",
     "output_type": "stream",
     "text": [
      "INFO:tensorflow:Assets written to: ram://5d668fa2-bd23-474c-8e51-c6962a118fa6/assets\n"
     ]
    },
    {
     "name": "stderr",
     "output_type": "stream",
     "text": [
      "INFO:tensorflow:Assets written to: ram://5d668fa2-bd23-474c-8e51-c6962a118fa6/assets\n"
     ]
    },
    {
     "name": "stdout",
     "output_type": "stream",
     "text": [
      "\n",
      "Running round: 0\n",
      "\n",
      "Training model at client.\n",
      "Epoch 1/10\n",
      "25/25 [==============================] - 3s 91ms/step - loss: 0.6946 - accuracy: 0.5522\n",
      "Epoch 2/10\n",
      "25/25 [==============================] - 2s 86ms/step - loss: 0.5706 - accuracy: 0.7770\n",
      "Epoch 3/10\n",
      "25/25 [==============================] - 2s 83ms/step - loss: 0.4400 - accuracy: 0.8510\n",
      "Epoch 4/10\n",
      "25/25 [==============================] - 2s 81ms/step - loss: 0.3188 - accuracy: 0.9011\n",
      "Epoch 5/10\n",
      "25/25 [==============================] - 2s 81ms/step - loss: 0.2305 - accuracy: 0.9287\n",
      "Epoch 6/10\n",
      "25/25 [==============================] - 2s 82ms/step - loss: 0.1708 - accuracy: 0.9497\n",
      "Epoch 7/10\n",
      "25/25 [==============================] - 2s 81ms/step - loss: 0.1266 - accuracy: 0.9687\n",
      "Epoch 8/10\n",
      "25/25 [==============================] - 2s 79ms/step - loss: 0.0941 - accuracy: 0.9808\n",
      "Epoch 9/10\n",
      "25/25 [==============================] - 2s 83ms/step - loss: 0.0697 - accuracy: 0.9882\n",
      "Epoch 10/10\n",
      "25/25 [==============================] - 2s 79ms/step - loss: 0.0514 - accuracy: 0.9929\n",
      "Training model at client.\n",
      "Epoch 1/10\n",
      "25/25 [==============================] - 3s 87ms/step - loss: 0.6905 - accuracy: 0.5637\n",
      "Epoch 2/10\n",
      "25/25 [==============================] - 2s 83ms/step - loss: 0.5687 - accuracy: 0.7794\n",
      "Epoch 3/10\n",
      "25/25 [==============================] - 2s 85ms/step - loss: 0.4395 - accuracy: 0.8487\n",
      "Epoch 4/10\n",
      "25/25 [==============================] - 2s 82ms/step - loss: 0.3201 - accuracy: 0.8987\n",
      "Epoch 5/10\n",
      "25/25 [==============================] - 2s 85ms/step - loss: 0.2309 - accuracy: 0.9286\n",
      "Epoch 6/10\n",
      "25/25 [==============================] - 2s 85ms/step - loss: 0.1692 - accuracy: 0.9517\n",
      "Epoch 7/10\n",
      "25/25 [==============================] - 2s 83ms/step - loss: 0.1240 - accuracy: 0.9683\n",
      "Epoch 8/10\n",
      "25/25 [==============================] - 2s 98ms/step - loss: 0.0914 - accuracy: 0.9799\n",
      "Epoch 9/10\n",
      "25/25 [==============================] - 2s 95ms/step - loss: 0.0674 - accuracy: 0.9880\n",
      "Epoch 10/10\n",
      "25/25 [==============================] - 2s 90ms/step - loss: 0.0502 - accuracy: 0.9928\n",
      "Evaluating model at client.\n",
      "391/391 [==============================] - 4s 10ms/step - loss: 0.0416 - accuracy: 0.9955\n",
      "Results at client on client's data: [0.04158500209450722, 0.9955200552940369]\n",
      "782/782 [==============================] - 6s 8ms/step - loss: 0.3126 - accuracy: 0.8716\n",
      "Results on test data: [0.312576025724411, 0.8716000318527222]\n",
      "Evaluating model at client.\n",
      "391/391 [==============================] - 4s 9ms/step - loss: 0.0405 - accuracy: 0.9956\n",
      "Results at client on client's data: [0.04046478122472763, 0.9956000447273254]\n",
      "782/782 [==============================] - 6s 8ms/step - loss: 0.3079 - accuracy: 0.8741\n",
      "Results on test data: [0.3079122006893158, 0.8741200566291809]\n",
      "Collecting weights.\n",
      "Collecting weights.\n",
      "Aggregating weights\n",
      "Args: [{'model': <keras.engine.sequential.Sequential object at 0x2fd2a8040>, 'weights': []}, {'client_1': {'model': <keras.engine.sequential.Sequential object at 0x31d2f4970>}, 'client_0': {'model': <keras.engine.sequential.Sequential object at 0x31f3a8c70>}}]\n"
     ]
    },
    {
     "name": "stderr",
     "output_type": "stream",
     "text": [
      "/var/folders/9d/8sk2j5nd30v6mvx2vx61hp980000gn/T/ipykernel_89200/3754503321.py:3: VisibleDeprecationWarning: Creating an ndarray from ragged nested sequences (which is a list-or-tuple of lists-or-tuples-or ndarrays with different lengths or shapes) is deprecated. If you meant to do this, you must specify 'dtype=object' when creating the ndarray.\n",
      "  return np.mean(np.array(agg_model), axis=0)\n"
     ]
    },
    {
     "name": "stdout",
     "output_type": "stream",
     "text": [
      "Evaluating model at server\n",
      "782/782 [==============================] - 7s 9ms/step - loss: 0.2963 - accuracy: 0.8799\n",
      "Results on test data: [0.296309232711792, 0.8799200654029846]\n",
      "\n",
      "Running round: 1\n",
      "\n",
      "Training model at client.\n",
      "Epoch 1/10\n",
      "25/25 [==============================] - 3s 96ms/step - loss: 0.0707 - accuracy: 0.9804\n",
      "Epoch 2/10\n",
      "25/25 [==============================] - 2s 91ms/step - loss: 0.0467 - accuracy: 0.9929\n",
      "Epoch 3/10\n",
      "25/25 [==============================] - 2s 100ms/step - loss: 0.0327 - accuracy: 0.9968\n",
      "Epoch 4/10\n",
      "25/25 [==============================] - 2s 86ms/step - loss: 0.0239 - accuracy: 0.9983\n",
      "Epoch 5/10\n",
      "25/25 [==============================] - 2s 87ms/step - loss: 0.0181 - accuracy: 0.9990\n",
      "Epoch 6/10\n",
      "25/25 [==============================] - 2s 83ms/step - loss: 0.0140 - accuracy: 0.9995\n",
      "Epoch 7/10\n",
      "25/25 [==============================] - 2s 82ms/step - loss: 0.0112 - accuracy: 0.9997\n",
      "Epoch 8/10\n",
      "25/25 [==============================] - 2s 87ms/step - loss: 0.0091 - accuracy: 0.9998\n",
      "Epoch 9/10\n",
      "25/25 [==============================] - 2s 86ms/step - loss: 0.0074 - accuracy: 0.9999\n",
      "Epoch 10/10\n",
      "25/25 [==============================] - 2s 84ms/step - loss: 0.0063 - accuracy: 0.9999\n",
      "Training model at client.\n",
      "Epoch 1/10\n",
      "25/25 [==============================] - 2s 90ms/step - loss: 0.0733 - accuracy: 0.9802\n",
      "Epoch 2/10\n",
      "25/25 [==============================] - 2s 95ms/step - loss: 0.0508 - accuracy: 0.9904\n",
      "Epoch 3/10\n",
      "25/25 [==============================] - 2s 99ms/step - loss: 0.0355 - accuracy: 0.9957\n",
      "Epoch 4/10\n",
      "25/25 [==============================] - 2s 94ms/step - loss: 0.0262 - accuracy: 0.9975\n",
      "Epoch 5/10\n",
      "25/25 [==============================] - 2s 90ms/step - loss: 0.0199 - accuracy: 0.9988\n",
      "Epoch 6/10\n",
      "25/25 [==============================] - 2s 90ms/step - loss: 0.0154 - accuracy: 0.9994\n",
      "Epoch 7/10\n",
      "25/25 [==============================] - 2s 83ms/step - loss: 0.0122 - accuracy: 0.9998\n",
      "Epoch 8/10\n",
      "25/25 [==============================] - 2s 87ms/step - loss: 0.0100 - accuracy: 0.9998\n",
      "Epoch 9/10\n",
      "25/25 [==============================] - 2s 88ms/step - loss: 0.0082 - accuracy: 0.9998\n",
      "Epoch 10/10\n",
      "25/25 [==============================] - 2s 92ms/step - loss: 0.0068 - accuracy: 0.9999\n",
      "Evaluating model at client.\n",
      "391/391 [==============================] - 3s 6ms/step - loss: 0.0055 - accuracy: 0.9999\n",
      "Results at client on client's data: [0.005484793335199356, 0.9999200701713562]\n",
      "782/782 [==============================] - 5s 6ms/step - loss: 0.3837 - accuracy: 0.8696\n",
      "Results on test data: [0.3837287425994873, 0.8695600628852844]\n",
      "Evaluating model at client.\n",
      "391/391 [==============================] - 2s 6ms/step - loss: 0.0060 - accuracy: 0.9999\n",
      "Results at client on client's data: [0.00603750953450799, 0.9999200701713562]\n",
      "782/782 [==============================] - 5s 6ms/step - loss: 0.3773 - accuracy: 0.8713\n",
      "Results on test data: [0.3772503733634949, 0.8713200688362122]\n",
      "Collecting weights.\n",
      "Collecting weights.\n",
      "Aggregating weights\n",
      "Args: [{'model': <keras.engine.sequential.Sequential object at 0x2fd2a8040>, 'weights': []}, {'client_1': {'model': <keras.engine.sequential.Sequential object at 0x31d2f4970>}, 'client_0': {'model': <keras.engine.sequential.Sequential object at 0x31f3a8c70>}}]\n",
      "Evaluating model at server\n",
      "782/782 [==============================] - 5s 6ms/step - loss: 0.3660 - accuracy: 0.8740\n",
      "Results on test data: [0.3660396635532379, 0.874000072479248]\n",
      "\n",
      "Running round: 2\n",
      "\n",
      "Training model at client.\n",
      "Epoch 1/10\n",
      "25/25 [==============================] - 3s 97ms/step - loss: 0.0187 - accuracy: 0.9963\n",
      "Epoch 2/10\n",
      "25/25 [==============================] - 2s 87ms/step - loss: 0.0101 - accuracy: 0.9995\n",
      "Epoch 3/10\n",
      "25/25 [==============================] - 3s 106ms/step - loss: 0.0069 - accuracy: 0.9999\n",
      "Epoch 4/10\n",
      "25/25 [==============================] - 2s 95ms/step - loss: 0.0054 - accuracy: 1.0000\n",
      "Epoch 5/10\n",
      "25/25 [==============================] - 2s 91ms/step - loss: 0.0045 - accuracy: 1.0000\n",
      "Epoch 6/10\n",
      "25/25 [==============================] - 2s 93ms/step - loss: 0.0038 - accuracy: 1.0000\n",
      "Epoch 7/10\n",
      "25/25 [==============================] - 2s 96ms/step - loss: 0.0032 - accuracy: 1.0000\n",
      "Epoch 8/10\n",
      "25/25 [==============================] - 2s 99ms/step - loss: 0.0028 - accuracy: 1.0000\n",
      "Epoch 9/10\n",
      "25/25 [==============================] - 3s 105ms/step - loss: 0.0025 - accuracy: 1.0000\n",
      "Epoch 10/10\n",
      "25/25 [==============================] - 2s 94ms/step - loss: 0.0022 - accuracy: 1.0000\n",
      "Training model at client.\n",
      "Epoch 1/10\n",
      "25/25 [==============================] - 3s 113ms/step - loss: 0.0200 - accuracy: 0.9954\n",
      "Epoch 2/10\n",
      "25/25 [==============================] - 2s 93ms/step - loss: 0.0108 - accuracy: 0.9992\n",
      "Epoch 3/10\n",
      "25/25 [==============================] - 2s 97ms/step - loss: 0.0073 - accuracy: 1.0000\n",
      "Epoch 4/10\n",
      "25/25 [==============================] - 2s 98ms/step - loss: 0.0058 - accuracy: 1.0000\n",
      "Epoch 5/10\n",
      "25/25 [==============================] - 2s 97ms/step - loss: 0.0048 - accuracy: 1.0000\n",
      "Epoch 6/10\n",
      "25/25 [==============================] - 2s 91ms/step - loss: 0.0040 - accuracy: 1.0000\n",
      "Epoch 7/10\n",
      "25/25 [==============================] - 2s 97ms/step - loss: 0.0035 - accuracy: 1.0000\n",
      "Epoch 8/10\n",
      "25/25 [==============================] - 2s 88ms/step - loss: 0.0030 - accuracy: 1.0000\n",
      "Epoch 9/10\n",
      "25/25 [==============================] - 2s 91ms/step - loss: 0.0027 - accuracy: 1.0000\n",
      "Epoch 10/10\n",
      "25/25 [==============================] - 2s 88ms/step - loss: 0.0024 - accuracy: 1.0000\n",
      "Evaluating model at client.\n",
      "391/391 [==============================] - 3s 8ms/step - loss: 0.0021 - accuracy: 1.0000\n",
      "Results at client on client's data: [0.0020698648877441883, 1.0000001192092896]\n",
      "782/782 [==============================] - 5s 7ms/step - loss: 0.4432 - accuracy: 0.8674\n",
      "Results on test data: [0.4431557357311249, 0.8673600554466248]\n",
      "Evaluating model at client.\n",
      "391/391 [==============================] - 3s 7ms/step - loss: 0.0022 - accuracy: 1.0000\n",
      "Results at client on client's data: [0.0022024994250386953, 1.0000001192092896]\n",
      "782/782 [==============================] - 5s 6ms/step - loss: 0.4374 - accuracy: 0.8680\n",
      "Results on test data: [0.43738847970962524, 0.8680000305175781]\n",
      "Collecting weights.\n",
      "Collecting weights.\n",
      "Aggregating weights\n",
      "Args: [{'model': <keras.engine.sequential.Sequential object at 0x2fd2a8040>, 'weights': []}, {'client_1': {'model': <keras.engine.sequential.Sequential object at 0x31d2f4970>}, 'client_0': {'model': <keras.engine.sequential.Sequential object at 0x31f3a8c70>}}]\n",
      "Evaluating model at server\n",
      "782/782 [==============================] - 5s 6ms/step - loss: 0.4316 - accuracy: 0.8691\n",
      "Results on test data: [0.43157118558883667, 0.8691200613975525]\n",
      "\n",
      "Running round: 3\n",
      "\n",
      "Training model at client.\n",
      "Epoch 1/10\n",
      "25/25 [==============================] - 3s 99ms/step - loss: 0.0060 - accuracy: 0.9996\n",
      "Epoch 2/10\n",
      "25/25 [==============================] - 2s 98ms/step - loss: 0.0035 - accuracy: 1.0000\n",
      "Epoch 3/10\n",
      "25/25 [==============================] - 2s 92ms/step - loss: 0.0027 - accuracy: 1.0000\n",
      "Epoch 4/10\n",
      "25/25 [==============================] - 2s 94ms/step - loss: 0.0022 - accuracy: 1.0000\n",
      "Epoch 5/10\n",
      "25/25 [==============================] - 2s 93ms/step - loss: 0.0019 - accuracy: 1.0000\n",
      "Epoch 6/10\n",
      "25/25 [==============================] - 2s 95ms/step - loss: 0.0017 - accuracy: 1.0000\n",
      "Epoch 7/10\n",
      "25/25 [==============================] - 2s 87ms/step - loss: 0.0015 - accuracy: 1.0000\n",
      "Epoch 8/10\n",
      "25/25 [==============================] - 2s 92ms/step - loss: 0.0014 - accuracy: 1.0000\n",
      "Epoch 9/10\n",
      "25/25 [==============================] - 2s 92ms/step - loss: 0.0012 - accuracy: 1.0000\n",
      "Epoch 10/10\n",
      "25/25 [==============================] - 2s 95ms/step - loss: 0.0011 - accuracy: 1.0000\n",
      "Training model at client.\n",
      "Epoch 1/10\n",
      "25/25 [==============================] - 3s 94ms/step - loss: 0.0066 - accuracy: 0.9994\n",
      "Epoch 2/10\n",
      "25/25 [==============================] - 3s 102ms/step - loss: 0.0038 - accuracy: 1.0000\n",
      "Epoch 3/10\n",
      "25/25 [==============================] - 3s 110ms/step - loss: 0.0028 - accuracy: 1.0000\n",
      "Epoch 4/10\n",
      "25/25 [==============================] - 3s 108ms/step - loss: 0.0024 - accuracy: 1.0000\n",
      "Epoch 5/10\n",
      "25/25 [==============================] - 3s 116ms/step - loss: 0.0020 - accuracy: 1.0000\n",
      "Epoch 6/10\n",
      "25/25 [==============================] - 3s 138ms/step - loss: 0.0018 - accuracy: 1.0000\n",
      "Epoch 7/10\n",
      "25/25 [==============================] - 3s 112ms/step - loss: 0.0016 - accuracy: 1.0000\n",
      "Epoch 8/10\n",
      "25/25 [==============================] - 3s 130ms/step - loss: 0.0015 - accuracy: 1.0000\n",
      "Epoch 9/10\n",
      "25/25 [==============================] - 3s 116ms/step - loss: 0.0013 - accuracy: 1.0000\n",
      "Epoch 10/10\n",
      "25/25 [==============================] - 3s 126ms/step - loss: 0.0012 - accuracy: 1.0000\n",
      "Evaluating model at client.\n",
      "391/391 [==============================] - 4s 10ms/step - loss: 0.0011 - accuracy: 1.0000\n",
      "Results at client on client's data: [0.001063455012626946, 1.0000001192092896]\n",
      "782/782 [==============================] - 8s 10ms/step - loss: 0.4889 - accuracy: 0.8658\n",
      "Results on test data: [0.48888707160949707, 0.8658400774002075]\n",
      "Evaluating model at client.\n",
      "391/391 [==============================] - 4s 9ms/step - loss: 0.0011 - accuracy: 1.0000\n",
      "Results at client on client's data: [0.001125511946156621, 1.0000001192092896]\n",
      "782/782 [==============================] - 7s 9ms/step - loss: 0.4864 - accuracy: 0.8658\n",
      "Results on test data: [0.48635175824165344, 0.8657600283622742]\n",
      "Collecting weights.\n",
      "Collecting weights.\n",
      "Aggregating weights\n",
      "Args: [{'model': <keras.engine.sequential.Sequential object at 0x2fd2a8040>, 'weights': []}, {'client_1': {'model': <keras.engine.sequential.Sequential object at 0x31d2f4970>}, 'client_0': {'model': <keras.engine.sequential.Sequential object at 0x31f3a8c70>}}]\n",
      "Evaluating model at server\n",
      "782/782 [==============================] - 8s 10ms/step - loss: 0.4825 - accuracy: 0.8670\n",
      "Results on test data: [0.4825298488140106, 0.8670400381088257]\n"
     ]
    }
   ],
   "source": [
    "train_n_rounds(n_rounds=4, batch_size=512, epochs=10)"
   ]
  },
  {
   "cell_type": "markdown",
   "metadata": {},
   "source": [
    "# END"
   ]
  }
 ],
 "metadata": {
  "interpreter": {
   "hash": "c16e99a8b049a3c2333046a7199861cad81dc55b88bad19d31a6edddeb39a963"
  },
  "kernelspec": {
   "display_name": "Python 3.9.13 ('flex')",
   "language": "python",
   "name": "python3"
  },
  "language_info": {
   "codemirror_mode": {
    "name": "ipython",
    "version": 3
   },
   "file_extension": ".py",
   "mimetype": "text/x-python",
   "name": "python",
   "nbconvert_exporter": "python",
   "pygments_lexer": "ipython3",
   "version": "3.9.13"
  },
  "orig_nbformat": 4
 },
 "nbformat": 4,
 "nbformat_minor": 2
}
