{
 "cells": [
  {
   "cell_type": "code",
   "execution_count": null,
   "metadata": {},
   "outputs": [],
   "source": [
    "from copy import deepcopy\n",
    "import numpy as np\n",
    "\n",
    "import tensorflow as tf\n",
    "import tensorflow_hub as hub\n",
    "import tensorflow_datasets as tfds\n",
    "\n",
    "import matplotlib.pyplot as plt\n",
    "\n",
    "print(\"Version: \", tf.__version__)\n",
    "print(\"Eager mode: \", tf.executing_eagerly())\n",
    "print(\"Hub version: \", hub.__version__)\n",
    "print(\"GPU is\", \"available\" if tf.config.list_physical_devices('GPU') else \"NOT AVAILABLE\")"
   ]
  },
  {
   "cell_type": "code",
   "execution_count": null,
   "metadata": {},
   "outputs": [],
   "source": [
    "train_data, test_data = tfds.load(name=\"imdb_reviews\", split=[\"train\", \"test\"])"
   ]
  },
  {
   "cell_type": "code",
   "execution_count": null,
   "metadata": {},
   "outputs": [],
   "source": [
    "from flex.data import Dataset\n",
    "\n",
    "flex_data = Dataset.from_tfds_text_dataset(train_data, X_columns='text', label_columns='label')"
   ]
  },
  {
   "cell_type": "code",
   "execution_count": null,
   "metadata": {},
   "outputs": [],
   "source": [
    "from flex.data import FedDatasetConfig, FedDataDistribution\n",
    "\n",
    "config = FedDatasetConfig(seed=0)\n",
    "config.n_clients = 2\n",
    "config.replacement = False # ensure that clients do not share any data\n",
    "config.client_names = ['client1', 'client2'] # Optional\n",
    "flex_dataset = FedDataDistribution.from_config(centralized_data=flex_data, config=config)"
   ]
  },
  {
   "cell_type": "code",
   "execution_count": null,
   "metadata": {},
   "outputs": [],
   "source": [
    "from flex.data import FedDataDistribution\n",
    "\n",
    "flex_dataset = FedDataDistribution.iid_distribution(flex_data, n_clients=2)"
   ]
  },
  {
   "cell_type": "code",
   "execution_count": null,
   "metadata": {},
   "outputs": [],
   "source": [
    "from flex.pool.primitives import deploy_server_model_tf\n",
    "from flex.pool.primitives import evaluate_server_model_tf\n",
    "\n",
    "from flex.pool.decorators import init_server_model\n",
    "from flex.pool.decorators import collect_clients_weights\n",
    "from flex.pool.decorators import aggregate_weights\n",
    "from flex.pool.decorators import deploy_server_model\n",
    "from flex.pool.decorators import set_aggregated_weights\n",
    "from flex.model import FlexModel"
   ]
  },
  {
   "cell_type": "code",
   "execution_count": null,
   "metadata": {},
   "outputs": [],
   "source": [
    "# Defining the model\n",
    "@init_server_model\n",
    "def define_model(*args):\n",
    "    from copy import deepcopy\n",
    "    # model = \"https://tfhub.dev/google/nnlm-en-dim110-with-normalization/2\"\n",
    "    model = \"https://tfhub.dev/google/nnlm-en-dim50/2\"\n",
    "    hub_layer = hub.KerasLayer(model, input_shape=[], dtype=tf.string, trainable=True)\n",
    "    model = tf.keras.Sequential()\n",
    "    model.add(hub_layer)\n",
    "    model.add(tf.keras.layers.Dense(16, activation='relu'))\n",
    "    model.add(tf.keras.layers.Dense(1))\n",
    "    model.compile(optimizer='adam',\n",
    "                    loss=tf.losses.BinaryCrossentropy(from_logits=True),\n",
    "                    metrics=[tf.metrics.BinaryAccuracy(threshold=0.0, name='accuracy')])\n",
    "    server_flex_model = FlexModel()\n",
    "    server_flex_model[\"model\"] = model\n",
    "    server_flex_model[\"loss\"] = deepcopy(model.loss)\n",
    "    server_flex_model[\"metrics\"] = deepcopy(model.compiled_metrics._metrics)\n",
    "    server_flex_model[\"optimizer\"] = deepcopy(model.optimizer)\n",
    "    return server_flex_model"
   ]
  },
  {
   "cell_type": "code",
   "execution_count": null,
   "metadata": {},
   "outputs": [],
   "source": [
    "from flex.pool import FlexPool\n",
    "\n",
    "flex_pool = FlexPool.client_server_architecture(fed_dataset=flex_dataset, init_func=define_model)"
   ]
  },
  {
   "cell_type": "code",
   "execution_count": null,
   "metadata": {},
   "outputs": [],
   "source": [
    "clients = flex_pool.clients\n",
    "server = flex_pool.servers\n",
    "print(f\"Server node is indentified by {server.actor_ids}\")\n",
    "print(f\"Client nodes are identified by {clients.actor_ids}\")"
   ]
  },
  {
   "cell_type": "code",
   "execution_count": null,
   "outputs": [],
   "source": [
    "from flex.model import FlexModel\n",
    "\n",
    "@deploy_server_model\n",
    "def copy_model_to_clients(server_flex_model, *args, **kwargs):\n",
    "    client_flex_model = FlexModel()\n",
    "    weights = server_flex_model[\"model\"].get_weights()\n",
    "    model = tf.keras.models.clone_model(server_flex_model[\"model\"])\n",
    "    model.set_weights(weights)\n",
    "    model.compile(\n",
    "        optimizer=server_flex_model[\"optimizer\"],\n",
    "        loss=server_flex_model[\"loss\"],\n",
    "        metrics=server_flex_model[\"metrics\"]\n",
    "    )\n",
    "    client_flex_model[\"model\"] = model\n",
    "    return client_flex_model"
   ],
   "metadata": {
    "collapsed": false
   }
  },
  {
   "cell_type": "code",
   "execution_count": null,
   "metadata": {},
   "outputs": [],
   "source": [
    "server.map(copy_model_to_clients, clients)"
   ]
  },
  {
   "cell_type": "code",
   "execution_count": null,
   "metadata": {},
   "outputs": [],
   "source": [
    "def fit_tf(client_flex_model, client_data, *args, **kwargs):\n",
    "    client_flex_model[\"model\"].fit(client_data.X_data, client_data.y_data, *args, **kwargs)"
   ]
  },
  {
   "cell_type": "code",
   "execution_count": null,
   "metadata": {},
   "outputs": [],
   "source": [
    "clients.map(fit_tf, batch_size=512, epochs=2)"
   ]
  },
  {
   "cell_type": "code",
   "execution_count": null,
   "metadata": {},
   "outputs": [],
   "source": [
    "aggregator = flex_pool.aggregators\n",
    "aggregator.actor_ids"
   ]
  },
  {
   "cell_type": "code",
   "execution_count": null,
   "metadata": {},
   "outputs": [],
   "source": [
    "@collect_clients_weights\n",
    "def tensorflow_weights_collector(client_model):\n",
    "    return client_model[\"model\"].get_weights()"
   ]
  },
  {
   "cell_type": "code",
   "execution_count": null,
   "metadata": {},
   "outputs": [],
   "source": [
    "aggregator.map(tensorflow_weights_collector, clients)"
   ]
  },
  {
   "cell_type": "code",
   "execution_count": null,
   "metadata": {},
   "outputs": [],
   "source": [
    "@aggregate_weights\n",
    "def fed_avg(agg_model):\n",
    "    return np.mean(np.array(agg_model), axis=0)"
   ]
  },
  {
   "cell_type": "code",
   "execution_count": null,
   "metadata": {},
   "outputs": [],
   "source": [
    "aggregator.map(fed_avg)"
   ]
  },
  {
   "cell_type": "code",
   "execution_count": null,
   "outputs": [],
   "source": [
    "@set_aggregated_weights\n",
    "def set_aggregated_weights_tf(server_flex_model, aggregated_weights, *args, **kwargs):\n",
    "    server_flex_model[\"model\"].set_weights(aggregated_weights)"
   ],
   "metadata": {
    "collapsed": false
   }
  },
  {
   "cell_type": "code",
   "execution_count": null,
   "outputs": [],
   "source": [
    "aggregator.map(set_aggregated_weights_tf, server)"
   ],
   "metadata": {
    "collapsed": false
   }
  },
  {
   "cell_type": "code",
   "execution_count": null,
   "metadata": {},
   "outputs": [],
   "source": [
    "server.map(copy_model_to_clients, clients)"
   ]
  },
  {
   "cell_type": "code",
   "execution_count": null,
   "metadata": {},
   "outputs": [],
   "source": [
    "test_data = Dataset.from_tfds_text_dataset(test_data, X_columns='text', label_columns='label')\n",
    "test_examples, test_labels = test_data.X_data, test_data.y_data"
   ]
  },
  {
   "cell_type": "code",
   "execution_count": null,
   "metadata": {},
   "outputs": [],
   "source": [
    "server.map(evaluate_server_model_tf, test_data=test_examples, test_labels=test_labels)"
   ]
  },
  {
   "cell_type": "code",
   "execution_count": null,
   "metadata": {},
   "outputs": [],
   "source": [
    "clients.map(evaluate_server_model_tf, test_data=test_examples, test_labels=test_labels)"
   ]
  },
  {
   "cell_type": "markdown",
   "metadata": {},
   "source": [
    "# Putting it all together"
   ]
  },
  {
   "cell_type": "code",
   "execution_count": null,
   "metadata": {},
   "outputs": [],
   "source": [
    "def train_n_rounds(n_rounds, batch_size, epochs):\n",
    "    pool = FlexPool.client_server_architecture(fed_dataset=flex_dataset, init_func=define_model)\n",
    "    pool.servers.map(copy_model_to_clients, pool.clients, verbose=1)\n",
    "    for i in range(n_rounds):\n",
    "        print(f\"\\nRunning round: {i}\\n\")\n",
    "        pool.clients.map(fit_tf, batch_size=batch_size, epochs=epochs)\n",
    "        pool.clients.map(evaluate_server_model_tf, test_data=test_examples, test_labels=test_labels)\n",
    "        pool.aggregators.map(tensorflow_weights_collector, pool.clients)\n",
    "        pool.aggregators.map(fed_avg)\n",
    "        pool.aggregators.map(set_aggregated_weights_tf, pool.servers)\n",
    "        pool.servers.map(copy_model_to_clients, pool.clients)\n",
    "        pool.servers.map(evaluate_server_model_tf, test_data=test_examples, test_labels=test_labels)"
   ]
  },
  {
   "cell_type": "code",
   "execution_count": null,
   "metadata": {},
   "outputs": [],
   "source": [
    "train_n_rounds(n_rounds=4, batch_size=512, epochs=10)"
   ]
  },
  {
   "cell_type": "markdown",
   "metadata": {},
   "source": [
    "# END"
   ]
  }
 ],
 "metadata": {
  "interpreter": {
   "hash": "c16e99a8b049a3c2333046a7199861cad81dc55b88bad19d31a6edddeb39a963"
  },
  "kernelspec": {
   "display_name": "Python 3.9.13 ('flex')",
   "language": "python",
   "name": "python3"
  },
  "language_info": {
   "codemirror_mode": {
    "name": "ipython",
    "version": 3
   },
   "file_extension": ".py",
   "mimetype": "text/x-python",
   "name": "python",
   "nbconvert_exporter": "python",
   "pygments_lexer": "ipython3",
   "version": "3.9.13"
  },
  "orig_nbformat": 4
 },
 "nbformat": 4,
 "nbformat_minor": 2
}
