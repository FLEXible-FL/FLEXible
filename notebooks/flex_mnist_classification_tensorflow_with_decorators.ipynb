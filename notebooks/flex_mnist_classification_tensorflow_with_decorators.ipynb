{
 "cells": [
  {
   "cell_type": "code",
   "execution_count": 9,
   "metadata": {},
   "outputs": [
    {
     "name": "stdout",
     "output_type": "stream",
     "text": [
      "Version:  2.10.0\n",
      "Eager mode:  True\n",
      "GPU is NOT AVAILABLE\n"
     ]
    }
   ],
   "source": [
    "from copy import deepcopy\n",
    "import numpy as np\n",
    "\n",
    "import tensorflow as tf\n",
    "import tensorflow_datasets as tfds\n",
    "\n",
    "import matplotlib.pyplot as plt\n",
    "\n",
    "print(\"Version: \", tf.__version__)\n",
    "print(\"Eager mode: \", tf.executing_eagerly())\n",
    "print(\"GPU is\", \"available\" if tf.config.list_physical_devices('GPU') else \"NOT AVAILABLE\")"
   ]
  },
  {
   "cell_type": "code",
   "execution_count": 10,
   "metadata": {},
   "outputs": [],
   "source": [
    "from flex.data import FlexDataDistribution\n",
    "\n",
    "flex_dataset, test_data =  FlexDataDistribution.load_femnist(return_test=True)"
   ]
  },
  {
   "cell_type": "code",
   "execution_count": 15,
   "metadata": {},
   "outputs": [
    {
     "name": "stdout",
     "output_type": "stream",
     "text": [
      "Number of nodes in the pool 3580: 1 servers plus 3579 clients. The server is also an aggregator\n"
     ]
    }
   ],
   "source": [
    "from flex.pool import init_server_model\n",
    "from flex.pool import FlexPool, FlexModel\n",
    "\n",
    "@init_server_model\n",
    "def build_server_model():\n",
    "    flex_model = FlexModel()\n",
    "    flex_model.model = tf.keras.models.Sequential([\n",
    "    tf.keras.layers.Flatten(input_shape=(28, 28)),\n",
    "    tf.keras.layers.Dense(128, activation='relu'),\n",
    "    tf.keras.layers.Dropout(0.2),\n",
    "    tf.keras.layers.Dense(10, activation='softmax')\n",
    "    ])\n",
    "\n",
    "    flex_model.model.compile(optimizer='adam',\n",
    "                loss='sparse_categorical_crossentropy',\n",
    "                metrics=['accuracy'])\n",
    "\n",
    "    return flex_model\n",
    "\n",
    "p = FlexPool.client_server_architecture(flex_dataset, init_func=build_server_model)\n",
    "\n",
    "clients = p.clients\n",
    "servers = p.servers\n",
    "aggregators = p.aggregators\n",
    "\n",
    "print(f\"Number of nodes in the pool {len(p)}: {len(servers)} servers plus {len(clients)} clients. The server is also an aggregator\")"
   ]
  },
  {
   "cell_type": "markdown",
   "metadata": {},
   "source": [
    "We also implement the possibility of select a subsample of the clients in the training process."
   ]
  },
  {
   "cell_type": "code",
   "execution_count": 16,
   "metadata": {},
   "outputs": [
    {
     "name": "stdout",
     "output_type": "stream",
     "text": [
      "Number of nodes in the pool 3580: 1 servers plus 715 clients. The server is also an aggregator\n"
     ]
    }
   ],
   "source": [
    "#Filter clients\n",
    "filtered_pool = p.filter(clients_dropout=0.8)\n",
    "\n",
    "clients = filtered_pool.clients\n",
    "\n",
    "\n",
    "print(f\"Number of nodes in the pool {len(p)}: {len(servers)} servers plus {len(clients)} clients. The server is also an aggregator\")"
   ]
  },
  {
   "cell_type": "code",
   "execution_count": 13,
   "metadata": {},
   "outputs": [
    {
     "data": {
      "text/plain": [
       "[]"
      ]
     },
     "execution_count": 13,
     "metadata": {},
     "output_type": "execute_result"
    }
   ],
   "source": [
    "import copy\n",
    "\n",
    "from flex.pool import deploy_server_model\n",
    "\n",
    "@deploy_server_model\n",
    "def copy_server_model_to_clients(server_flex_model: FlexModel):\n",
    "    flex_model = FlexModel()\n",
    "    for k, v in server_flex_model.items():\n",
    "        flex_model[k] = copy.deepcopy(v)\n",
    "\n",
    "    return flex_model\n",
    "\n",
    "servers.map(copy_server_model_to_clients, clients)"
   ]
  },
  {
   "cell_type": "code",
   "execution_count": 17,
   "metadata": {},
   "outputs": [
    {
     "ename": "KeyError",
     "evalue": "KeyError('fit')",
     "output_type": "error",
     "traceback": [
      "\u001b[0;31m---------------------------------------------------------------------------\u001b[0m",
      "\u001b[0;31mKeyError\u001b[0m                                  Traceback (most recent call last)",
      "File \u001b[0;32m~/Documents/FLEX-framework/flex/pool/flex_model.py:19\u001b[0m, in \u001b[0;36mFlexModel.__getattr__\u001b[0;34m(self, key)\u001b[0m\n\u001b[1;32m     18\u001b[0m \u001b[39mtry\u001b[39;00m:\n\u001b[0;32m---> 19\u001b[0m     \u001b[39mreturn\u001b[39;00m \u001b[39mself\u001b[39;49m[key]\n\u001b[1;32m     20\u001b[0m \u001b[39mexcept\u001b[39;00m \u001b[39mKeyError\u001b[39;00m \u001b[39mas\u001b[39;00m k:\n",
      "\u001b[0;31mKeyError\u001b[0m: 'fit'",
      "\nThe above exception was the direct cause of the following exception:\n",
      "\u001b[0;31mKeyError\u001b[0m                                  Traceback (most recent call last)",
      "Cell \u001b[0;32mIn [17], line 6\u001b[0m\n\u001b[1;32m      3\u001b[0m \u001b[39mdef\u001b[39;00m \u001b[39mtrain\u001b[39m(client_flex_model: FlexModel, client_data: FlexDataObject):\n\u001b[1;32m      4\u001b[0m     client_flex_model\u001b[39m.\u001b[39mfit(client_data\u001b[39m.\u001b[39mX_data)\n\u001b[0;32m----> 6\u001b[0m clients\u001b[39m.\u001b[39;49mmap(train)\n",
      "File \u001b[0;32m~/Documents/FLEX-framework/flex/pool/flex_pool.py:113\u001b[0m, in \u001b[0;36mFlexPool.map\u001b[0;34m(self, func, dst_pool, **kwargs)\u001b[0m\n\u001b[1;32m     80\u001b[0m \u001b[39m\"\"\"Method used to send messages from one pool to another. The pool using\u001b[39;00m\n\u001b[1;32m     81\u001b[0m \u001b[39mthis method is the source pool, and it will send a message, apply a function,\u001b[39;00m\n\u001b[1;32m     82\u001b[0m \u001b[39mto the destination pool. If no destination pool is provided, then the function is applied\u001b[39;00m\n\u001b[0;32m   (...)\u001b[0m\n\u001b[1;32m    110\u001b[0m \u001b[39m    length of the returned values equals the number of actors in the source pool.\u001b[39;00m\n\u001b[1;32m    111\u001b[0m \u001b[39m\"\"\"\u001b[39;00m\n\u001b[1;32m    112\u001b[0m \u001b[39mif\u001b[39;00m dst_pool \u001b[39mis\u001b[39;00m \u001b[39mNone\u001b[39;00m:\n\u001b[0;32m--> 113\u001b[0m     res \u001b[39m=\u001b[39m [\n\u001b[1;32m    114\u001b[0m         func(\u001b[39mself\u001b[39m\u001b[39m.\u001b[39m_models\u001b[39m.\u001b[39mget(i), \u001b[39mself\u001b[39m\u001b[39m.\u001b[39m_data\u001b[39m.\u001b[39mget(i), \u001b[39m*\u001b[39m\u001b[39m*\u001b[39mkwargs)\n\u001b[1;32m    115\u001b[0m         \u001b[39mfor\u001b[39;00m i \u001b[39min\u001b[39;00m \u001b[39mself\u001b[39m\u001b[39m.\u001b[39m_actors\n\u001b[1;32m    116\u001b[0m     ]\n\u001b[1;32m    117\u001b[0m \u001b[39melif\u001b[39;00m FlexPool\u001b[39m.\u001b[39mcheck_compatibility(\u001b[39mself\u001b[39m, dst_pool):\n\u001b[1;32m    118\u001b[0m     res \u001b[39m=\u001b[39m [\n\u001b[1;32m    119\u001b[0m         func(\u001b[39mself\u001b[39m\u001b[39m.\u001b[39m_models\u001b[39m.\u001b[39mget(i), dst_pool\u001b[39m.\u001b[39m_models, \u001b[39m*\u001b[39m\u001b[39m*\u001b[39mkwargs)\n\u001b[1;32m    120\u001b[0m         \u001b[39mfor\u001b[39;00m i \u001b[39min\u001b[39;00m \u001b[39mself\u001b[39m\u001b[39m.\u001b[39m_actors\n\u001b[1;32m    121\u001b[0m     ]\n",
      "File \u001b[0;32m~/Documents/FLEX-framework/flex/pool/flex_pool.py:114\u001b[0m, in \u001b[0;36m<listcomp>\u001b[0;34m(.0)\u001b[0m\n\u001b[1;32m     80\u001b[0m \u001b[39m\"\"\"Method used to send messages from one pool to another. The pool using\u001b[39;00m\n\u001b[1;32m     81\u001b[0m \u001b[39mthis method is the source pool, and it will send a message, apply a function,\u001b[39;00m\n\u001b[1;32m     82\u001b[0m \u001b[39mto the destination pool. If no destination pool is provided, then the function is applied\u001b[39;00m\n\u001b[0;32m   (...)\u001b[0m\n\u001b[1;32m    110\u001b[0m \u001b[39m    length of the returned values equals the number of actors in the source pool.\u001b[39;00m\n\u001b[1;32m    111\u001b[0m \u001b[39m\"\"\"\u001b[39;00m\n\u001b[1;32m    112\u001b[0m \u001b[39mif\u001b[39;00m dst_pool \u001b[39mis\u001b[39;00m \u001b[39mNone\u001b[39;00m:\n\u001b[1;32m    113\u001b[0m     res \u001b[39m=\u001b[39m [\n\u001b[0;32m--> 114\u001b[0m         func(\u001b[39mself\u001b[39;49m\u001b[39m.\u001b[39;49m_models\u001b[39m.\u001b[39;49mget(i), \u001b[39mself\u001b[39;49m\u001b[39m.\u001b[39;49m_data\u001b[39m.\u001b[39;49mget(i), \u001b[39m*\u001b[39;49m\u001b[39m*\u001b[39;49mkwargs)\n\u001b[1;32m    115\u001b[0m         \u001b[39mfor\u001b[39;00m i \u001b[39min\u001b[39;00m \u001b[39mself\u001b[39m\u001b[39m.\u001b[39m_actors\n\u001b[1;32m    116\u001b[0m     ]\n\u001b[1;32m    117\u001b[0m \u001b[39melif\u001b[39;00m FlexPool\u001b[39m.\u001b[39mcheck_compatibility(\u001b[39mself\u001b[39m, dst_pool):\n\u001b[1;32m    118\u001b[0m     res \u001b[39m=\u001b[39m [\n\u001b[1;32m    119\u001b[0m         func(\u001b[39mself\u001b[39m\u001b[39m.\u001b[39m_models\u001b[39m.\u001b[39mget(i), dst_pool\u001b[39m.\u001b[39m_models, \u001b[39m*\u001b[39m\u001b[39m*\u001b[39mkwargs)\n\u001b[1;32m    120\u001b[0m         \u001b[39mfor\u001b[39;00m i \u001b[39min\u001b[39;00m \u001b[39mself\u001b[39m\u001b[39m.\u001b[39m_actors\n\u001b[1;32m    121\u001b[0m     ]\n",
      "Cell \u001b[0;32mIn [17], line 4\u001b[0m, in \u001b[0;36mtrain\u001b[0;34m(client_flex_model, client_data)\u001b[0m\n\u001b[1;32m      3\u001b[0m \u001b[39mdef\u001b[39;00m \u001b[39mtrain\u001b[39m(client_flex_model: FlexModel, client_data: FlexDataObject):\n\u001b[0;32m----> 4\u001b[0m     client_flex_model\u001b[39m.\u001b[39;49mfit(client_data\u001b[39m.\u001b[39mX_data)\n",
      "File \u001b[0;32m~/Documents/FLEX-framework/flex/pool/flex_model.py:21\u001b[0m, in \u001b[0;36mFlexModel.__getattr__\u001b[0;34m(self, key)\u001b[0m\n\u001b[1;32m     19\u001b[0m     \u001b[39mreturn\u001b[39;00m \u001b[39mself\u001b[39m[key]\n\u001b[1;32m     20\u001b[0m \u001b[39mexcept\u001b[39;00m \u001b[39mKeyError\u001b[39;00m \u001b[39mas\u001b[39;00m k:\n\u001b[0;32m---> 21\u001b[0m     \u001b[39mraise\u001b[39;00m \u001b[39mKeyError\u001b[39;00m(k) \u001b[39mfrom\u001b[39;00m \u001b[39mk\u001b[39;00m\n",
      "\u001b[0;31mKeyError\u001b[0m: KeyError('fit')"
     ]
    }
   ],
   "source": [
    "from flex.data import FlexDataObject\n",
    "\n",
    "def train(client_flex_model: FlexModel, client_data: FlexDataObject):\n",
    "    client_flex_model.model.fit(client_data.X_data)\n",
    "\n",
    "clients.map(train)"
   ]
  },
  {
   "cell_type": "code",
   "execution_count": null,
   "metadata": {},
   "outputs": [],
   "source": [
    "from flex.pool import collect_clients_weights\n",
    "\n",
    "@collect_clients_weights\n",
    "def get_clients_weights(client_flex_model: FlexModel):\n",
    "    return client_flex_model.model.get_weights()\n",
    "\n",
    "aggregators.map(get_clients_weights, clients)"
   ]
  },
  {
   "cell_type": "code",
   "execution_count": null,
   "metadata": {},
   "outputs": [],
   "source": [
    "from flex.pool import aggregate_weights\n",
    "import numpy as np\n",
    "\n",
    "@aggregate_weights\n",
    "def aggregate(list_of_weights: list):\n",
    "    return np.mean(np.array(list_of_weights), axis=0)\n",
    "\n",
    "# Aggregate weights\n",
    "aggregators.map(aggregate)"
   ]
  },
  {
   "cell_type": "code",
   "execution_count": null,
   "metadata": {},
   "outputs": [],
   "source": [
    "from flex.pool import set_aggregated_weights\n",
    "\n",
    "@set_aggregated_weights\n",
    "def set_agreggated_weights_to_server(server_flex_model: FlexModel, aggregated_weights):\n",
    "    server_flex_model.model.set_weights(aggregated_weights) \n",
    "\n",
    "# Set aggregated weights in the server model\n",
    "aggregators.map(set_agreggated_weights_to_server, servers)"
   ]
  },
  {
   "cell_type": "code",
   "execution_count": null,
   "metadata": {},
   "outputs": [],
   "source": [
    "from flex.pool import evaluate_server_model\n",
    "\n",
    "from sklearn import metrics\n",
    "\n",
    "def score_model(labels, preds):\n",
    "    accuracy = metrics.accuracy_score(labels, preds)\n",
    "    recall = metrics.recall_score(labels, preds)\n",
    "    precision = metrics.precision_score(labels, preds)\n",
    "    f1 = metrics.f1_score(labels, preds)\n",
    "\n",
    "    results = accuracy, recall, precision, f1\n",
    "    \n",
    "    print(\"-------------------------------------\")\n",
    "    print(\"Accuracy: {},\\nRecall: {},\\nPrecision: {},\\nMacro F1: {}\".format(*results))\n",
    "    print(\"-----------------------------------\")\n",
    "    \n",
    "\n",
    "@evaluate_server_model\n",
    "def evaluate_global_model(server_flex_model: FlexModel, test_data=None):\n",
    "    preds = server_flex_model.model.predict(test_data.X_data)\n",
    "    score_model(test_data.y_data, preds)\n",
    "\n",
    "servers.map(evaluate_global_model, test_data=test_data)"
   ]
  },
  {
   "cell_type": "markdown",
   "metadata": {},
   "source": [
    "### Run the federated learning experiment for a few rounds\n",
    "\n",
    "Now, we can summarize the steps provided above and run the federated experiment for multiple rounds:"
   ]
  },
  {
   "cell_type": "code",
   "execution_count": null,
   "metadata": {},
   "outputs": [],
   "source": [
    "n_rounds = 5\n",
    "p = FlexPool.client_server_architecture(\n",
    "    flex_dataset, init_func=build_server_model, n_clusters=3\n",
    ")\n",
    "servers = p.servers\n",
    "clients = p.clients\n",
    "aggregators = p.aggregators\n",
    "\n",
    "for i in range(n_rounds):\n",
    "    servers.map(copy_server_model_to_clients, clients)\n",
    "    clients.map(train)\n",
    "    aggregators.map(get_clients_weights, clients)\n",
    "    aggregators.map(aggregate)\n",
    "    aggregators.map(set_agreggated_weights_to_server, servers)\n",
    "\n",
    "print(\"Federated model scores\")\n",
    "servers.map(evaluate_global_model, test_data=test_data)"
   ]
  }
 ],
 "metadata": {
  "kernelspec": {
   "display_name": "Python 3.9.5 64-bit",
   "language": "python",
   "name": "python3"
  },
  "language_info": {
   "codemirror_mode": {
    "name": "ipython",
    "version": 3
   },
   "file_extension": ".py",
   "mimetype": "text/x-python",
   "name": "python",
   "nbconvert_exporter": "python",
   "pygments_lexer": "ipython3",
   "version": "3.9.5"
  },
  "orig_nbformat": 4,
  "vscode": {
   "interpreter": {
    "hash": "f9f85f796d01129d0dd105a088854619f454435301f6ffec2fea96ecbd9be4ac"
   }
  }
 },
 "nbformat": 4,
 "nbformat_minor": 2
}
