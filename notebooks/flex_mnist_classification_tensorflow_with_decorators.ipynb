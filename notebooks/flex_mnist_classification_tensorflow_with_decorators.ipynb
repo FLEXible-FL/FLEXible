{
 "cells": [
  {
   "cell_type": "code",
   "execution_count": null,
   "metadata": {},
   "outputs": [],
   "source": [
    "from copy import deepcopy\n",
    "import numpy as np\n",
    "\n",
    "import tensorflow as tf\n",
    "import tensorflow_datasets as tfds\n",
    "\n",
    "import matplotlib.pyplot as plt\n",
    "\n",
    "print(\"Version: \", tf.__version__)\n",
    "print(\"Eager mode: \", tf.executing_eagerly())\n",
    "print(\"GPU is\", \"available\" if tf.config.list_physical_devices('GPU') else \"NOT AVAILABLE\")"
   ]
  },
  {
   "cell_type": "code",
   "execution_count": null,
   "metadata": {},
   "outputs": [],
   "source": [
    "from flex.data import FedDataDistribution, Dataset\n",
    "import numpy as np\n",
    "\n",
    "flex_dataset, test_data =  FedDataDistribution.FederatedEMNIST(return_test=True)\n",
    "\n",
    "def remove_writer_from_y_data(client_dataset: Dataset):\n",
    "    new_x_data = client_dataset.X_data\n",
    "    new_y_data = np.asarray([y[0] for y in client_dataset.y_data])  # each label is a tuple (mnist_label, writer), so we remove the writer\n",
    "    return Dataset(new_x_data, new_y_data)\n",
    "\n",
    "flex_dataset = flex_dataset.map(remove_writer_from_y_data)"
   ]
  },
  {
   "cell_type": "code",
   "execution_count": null,
   "metadata": {},
   "outputs": [],
   "source": [
    "from flex.pool import init_server_model\n",
    "from flex.pool import FlexPool, FlexModel\n",
    "\n",
    "def build_server_model(*args):\n",
    "    flex_model = FlexModel()\n",
    "\n",
    "    flex_model.model = tf.keras.models.Sequential([\n",
    "    tf.keras.layers.Flatten(input_shape=(28, 28)),\n",
    "    tf.keras.layers.Dense(128, activation='relu'),\n",
    "    #tf.keras.layers.Dropout(0.2),\n",
    "    tf.keras.layers.Dense(10, activation='softmax')\n",
    "    ])\n",
    "\n",
    "    flex_model.model.compile(optimizer='adam',\n",
    "                loss='sparse_categorical_crossentropy',\n",
    "                metrics=['accuracy'])\n",
    "\n",
    "    return flex_model\n",
    "\n",
    "p = FlexPool.client_server_architecture(flex_dataset, init_func=build_server_model)\n",
    "\n",
    "clients = p.clients\n",
    "servers = p.servers\n",
    "aggregators = p.aggregators\n",
    "\n",
    "print(f\"Number of nodes in the pool {len(p)}: {len(servers)} servers plus {len(clients)} clients. The server is also an aggregator\")"
   ]
  },
  {
   "cell_type": "markdown",
   "metadata": {},
   "source": [
    "We also implement the possibility of select a subsample of the clients in the training process."
   ]
  },
  {
   "cell_type": "code",
   "execution_count": null,
   "metadata": {},
   "outputs": [],
   "source": [
    "#Filter clients\n",
    "filtered_pool = p.filter(node_dropout=0.9)\n",
    "\n",
    "clients = filtered_pool.clients\n",
    "total_clients = p.clients\n",
    "servers = p.servers\n",
    "aggregators = p.aggregators\n",
    "\n",
    "\n",
    "print(f\"Number of nodes in the pool {len(p)}: {len(servers)} servers plus {len(clients)} clients. The server is also an aggregator\")\n",
    "print(f\"Number of nodes in the pool {len(p)}: {len(servers)} servers plus {len(total_clients)} clients. The server is also an aggregator\")\n"
   ]
  },
  {
   "cell_type": "code",
   "execution_count": null,
   "metadata": {},
   "outputs": [],
   "source": [
    "import copy\n",
    "\n",
    "from flex.pool import deploy_server_model\n",
    "\n",
    "@deploy_server_model\n",
    "def copy_server_model_to_clients(server_flex_model: FlexModel):\n",
    "    flex_model = FlexModel()\n",
    "    for k, v in server_flex_model.items():\n",
    "        flex_model[k] = copy.deepcopy(v)\n",
    "\n",
    "    return flex_model\n",
    "\n",
    "servers.map(copy_server_model_to_clients, clients)"
   ]
  },
  {
   "cell_type": "code",
   "execution_count": null,
   "metadata": {},
   "outputs": [],
   "source": [
    "from flex.data import Dataset\n",
    "\n",
    "def train(client_flex_model: FlexModel, client_data: Dataset):\n",
    "    client_flex_model.model.fit(client_data.X_data, client_data.y_data)\n",
    "\n",
    "clients.map(train)"
   ]
  },
  {
   "cell_type": "code",
   "execution_count": null,
   "metadata": {},
   "outputs": [],
   "source": [
    "from flex.pool import collect_clients_weights\n",
    "\n",
    "@collect_clients_weights\n",
    "def get_clients_weights(client_flex_model: FlexModel):\n",
    "    return client_flex_model.model.get_weights()\n",
    "\n",
    "aggregators.map(get_clients_weights, clients)"
   ]
  },
  {
   "cell_type": "code",
   "execution_count": null,
   "metadata": {},
   "outputs": [],
   "source": [
    "from flex.pool import aggregate_weights\n",
    "import numpy as np\n",
    "\n",
    "@aggregate_weights\n",
    "def aggregate(list_of_weights: list):\n",
    "    return np.mean(np.array(list_of_weights), axis=0)\n",
    "\n",
    "# Aggregate weights\n",
    "aggregators.map(aggregate)"
   ]
  },
  {
   "cell_type": "code",
   "execution_count": null,
   "metadata": {},
   "outputs": [],
   "source": [
    "from flex.pool import set_aggregated_weights\n",
    "\n",
    "@set_aggregated_weights\n",
    "def set_agreggated_weights_to_server(server_flex_model: FlexModel, aggregated_weights):\n",
    "    server_flex_model.model.set_weights(aggregated_weights) \n",
    "\n",
    "# Set aggregated weights in the server model\n",
    "aggregators.map(set_agreggated_weights_to_server, servers)"
   ]
  },
  {
   "cell_type": "code",
   "execution_count": null,
   "metadata": {},
   "outputs": [],
   "source": [
    "from flex.pool import evaluate_server_model\n",
    "\n",
    "from sklearn import metrics\n",
    "\n",
    "def score_model(labels, preds):\n",
    "    preds = np.argmax(preds, axis=1)\n",
    "    accuracy = metrics.accuracy_score(labels, preds)\n",
    "    recall = metrics.recall_score(labels, preds, average='macro')\n",
    "    precision = metrics.precision_score(labels, preds, average='macro')\n",
    "    f1 = metrics.f1_score(labels, preds, average='macro')\n",
    "\n",
    "    results = accuracy, recall, precision, f1\n",
    "    \n",
    "    print(\"-------------------------------------\")\n",
    "    print(\"Accuracy: {},\\nRecall: {},\\nPrecision: {},\\nMacro F1: {}\".format(*results))\n",
    "    print(\"-----------------------------------\")\n",
    "    \n",
    "\n",
    "@evaluate_server_model\n",
    "def evaluate_global_model(server_flex_model: FlexModel, test_data=None):\n",
    "    preds = server_flex_model.model.predict(test_data.X_data)\n",
    "    score_model(test_data.y_data, preds)\n",
    "\n",
    "servers.map(evaluate_global_model, test_data=test_data)"
   ]
  },
  {
   "cell_type": "markdown",
   "metadata": {},
   "source": [
    "### Run the federated learning experiment for a few rounds\n",
    "\n",
    "Now, we can summarize the steps provided above and run the federated experiment for multiple rounds:"
   ]
  },
  {
   "cell_type": "code",
   "execution_count": null,
   "metadata": {},
   "outputs": [],
   "source": [
    "n_rounds = 5\n",
    "p = FlexPool.client_server_architecture(\n",
    "    flex_dataset, init_func=build_server_model\n",
    ")\n",
    "\n",
    "filtered_pool = p.filter(clients_dropout=0.8)\n",
    "\n",
    "servers = p.servers\n",
    "clients = filtered_pool.clients\n",
    "aggregators = p.aggregators\n",
    "\n",
    "for i in range(n_rounds):\n",
    "    servers.map(copy_server_model_to_clients, clients)\n",
    "    clients.map(train)\n",
    "    aggregators.map(get_clients_weights, clients)\n",
    "    aggregators.map(aggregate)\n",
    "    aggregators.map(set_agreggated_weights_to_server, servers)\n",
    "\n",
    "print(\"Federated model scores\")\n",
    "servers.map(evaluate_global_model, test_data=test_data)"
   ]
  },
  {
   "cell_type": "code",
   "execution_count": null,
   "metadata": {},
   "outputs": [],
   "source": []
  }
 ],
 "metadata": {
  "kernelspec": {
   "display_name": "Python 3.9.13 ('snowflakes')",
   "language": "python",
   "name": "python3"
  },
  "language_info": {
   "codemirror_mode": {
    "name": "ipython",
    "version": 3
   },
   "file_extension": ".py",
   "mimetype": "text/x-python",
   "name": "python",
   "nbconvert_exporter": "python",
   "pygments_lexer": "ipython3",
   "version": "3.9.13"
  },
  "orig_nbformat": 4,
  "vscode": {
   "interpreter": {
    "hash": "e566fdd1bb8982d94cfadd1b83b7d24c79e08c8cc9caeab62a639b678958baae"
   }
  }
 },
 "nbformat": 4,
 "nbformat_minor": 2
}
