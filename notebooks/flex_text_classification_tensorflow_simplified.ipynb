{
 "cells": [
  {
   "cell_type": "code",
   "execution_count": 1,
   "metadata": {},
   "outputs": [
    {
     "name": "stdout",
     "output_type": "stream",
     "text": [
      "Version:  2.9.2\n",
      "Eager mode:  True\n",
      "Hub version:  0.12.0\n",
      "GPU is available\n"
     ]
    }
   ],
   "source": [
    "from copy import deepcopy\n",
    "import numpy as np\n",
    "\n",
    "import tensorflow as tf\n",
    "import tensorflow_hub as hub\n",
    "import tensorflow_datasets as tfds\n",
    "\n",
    "import matplotlib.pyplot as plt\n",
    "\n",
    "print(\"Version: \", tf.__version__)\n",
    "print(\"Eager mode: \", tf.executing_eagerly())\n",
    "print(\"Hub version: \", hub.__version__)\n",
    "print(\"GPU is\", \"available\" if tf.config.list_physical_devices('GPU') else \"NOT AVAILABLE\")"
   ]
  },
  {
   "cell_type": "code",
   "execution_count": 2,
   "metadata": {},
   "outputs": [
    {
     "name": "stdout",
     "output_type": "stream",
     "text": [
      "Metal device set to: Apple M1 Pro\n",
      "\n",
      "systemMemory: 32.00 GB\n",
      "maxCacheSize: 10.67 GB\n",
      "\n"
     ]
    },
    {
     "name": "stderr",
     "output_type": "stream",
     "text": [
      "2022-10-14 08:33:32.524086: W tensorflow/core/platform/profile_utils/cpu_utils.cc:128] Failed to get CPU frequency: 0 Hz\n"
     ]
    }
   ],
   "source": [
    "train_data, test_data = tfds.load(name=\"imdb_reviews\", split=[\"train\", \"test\"], \n",
    "                                    batch_size=-1, as_supervised=True)"
   ]
  },
  {
   "cell_type": "code",
   "execution_count": 3,
   "metadata": {},
   "outputs": [],
   "source": [
    "from flex.data import FlexDataObject\n",
    "\n",
    "flex_data = FlexDataObject.from_tfds_dataset(train_data)"
   ]
  },
  {
   "cell_type": "code",
   "execution_count": 4,
   "metadata": {},
   "outputs": [],
   "source": [
    "from flex.data import FlexDatasetConfig, FlexDataDistribution\n",
    "\n",
    "config = FlexDatasetConfig(seed=0)\n",
    "config.n_clients = 2\n",
    "config.replacement = False # ensure that clients do not share any data\n",
    "config.client_names = ['client1', 'client2'] # Optional\n",
    "flex_dataset = FlexDataDistribution.from_config(cdata=flex_data, config=config)"
   ]
  },
  {
   "cell_type": "code",
   "execution_count": 5,
   "metadata": {},
   "outputs": [],
   "source": [
    "from flex.data import FlexDataDistribution\n",
    "\n",
    "flex_dataset = FlexDataDistribution.iid_distribution(flex_data, n_clients=2)"
   ]
  },
  {
   "cell_type": "markdown",
   "metadata": {},
   "source": [
    "# Primitive Functions"
   ]
  },
  {
   "cell_type": "code",
   "execution_count": 6,
   "metadata": {},
   "outputs": [],
   "source": [
    "from flex.pool.flex_primitives import initialize_server_model\n",
    "from flex.pool.flex_primitives import deploy_global_model_to_clients\n",
    "from flex.pool.flex_primitives import deploy_model_to_clients\n",
    "from flex.pool.flex_primitives import collect_weights\n",
    "from flex.pool.flex_primitives import aggregate_weights\n",
    "from flex.pool.flex_primitives import evaluate_model\n",
    "from flex.pool.flex_primitives import train"
   ]
  },
  {
   "cell_type": "code",
   "execution_count": 7,
   "metadata": {},
   "outputs": [],
   "source": [
    "# Defining the model\n",
    "\n",
    "def define_model(*args):\n",
    "    model = \"https://tfhub.dev/google/nnlm-en-dim50-with-normalization/2\"\n",
    "    hub_layer = hub.KerasLayer(model, input_shape=[], dtype=tf.string, trainable=True)\n",
    "    model = tf.keras.Sequential()\n",
    "    model.add(hub_layer)\n",
    "    model.add(tf.keras.layers.Dense(16, activation='relu'))\n",
    "    model.add(tf.keras.layers.Dense(1))\n",
    "    model.compile(optimizer='adam',\n",
    "                    loss=tf.losses.BinaryCrossentropy(from_logits=True),\n",
    "                    metrics=[tf.metrics.BinaryAccuracy(threshold=0.0, name='accuracy')])\n",
    "    return model"
   ]
  },
  {
   "cell_type": "code",
   "execution_count": 8,
   "metadata": {},
   "outputs": [
    {
     "name": "stdout",
     "output_type": "stream",
     "text": [
      "Initializing server model.\n"
     ]
    }
   ],
   "source": [
    "from flex.pool import FlexPool\n",
    "\n",
    "flex_pool = FlexPool.client_server_architecture(fed_dataset=flex_dataset, init_func=initialize_server_model, model=define_model, verbose=1, model_params=[])"
   ]
  },
  {
   "cell_type": "code",
   "execution_count": 9,
   "metadata": {},
   "outputs": [
    {
     "name": "stdout",
     "output_type": "stream",
     "text": [
      "Server node is indentified by ['server']\n",
      "Client nodes are identified by ['client_0', 'client_1']\n"
     ]
    }
   ],
   "source": [
    "clients = flex_pool.clients\n",
    "server = flex_pool.servers\n",
    "print(f\"Server node is indentified by {server.actor_ids}\")\n",
    "print(f\"Client nodes are identified by {clients.actor_ids}\")"
   ]
  },
  {
   "cell_type": "code",
   "execution_count": 10,
   "metadata": {},
   "outputs": [
    {
     "name": "stdout",
     "output_type": "stream",
     "text": [
      "Initializing model at a client\n",
      "INFO:tensorflow:Assets written to: ram://2f1e61e7-e777-4a5f-93fa-129491310e87/assets\n"
     ]
    },
    {
     "name": "stderr",
     "output_type": "stream",
     "text": [
      "INFO:tensorflow:Assets written to: ram://2f1e61e7-e777-4a5f-93fa-129491310e87/assets\n"
     ]
    },
    {
     "name": "stdout",
     "output_type": "stream",
     "text": [
      "INFO:tensorflow:Assets written to: ram://17b2d811-b023-45ed-8073-98a342e3e287/assets\n"
     ]
    },
    {
     "name": "stderr",
     "output_type": "stream",
     "text": [
      "INFO:tensorflow:Assets written to: ram://17b2d811-b023-45ed-8073-98a342e3e287/assets\n"
     ]
    },
    {
     "data": {
      "text/plain": [
       "[None]"
      ]
     },
     "execution_count": 10,
     "metadata": {},
     "output_type": "execute_result"
    }
   ],
   "source": [
    "server.map(deploy_model_to_clients, clients, verbose=1)"
   ]
  },
  {
   "cell_type": "code",
   "execution_count": 11,
   "metadata": {},
   "outputs": [
    {
     "name": "stdout",
     "output_type": "stream",
     "text": [
      "Epoch 1/2\n",
      "25/25 [==============================] - 3s 88ms/step - loss: 0.6186 - accuracy: 0.6833\n",
      "Epoch 2/2\n",
      "25/25 [==============================] - 2s 75ms/step - loss: 0.4963 - accuracy: 0.7974\n",
      "Epoch 1/2\n",
      "25/25 [==============================] - 2s 81ms/step - loss: 0.6178 - accuracy: 0.6869\n",
      "Epoch 2/2\n",
      "25/25 [==============================] - 2s 78ms/step - loss: 0.4918 - accuracy: 0.8042\n"
     ]
    },
    {
     "data": {
      "text/plain": [
       "[None, None]"
      ]
     },
     "execution_count": 11,
     "metadata": {},
     "output_type": "execute_result"
    }
   ],
   "source": [
    "clients.map(train, batch_size=512, epochs=2)"
   ]
  },
  {
   "cell_type": "code",
   "execution_count": 12,
   "metadata": {},
   "outputs": [],
   "source": [
    "aggregator = flex_pool.aggregators\n"
   ]
  },
  {
   "cell_type": "code",
   "execution_count": 14,
   "metadata": {},
   "outputs": [
    {
     "data": {
      "text/plain": [
       "[None, None]"
      ]
     },
     "execution_count": 14,
     "metadata": {},
     "output_type": "execute_result"
    }
   ],
   "source": [
    "clients.map(collect_weights, aggregator)"
   ]
  },
  {
   "cell_type": "code",
   "execution_count": 15,
   "metadata": {},
   "outputs": [],
   "source": [
    "def fed_avg(agg_model):\n",
    "    return np.mean(np.array(agg_model), axis=0)"
   ]
  },
  {
   "cell_type": "code",
   "execution_count": 16,
   "metadata": {},
   "outputs": [
    {
     "name": "stdout",
     "output_type": "stream",
     "text": [
      "Aggregating weights\n"
     ]
    },
    {
     "name": "stderr",
     "output_type": "stream",
     "text": [
      "/var/folders/9d/8sk2j5nd30v6mvx2vx61hp980000gn/T/ipykernel_87007/2831934502.py:2: VisibleDeprecationWarning: Creating an ndarray from ragged nested sequences (which is a list-or-tuple of lists-or-tuples-or ndarrays with different lengths or shapes) is deprecated. If you meant to do this, you must specify 'dtype=object' when creating the ndarray.\n",
      "  return np.mean(np.array(agg_model), axis=0)\n"
     ]
    },
    {
     "data": {
      "text/plain": [
       "[None]"
      ]
     },
     "execution_count": 16,
     "metadata": {},
     "output_type": "execute_result"
    }
   ],
   "source": [
    "aggregator.map(aggregate_weights, verbose=1, func_aggregate=fed_avg)"
   ]
  },
  {
   "cell_type": "code",
   "execution_count": 17,
   "metadata": {},
   "outputs": [
    {
     "data": {
      "text/plain": [
       "[None]"
      ]
     },
     "execution_count": 17,
     "metadata": {},
     "output_type": "execute_result"
    }
   ],
   "source": [
    "server.map(deploy_global_model_to_clients, clients)"
   ]
  },
  {
   "cell_type": "code",
   "execution_count": 18,
   "metadata": {},
   "outputs": [],
   "source": [
    "test_examples, test_labels = test_data"
   ]
  },
  {
   "cell_type": "code",
   "execution_count": 19,
   "metadata": {},
   "outputs": [
    {
     "name": "stdout",
     "output_type": "stream",
     "text": [
      "Evaluating model at server\n",
      "782/782 [==============================] - 6s 8ms/step - loss: 0.4717 - accuracy: 0.8066\n",
      "Results on test data: [0.4716694951057434, 0.8065600395202637]\n"
     ]
    },
    {
     "data": {
      "text/plain": [
       "[None]"
      ]
     },
     "execution_count": 19,
     "metadata": {},
     "output_type": "execute_result"
    }
   ],
   "source": [
    "server.map(evaluate_model, test_examples=test_examples, test_labels=test_labels)"
   ]
  },
  {
   "cell_type": "code",
   "execution_count": 20,
   "metadata": {},
   "outputs": [
    {
     "name": "stdout",
     "output_type": "stream",
     "text": [
      "Evaluating model at client.\n",
      "391/391 [==============================] - 3s 8ms/step - loss: 0.4329 - accuracy: 0.8458\n",
      "Results at client on client's data: [0.4328932762145996, 0.8457600474357605]\n",
      "782/782 [==============================] - 5s 7ms/step - loss: 0.4717 - accuracy: 0.8066\n",
      "Results on test data: [0.4716694951057434, 0.8065600395202637]\n",
      "Evaluating model at client.\n",
      "391/391 [==============================] - 3s 8ms/step - loss: 0.4299 - accuracy: 0.8482\n",
      "Results at client on client's data: [0.4298538565635681, 0.848240077495575]\n",
      "782/782 [==============================] - 6s 7ms/step - loss: 0.4717 - accuracy: 0.8066\n",
      "Results on test data: [0.4716694951057434, 0.8065600395202637]\n"
     ]
    },
    {
     "data": {
      "text/plain": [
       "[None, None]"
      ]
     },
     "execution_count": 20,
     "metadata": {},
     "output_type": "execute_result"
    }
   ],
   "source": [
    "clients.map(evaluate_model, test_examples=test_examples, test_labels=test_labels)"
   ]
  },
  {
   "cell_type": "markdown",
   "metadata": {},
   "source": [
    "# Putting it all together"
   ]
  },
  {
   "cell_type": "code",
   "execution_count": 21,
   "metadata": {},
   "outputs": [],
   "source": [
    "def train_n_rounds(n_rounds, batch_size, epochs):  \n",
    "    pool = FlexPool.client_server_architecture(fed_dataset=flex_dataset, init_func=initialize_server_model, model=define_model, verbose=1, model_params=[])\n",
    "    pool.servers.map(deploy_model_to_clients, pool.clients, verbose=1)\n",
    "    for i in range(n_rounds):\n",
    "        print(f\"\\nRunning round: {i}\\n\")\n",
    "        clients.map(train, batch_size=512, epochs=2)\n",
    "        pool.clients.map(train, batch_size=batch_size, epochs=epochs, verbose=1)\n",
    "        pool.clients.map(evaluate_model, test_examples=test_examples, test_labels=test_labels)\n",
    "        pool.clients.map(collect_weights, pool.aggregators, verbose=1)\n",
    "        pool.aggregators.map(aggregate_weights, verbose=1, func_aggregate=fed_avg)\n",
    "        pool.servers.map(deploy_global_model_to_clients, pool.clients, verbose=1)\n",
    "        pool.servers.map(evaluate_model, test_examples=test_examples, test_labels=test_labels)"
   ]
  },
  {
   "cell_type": "code",
   "execution_count": 22,
   "metadata": {},
   "outputs": [
    {
     "name": "stdout",
     "output_type": "stream",
     "text": [
      "Initializing server model.\n",
      "Initializing model at a client\n",
      "INFO:tensorflow:Assets written to: ram://dbe806d5-0614-4991-bcb7-6d7af03f69a2/assets\n"
     ]
    },
    {
     "name": "stderr",
     "output_type": "stream",
     "text": [
      "INFO:tensorflow:Assets written to: ram://dbe806d5-0614-4991-bcb7-6d7af03f69a2/assets\n"
     ]
    },
    {
     "name": "stdout",
     "output_type": "stream",
     "text": [
      "INFO:tensorflow:Assets written to: ram://dd62fbc4-5c38-40e4-b780-81d6b6d5758a/assets\n"
     ]
    },
    {
     "name": "stderr",
     "output_type": "stream",
     "text": [
      "INFO:tensorflow:Assets written to: ram://dd62fbc4-5c38-40e4-b780-81d6b6d5758a/assets\n"
     ]
    },
    {
     "name": "stdout",
     "output_type": "stream",
     "text": [
      "\n",
      "Running round: 0\n",
      "\n",
      "Epoch 1/2\n",
      "25/25 [==============================] - 5s 134ms/step - loss: 0.3892 - accuracy: 0.8650\n",
      "Epoch 2/2\n",
      "25/25 [==============================] - 3s 112ms/step - loss: 0.2935 - accuracy: 0.9082\n",
      "Epoch 1/2\n",
      "25/25 [==============================] - 4s 128ms/step - loss: 0.3816 - accuracy: 0.8682\n",
      "Epoch 2/2\n",
      "25/25 [==============================] - 3s 112ms/step - loss: 0.2839 - accuracy: 0.9092\n",
      "Training model at client.\n",
      "Epoch 1/10\n",
      "25/25 [==============================] - 4s 125ms/step - loss: 0.6895 - accuracy: 0.5669\n",
      "Epoch 2/10\n",
      "25/25 [==============================] - 2s 88ms/step - loss: 0.5643 - accuracy: 0.7835\n",
      "Epoch 3/10\n",
      "25/25 [==============================] - 2s 92ms/step - loss: 0.4320 - accuracy: 0.8504\n",
      "Epoch 4/10\n",
      "25/25 [==============================] - 2s 89ms/step - loss: 0.3118 - accuracy: 0.8984\n",
      "Epoch 5/10\n",
      "25/25 [==============================] - 2s 91ms/step - loss: 0.2248 - accuracy: 0.9311\n",
      "Epoch 6/10\n",
      "25/25 [==============================] - 2s 91ms/step - loss: 0.1657 - accuracy: 0.9536\n",
      "Epoch 7/10\n",
      "25/25 [==============================] - 2s 89ms/step - loss: 0.1219 - accuracy: 0.9696\n",
      "Epoch 8/10\n",
      "25/25 [==============================] - 2s 90ms/step - loss: 0.0899 - accuracy: 0.9808\n",
      "Epoch 9/10\n",
      "25/25 [==============================] - 2s 81ms/step - loss: 0.0661 - accuracy: 0.9886\n",
      "Epoch 10/10\n",
      "25/25 [==============================] - 2s 83ms/step - loss: 0.0492 - accuracy: 0.9934\n",
      "Training model at client.\n",
      "Epoch 1/10\n",
      "25/25 [==============================] - 3s 100ms/step - loss: 0.6909 - accuracy: 0.5634\n",
      "Epoch 2/10\n",
      "25/25 [==============================] - 2s 91ms/step - loss: 0.5688 - accuracy: 0.7782\n",
      "Epoch 3/10\n",
      "25/25 [==============================] - 3s 104ms/step - loss: 0.4386 - accuracy: 0.8475\n",
      "Epoch 4/10\n",
      "25/25 [==============================] - 3s 101ms/step - loss: 0.3181 - accuracy: 0.8972\n",
      "Epoch 5/10\n",
      "25/25 [==============================] - 2s 96ms/step - loss: 0.2287 - accuracy: 0.9301\n",
      "Epoch 6/10\n",
      "25/25 [==============================] - 2s 94ms/step - loss: 0.1675 - accuracy: 0.9524\n",
      "Epoch 7/10\n",
      "25/25 [==============================] - 2s 99ms/step - loss: 0.1231 - accuracy: 0.9690\n",
      "Epoch 8/10\n",
      "25/25 [==============================] - 2s 88ms/step - loss: 0.0901 - accuracy: 0.9806\n",
      "Epoch 9/10\n",
      "25/25 [==============================] - 2s 94ms/step - loss: 0.0666 - accuracy: 0.9878\n",
      "Epoch 10/10\n",
      "25/25 [==============================] - 2s 91ms/step - loss: 0.0492 - accuracy: 0.9930\n",
      "Evaluating model at client.\n",
      "391/391 [==============================] - 5s 11ms/step - loss: 0.0395 - accuracy: 0.9962\n",
      "Results at client on client's data: [0.03954304754734039, 0.996160089969635]\n",
      "782/782 [==============================] - 6s 8ms/step - loss: 0.3106 - accuracy: 0.8723\n",
      "Results on test data: [0.3106180429458618, 0.8722800612449646]\n",
      "Evaluating model at client.\n",
      "391/391 [==============================] - 4s 9ms/step - loss: 0.0396 - accuracy: 0.9962\n",
      "Results at client on client's data: [0.03963291272521019, 0.996160089969635]\n",
      "782/782 [==============================] - 6s 8ms/step - loss: 0.3036 - accuracy: 0.8746\n",
      "Results on test data: [0.3036060035228729, 0.8746400475502014]\n",
      "Collecting weights.\n",
      "Collecting weights.\n",
      "Aggregating weights\n",
      "Deploying the global model on the clients.\n"
     ]
    },
    {
     "name": "stderr",
     "output_type": "stream",
     "text": [
      "/var/folders/9d/8sk2j5nd30v6mvx2vx61hp980000gn/T/ipykernel_87007/2831934502.py:2: VisibleDeprecationWarning: Creating an ndarray from ragged nested sequences (which is a list-or-tuple of lists-or-tuples-or ndarrays with different lengths or shapes) is deprecated. If you meant to do this, you must specify 'dtype=object' when creating the ndarray.\n",
      "  return np.mean(np.array(agg_model), axis=0)\n"
     ]
    },
    {
     "name": "stdout",
     "output_type": "stream",
     "text": [
      "Evaluating model at server\n",
      "782/782 [==============================] - 7s 9ms/step - loss: 0.2940 - accuracy: 0.8787\n",
      "Results on test data: [0.294033020734787, 0.8787200450897217]\n",
      "\n",
      "Running round: 1\n",
      "\n",
      "Epoch 1/2\n",
      "25/25 [==============================] - 3s 94ms/step - loss: 0.2214 - accuracy: 0.9334\n",
      "Epoch 2/2\n",
      "25/25 [==============================] - 2s 94ms/step - loss: 0.1674 - accuracy: 0.9524\n",
      "Epoch 1/2\n",
      "25/25 [==============================] - 3s 105ms/step - loss: 0.2107 - accuracy: 0.9374\n",
      "Epoch 2/2\n",
      "25/25 [==============================] - 3s 106ms/step - loss: 0.1572 - accuracy: 0.9574\n",
      "Training model at client.\n",
      "Epoch 1/10\n",
      "25/25 [==============================] - 3s 97ms/step - loss: 0.0712 - accuracy: 0.9823\n",
      "Epoch 2/10\n",
      "25/25 [==============================] - 3s 102ms/step - loss: 0.0475 - accuracy: 0.9928\n",
      "Epoch 3/10\n",
      "25/25 [==============================] - 3s 104ms/step - loss: 0.0332 - accuracy: 0.9966\n",
      "Epoch 4/10\n",
      "25/25 [==============================] - 2s 94ms/step - loss: 0.0244 - accuracy: 0.9983\n",
      "Epoch 5/10\n",
      "25/25 [==============================] - 2s 97ms/step - loss: 0.0184 - accuracy: 0.9992\n",
      "Epoch 6/10\n",
      "25/25 [==============================] - 3s 102ms/step - loss: 0.0143 - accuracy: 0.9996\n",
      "Epoch 7/10\n",
      "25/25 [==============================] - 2s 90ms/step - loss: 0.0114 - accuracy: 0.9998\n",
      "Epoch 8/10\n",
      "25/25 [==============================] - 2s 92ms/step - loss: 0.0092 - accuracy: 0.9998\n",
      "Epoch 9/10\n",
      "25/25 [==============================] - 2s 90ms/step - loss: 0.0076 - accuracy: 1.0000\n",
      "Epoch 10/10\n",
      "25/25 [==============================] - 2s 85ms/step - loss: 0.0064 - accuracy: 1.0000\n",
      "Training model at client.\n",
      "Epoch 1/10\n",
      "25/25 [==============================] - 3s 98ms/step - loss: 0.0693 - accuracy: 0.9822\n",
      "Epoch 2/10\n",
      "25/25 [==============================] - 2s 91ms/step - loss: 0.0466 - accuracy: 0.9925\n",
      "Epoch 3/10\n",
      "25/25 [==============================] - 2s 92ms/step - loss: 0.0327 - accuracy: 0.9968\n",
      "Epoch 4/10\n",
      "25/25 [==============================] - 2s 91ms/step - loss: 0.0240 - accuracy: 0.9982\n",
      "Epoch 5/10\n",
      "25/25 [==============================] - 2s 95ms/step - loss: 0.0185 - accuracy: 0.9991\n",
      "Epoch 6/10\n",
      "25/25 [==============================] - 2s 90ms/step - loss: 0.0143 - accuracy: 0.9994\n",
      "Epoch 7/10\n",
      "25/25 [==============================] - 2s 91ms/step - loss: 0.0113 - accuracy: 0.9996\n",
      "Epoch 8/10\n",
      "25/25 [==============================] - 2s 96ms/step - loss: 0.0091 - accuracy: 0.9998\n",
      "Epoch 9/10\n",
      "25/25 [==============================] - 2s 85ms/step - loss: 0.0075 - accuracy: 1.0000\n",
      "Epoch 10/10\n",
      "25/25 [==============================] - 2s 91ms/step - loss: 0.0063 - accuracy: 1.0000\n",
      "Evaluating model at client.\n",
      "391/391 [==============================] - 3s 7ms/step - loss: 0.0057 - accuracy: 1.0000\n",
      "Results at client on client's data: [0.005717723164707422, 1.0000001192092896]\n",
      "782/782 [==============================] - 5s 6ms/step - loss: 0.3756 - accuracy: 0.8718\n",
      "Results on test data: [0.3755691349506378, 0.8718400597572327]\n",
      "Evaluating model at client.\n",
      "391/391 [==============================] - 2s 6ms/step - loss: 0.0056 - accuracy: 1.0000\n",
      "Results at client on client's data: [0.005554398521780968, 1.0000001192092896]\n",
      "782/782 [==============================] - 5s 6ms/step - loss: 0.3691 - accuracy: 0.8719\n",
      "Results on test data: [0.36908599734306335, 0.871880054473877]\n",
      "Collecting weights.\n",
      "Collecting weights.\n",
      "Aggregating weights\n",
      "Deploying the global model on the clients.\n",
      "Evaluating model at server\n",
      "782/782 [==============================] - 5s 7ms/step - loss: 0.3597 - accuracy: 0.8749\n",
      "Results on test data: [0.3597337007522583, 0.8748800754547119]\n",
      "\n",
      "Running round: 2\n",
      "\n",
      "Epoch 1/2\n",
      "25/25 [==============================] - 3s 103ms/step - loss: 0.1261 - accuracy: 0.9679\n",
      "Epoch 2/2\n",
      "25/25 [==============================] - 2s 95ms/step - loss: 0.0937 - accuracy: 0.9790\n",
      "Epoch 1/2\n",
      "25/25 [==============================] - 3s 98ms/step - loss: 0.1165 - accuracy: 0.9721\n",
      "Epoch 2/2\n",
      "25/25 [==============================] - 2s 94ms/step - loss: 0.0859 - accuracy: 0.9821\n",
      "Training model at client.\n",
      "Epoch 1/10\n",
      "25/25 [==============================] - 2s 93ms/step - loss: 0.0186 - accuracy: 0.9964\n",
      "Epoch 2/10\n",
      "25/25 [==============================] - 2s 96ms/step - loss: 0.0097 - accuracy: 0.9997\n",
      "Epoch 3/10\n",
      "25/25 [==============================] - 2s 89ms/step - loss: 0.0070 - accuracy: 1.0000\n",
      "Epoch 4/10\n",
      "25/25 [==============================] - 2s 86ms/step - loss: 0.0055 - accuracy: 1.0000\n",
      "Epoch 5/10\n",
      "25/25 [==============================] - 2s 86ms/step - loss: 0.0046 - accuracy: 1.0000\n",
      "Epoch 6/10\n",
      "25/25 [==============================] - 2s 88ms/step - loss: 0.0039 - accuracy: 1.0000\n",
      "Epoch 7/10\n",
      "25/25 [==============================] - 2s 89ms/step - loss: 0.0033 - accuracy: 1.0000\n",
      "Epoch 8/10\n",
      "25/25 [==============================] - 2s 90ms/step - loss: 0.0029 - accuracy: 1.0000\n",
      "Epoch 9/10\n",
      "25/25 [==============================] - 2s 88ms/step - loss: 0.0026 - accuracy: 1.0000\n",
      "Epoch 10/10\n",
      "25/25 [==============================] - 2s 88ms/step - loss: 0.0023 - accuracy: 1.0000\n",
      "Training model at client.\n",
      "Epoch 1/10\n",
      "25/25 [==============================] - 2s 92ms/step - loss: 0.0187 - accuracy: 0.9958\n",
      "Epoch 2/10\n",
      "25/25 [==============================] - 3s 105ms/step - loss: 0.0101 - accuracy: 0.9995\n",
      "Epoch 3/10\n",
      "25/25 [==============================] - 2s 92ms/step - loss: 0.0071 - accuracy: 0.9998\n",
      "Epoch 4/10\n",
      "25/25 [==============================] - 2s 90ms/step - loss: 0.0055 - accuracy: 1.0000\n",
      "Epoch 5/10\n",
      "25/25 [==============================] - 2s 92ms/step - loss: 0.0045 - accuracy: 1.0000\n",
      "Epoch 6/10\n",
      "25/25 [==============================] - 2s 98ms/step - loss: 0.0039 - accuracy: 1.0000\n",
      "Epoch 7/10\n",
      "25/25 [==============================] - 2s 97ms/step - loss: 0.0033 - accuracy: 1.0000\n",
      "Epoch 8/10\n",
      "25/25 [==============================] - 2s 98ms/step - loss: 0.0029 - accuracy: 1.0000\n",
      "Epoch 9/10\n",
      "25/25 [==============================] - 2s 93ms/step - loss: 0.0026 - accuracy: 1.0000\n",
      "Epoch 10/10\n",
      "25/25 [==============================] - 2s 93ms/step - loss: 0.0023 - accuracy: 1.0000\n",
      "Evaluating model at client.\n",
      "391/391 [==============================] - 3s 7ms/step - loss: 0.0021 - accuracy: 1.0000\n",
      "Results at client on client's data: [0.0021325249690562487, 1.0000001192092896]\n",
      "782/782 [==============================] - 5s 6ms/step - loss: 0.4294 - accuracy: 0.8696\n",
      "Results on test data: [0.4293733239173889, 0.8695600628852844]\n",
      "Evaluating model at client.\n",
      "391/391 [==============================] - 3s 7ms/step - loss: 0.0021 - accuracy: 1.0000\n",
      "Results at client on client's data: [0.002114729955792427, 1.0000001192092896]\n",
      "782/782 [==============================] - 5s 7ms/step - loss: 0.4236 - accuracy: 0.8695\n",
      "Results on test data: [0.42357337474823, 0.8695200681686401]\n",
      "Collecting weights.\n",
      "Collecting weights.\n",
      "Aggregating weights\n",
      "Deploying the global model on the clients.\n",
      "Evaluating model at server\n",
      "782/782 [==============================] - 5s 6ms/step - loss: 0.4192 - accuracy: 0.8707\n",
      "Results on test data: [0.4191651940345764, 0.870680034160614]\n",
      "\n",
      "Running round: 3\n",
      "\n",
      "Epoch 1/2\n",
      "25/25 [==============================] - 3s 107ms/step - loss: 0.0701 - accuracy: 0.9866\n",
      "Epoch 2/2\n",
      "25/25 [==============================] - 2s 97ms/step - loss: 0.0522 - accuracy: 0.9924\n",
      "Epoch 1/2\n",
      "25/25 [==============================] - 3s 102ms/step - loss: 0.0634 - accuracy: 0.9892\n",
      "Epoch 2/2\n",
      "25/25 [==============================] - 3s 101ms/step - loss: 0.0474 - accuracy: 0.9937\n",
      "Training model at client.\n",
      "Epoch 1/10\n",
      "25/25 [==============================] - 2s 93ms/step - loss: 0.0063 - accuracy: 0.9993\n",
      "Epoch 2/10\n",
      "25/25 [==============================] - 2s 98ms/step - loss: 0.0036 - accuracy: 1.0000\n",
      "Epoch 3/10\n",
      "25/25 [==============================] - 2s 91ms/step - loss: 0.0027 - accuracy: 1.0000\n",
      "Epoch 4/10\n",
      "25/25 [==============================] - 2s 92ms/step - loss: 0.0023 - accuracy: 1.0000\n",
      "Epoch 5/10\n",
      "25/25 [==============================] - 2s 98ms/step - loss: 0.0020 - accuracy: 1.0000\n",
      "Epoch 6/10\n",
      "25/25 [==============================] - 2s 90ms/step - loss: 0.0017 - accuracy: 1.0000\n",
      "Epoch 7/10\n",
      "25/25 [==============================] - 2s 95ms/step - loss: 0.0016 - accuracy: 1.0000\n",
      "Epoch 8/10\n",
      "25/25 [==============================] - 2s 92ms/step - loss: 0.0014 - accuracy: 1.0000\n",
      "Epoch 9/10\n",
      "25/25 [==============================] - 2s 95ms/step - loss: 0.0013 - accuracy: 1.0000\n",
      "Epoch 10/10\n",
      "25/25 [==============================] - 2s 99ms/step - loss: 0.0012 - accuracy: 1.0000\n",
      "Training model at client.\n",
      "Epoch 1/10\n",
      "25/25 [==============================] - 2s 90ms/step - loss: 0.0062 - accuracy: 0.9994\n",
      "Epoch 2/10\n",
      "25/25 [==============================] - 2s 90ms/step - loss: 0.0036 - accuracy: 1.0000\n",
      "Epoch 3/10\n",
      "25/25 [==============================] - 2s 91ms/step - loss: 0.0027 - accuracy: 1.0000\n",
      "Epoch 4/10\n",
      "25/25 [==============================] - 2s 95ms/step - loss: 0.0023 - accuracy: 1.0000\n",
      "Epoch 5/10\n",
      "25/25 [==============================] - 2s 87ms/step - loss: 0.0020 - accuracy: 1.0000\n",
      "Epoch 6/10\n",
      "25/25 [==============================] - 2s 91ms/step - loss: 0.0018 - accuracy: 1.0000\n",
      "Epoch 7/10\n",
      "25/25 [==============================] - 2s 92ms/step - loss: 0.0016 - accuracy: 1.0000\n",
      "Epoch 8/10\n",
      "25/25 [==============================] - 2s 92ms/step - loss: 0.0014 - accuracy: 1.0000\n",
      "Epoch 9/10\n",
      "25/25 [==============================] - 2s 92ms/step - loss: 0.0013 - accuracy: 1.0000\n",
      "Epoch 10/10\n",
      "25/25 [==============================] - 2s 92ms/step - loss: 0.0012 - accuracy: 1.0000\n",
      "Evaluating model at client.\n",
      "391/391 [==============================] - 3s 6ms/step - loss: 0.0011 - accuracy: 1.0000\n",
      "Results at client on client's data: [0.0010967720299959183, 1.0000001192092896]\n",
      "782/782 [==============================] - 5s 6ms/step - loss: 0.4721 - accuracy: 0.8681\n",
      "Results on test data: [0.47213345766067505, 0.8680800795555115]\n",
      "Evaluating model at client.\n",
      "391/391 [==============================] - 2s 6ms/step - loss: 0.0011 - accuracy: 1.0000\n",
      "Results at client on client's data: [0.0010929993586614728, 1.0000001192092896]\n",
      "782/782 [==============================] - 5s 6ms/step - loss: 0.4695 - accuracy: 0.8670\n",
      "Results on test data: [0.4694569706916809, 0.8670400381088257]\n",
      "Collecting weights.\n",
      "Collecting weights.\n",
      "Aggregating weights\n",
      "Deploying the global model on the clients.\n",
      "Evaluating model at server\n",
      "782/782 [==============================] - 5s 6ms/step - loss: 0.4664 - accuracy: 0.8684\n",
      "Results on test data: [0.466404527425766, 0.8684000372886658]\n"
     ]
    }
   ],
   "source": [
    "train_n_rounds(n_rounds=4, batch_size=512, epochs=10)"
   ]
  },
  {
   "cell_type": "markdown",
   "metadata": {},
   "source": [
    "# END"
   ]
  },
  {
   "cell_type": "markdown",
   "metadata": {},
   "source": []
  }
 ],
 "metadata": {
  "interpreter": {
   "hash": "c16e99a8b049a3c2333046a7199861cad81dc55b88bad19d31a6edddeb39a963"
  },
  "kernelspec": {
   "display_name": "Python 3.9.13 ('flex')",
   "language": "python",
   "name": "python3"
  },
  "language_info": {
   "codemirror_mode": {
    "name": "ipython",
    "version": 3
   },
   "file_extension": ".py",
   "mimetype": "text/x-python",
   "name": "python",
   "nbconvert_exporter": "python",
   "pygments_lexer": "ipython3",
   "version": "3.9.13"
  },
  "orig_nbformat": 4
 },
 "nbformat": 4,
 "nbformat_minor": 2
}
